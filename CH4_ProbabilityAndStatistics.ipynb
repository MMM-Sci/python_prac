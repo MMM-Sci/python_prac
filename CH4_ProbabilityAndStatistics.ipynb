{
  "nbformat": 4,
  "nbformat_minor": 0,
  "metadata": {
    "colab": {
      "name": "CH4_ProbabilityAndStatistics",
      "provenance": [],
      "authorship_tag": "ABX9TyMJgEp2Lh0V2dmtiFO91avK"
    },
    "kernelspec": {
      "name": "python3",
      "display_name": "Python 3"
    },
    "language_info": {
      "name": "python"
    }
  },
  "cells": [
    {
      "cell_type": "code",
      "metadata": {
        "id": "f7qBESTEm_Jz"
      },
      "source": [
        "import numpy as np\n",
        "import scipy as sp\n",
        "import pandas as pd\n",
        "\n",
        "import matplotlib.pyplot as plt\n",
        "import matplotlib as mpl\n",
        "import seaborn as sns\n",
        "%matplotlib inline\n",
        "\n",
        "%precision 3\n",
        "\n",
        "np.random.seed(0)"
      ],
      "execution_count": 1,
      "outputs": []
    },
    {
      "cell_type": "code",
      "metadata": {
        "colab": {
          "base_uri": "https://localhost:8080/"
        },
        "id": "yoN6qUFSnt8A",
        "outputId": "ed3700fd-c504-4197-8261-3843d4edd514"
      },
      "source": [
        "# p.103\n",
        "\n",
        "dice = [1,2,3,4,5,6]\n",
        "print('무작위 추출', np.random.choice(dice, 1))"
      ],
      "execution_count": 8,
      "outputs": [
        {
          "output_type": "stream",
          "text": [
            "무작위 추출 [1]\n"
          ],
          "name": "stdout"
        }
      ]
    },
    {
      "cell_type": "code",
      "metadata": {
        "colab": {
          "base_uri": "https://localhost:8080/"
        },
        "id": "O2db76qtn9M5",
        "outputId": "a15efc39-0b48-4133-8392-b989338c4bf9"
      },
      "source": [
        "# p.105-106\n",
        "calc_steps = 1000\n",
        "dice_rolls = np.random.choice(dice, calc_steps)\n",
        "\n",
        "for i in range(1, 7):\n",
        "    p = len(dice_rolls[dice_rolls ==i ])/calc_steps\n",
        "    print(i, '가 나올 확률', p)"
      ],
      "execution_count": 15,
      "outputs": [
        {
          "output_type": "stream",
          "text": [
            "1 가 나올 확률 0.195\n",
            "2 가 나올 확률 0.167\n",
            "3 가 나올 확률 0.157\n",
            "4 가 나올 확률 0.142\n",
            "5 가 나올 확률 0.167\n",
            "6 가 나올 확률 0.172\n"
          ],
          "name": "stdout"
        }
      ]
    },
    {
      "cell_type": "code",
      "metadata": {
        "colab": {
          "base_uri": "https://localhost:8080/"
        },
        "id": "hny04hKHoeNm",
        "outputId": "fe6d3b53-6570-494c-baf2-837ea66efa71"
      },
      "source": [
        "# p.108 Practice\n",
        "\n",
        "# 4-1.\n",
        "coin = np.array([0,1])\n",
        "\n",
        "repeat = 1000\n",
        "coin_flip = np.random.choice(coin, repeat)\n",
        "\n",
        "for i in coin:\n",
        "    p = len(coin_flip[coin_flip == i])/repeat\n",
        "    print(i, '가 나올 확률', p)"
      ],
      "execution_count": 26,
      "outputs": [
        {
          "output_type": "stream",
          "text": [
            "0 가 나올 확률 0.503\n",
            "1 가 나올 확률 0.497\n"
          ],
          "name": "stdout"
        }
      ]
    },
    {
      "cell_type": "code",
      "metadata": {
        "colab": {
          "base_uri": "https://localhost:8080/"
        },
        "id": "53hrbb_Fppai",
        "outputId": "d65d4783-9aff-4a39-fdfa-d5f4224babfc"
      },
      "source": [
        "# p.108 Practice\n",
        "\n",
        "# 4-2. 차례로 제비를 뽑았을 때\n",
        "    # A 1000개 중 100개\n",
        "    # B  999개 중  99개\n",
        "\n",
        "print('AB 모두 당첨될 확률', (100/1000)*((100-1)/(1000-1)))"
      ],
      "execution_count": 29,
      "outputs": [
        {
          "output_type": "stream",
          "text": [
            "AB 모두 당첨될 확률 0.009909909909909911\n"
          ],
          "name": "stdout"
        }
      ]
    },
    {
      "cell_type": "code",
      "metadata": {
        "colab": {
          "base_uri": "https://localhost:8080/"
        },
        "id": "MlXb2RPuqHk4",
        "outputId": "1e5f8f67-ddd1-4b9b-bfd8-9c24faf08d3e"
      },
      "source": [
        "# p.108 Practice\n",
        "\n",
        "# 4-3. 질병 베이즈\n",
        "\n",
        "Y_positive = (0.1/100)   * (99/100)   # 질병에 걸린 사람이 양성 반응을 보임\n",
        "Y_negative = (0.1/100)   * (1-99/100) # 질병에 걸린 사람이 음성 반응을 보임\n",
        "N_positive = (1-0.1/100) * (3/100)    # 질병에 걸리지 않은 사람이 양성 반응을 보임\n",
        "N_negative = (1-0.1/100) * (1-3/100)  # 질병에 걸리지 않은 사람이 음성 반응을 보임\n",
        "\n",
        "print(\"양성 반응 보일 때 질병에 걸렸을 확률\", Y_positive/(Y_positive + N_positive), 3)"
      ],
      "execution_count": 42,
      "outputs": [
        {
          "output_type": "stream",
          "text": [
            "양성 반응 보일 때 질병에 걸렸을 확률 0.03197674418604651 3\n"
          ],
          "name": "stdout"
        }
      ]
    },
    {
      "cell_type": "code",
      "metadata": {
        "id": "Jfa3h618qp7c"
      },
      "source": [
        ""
      ],
      "execution_count": null,
      "outputs": []
    }
  ]
}