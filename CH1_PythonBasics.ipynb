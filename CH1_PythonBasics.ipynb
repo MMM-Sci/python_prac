{
  "nbformat": 4,
  "nbformat_minor": 0,
  "metadata": {
    "colab": {
      "name": "CH1_PythonBasics.ipynb",
      "provenance": [],
      "authorship_tag": "ABX9TyNNxWua/X5dHMhn9hMmOAGf"
    },
    "kernelspec": {
      "name": "python3",
      "display_name": "Python 3"
    },
    "language_info": {
      "name": "python"
    }
  },
  "cells": [
    {
      "cell_type": "markdown",
      "metadata": {
        "id": "0JDq9IqUerD2"
      },
      "source": [
        "# 데이터 과학 트레이닝 북\n",
        "\n",
        "* CH1 책의 개요와 파이썬 기초"
      ]
    },
    {
      "cell_type": "code",
      "metadata": {
        "colab": {
          "base_uri": "https://localhost:8080/"
        },
        "id": "aEdAUqS8epMz",
        "outputId": "675505ba-3c4e-4c0e-a557-c3aa9445d74e"
      },
      "source": [
        "# p.8\n",
        "\n",
        "print('Hello, world !')"
      ],
      "execution_count": 1,
      "outputs": [
        {
          "output_type": "stream",
          "text": [
            "Hello, world !\n"
          ],
          "name": "stdout"
        }
      ]
    },
    {
      "cell_type": "code",
      "metadata": {
        "colab": {
          "base_uri": "https://localhost:8080/"
        },
        "id": "CLjzur68es2m",
        "outputId": "60bcacf4-3086-4e5d-9a8c-1b5ff7581557"
      },
      "source": [
        "# p.10\n",
        "\n",
        "print(1+1)\n",
        "print(2*5)\n",
        "print(10**3)"
      ],
      "execution_count": 2,
      "outputs": [
        {
          "output_type": "stream",
          "text": [
            "2\n",
            "10\n",
            "1000\n"
          ],
          "name": "stdout"
        }
      ]
    },
    {
      "cell_type": "code",
      "metadata": {
        "colab": {
          "base_uri": "https://localhost:8080/",
          "height": 297
        },
        "id": "txVdyzxPe5qs",
        "outputId": "21b71559-9d7d-406b-8de3-dde204203a01"
      },
      "source": [
        "# p.12-13\n",
        "\n",
        "msg = 'test'\n",
        "print(msg)\n",
        "print(msg[0])\n",
        "print(msg[1])\n",
        "print(msg[5])"
      ],
      "execution_count": 3,
      "outputs": [
        {
          "output_type": "stream",
          "text": [
            "test\n",
            "t\n",
            "e\n"
          ],
          "name": "stdout"
        },
        {
          "output_type": "error",
          "ename": "IndexError",
          "evalue": "ignored",
          "traceback": [
            "\u001b[0;31m---------------------------------------------------------------------------\u001b[0m",
            "\u001b[0;31mIndexError\u001b[0m                                Traceback (most recent call last)",
            "\u001b[0;32m<ipython-input-3-db57fe344cc3>\u001b[0m in \u001b[0;36m<module>\u001b[0;34m()\u001b[0m\n\u001b[1;32m      5\u001b[0m \u001b[0mprint\u001b[0m\u001b[0;34m(\u001b[0m\u001b[0mmsg\u001b[0m\u001b[0;34m[\u001b[0m\u001b[0;36m0\u001b[0m\u001b[0;34m]\u001b[0m\u001b[0;34m)\u001b[0m\u001b[0;34m\u001b[0m\u001b[0;34m\u001b[0m\u001b[0m\n\u001b[1;32m      6\u001b[0m \u001b[0mprint\u001b[0m\u001b[0;34m(\u001b[0m\u001b[0mmsg\u001b[0m\u001b[0;34m[\u001b[0m\u001b[0;36m1\u001b[0m\u001b[0;34m]\u001b[0m\u001b[0;34m)\u001b[0m\u001b[0;34m\u001b[0m\u001b[0;34m\u001b[0m\u001b[0m\n\u001b[0;32m----> 7\u001b[0;31m \u001b[0mprint\u001b[0m\u001b[0;34m(\u001b[0m\u001b[0mmsg\u001b[0m\u001b[0;34m[\u001b[0m\u001b[0;36m5\u001b[0m\u001b[0;34m]\u001b[0m\u001b[0;34m)\u001b[0m\u001b[0;34m\u001b[0m\u001b[0;34m\u001b[0m\u001b[0m\n\u001b[0m",
            "\u001b[0;31mIndexError\u001b[0m: string index out of range"
          ]
        }
      ]
    },
    {
      "cell_type": "code",
      "metadata": {
        "colab": {
          "base_uri": "https://localhost:8080/"
        },
        "id": "h8lhThyee7de",
        "outputId": "6b1d549d-dc4f-4882-e99f-0d8e6d428f9e"
      },
      "source": [
        "#p.13-14\n",
        "\n",
        "data = 1\n",
        "print(data)\n",
        "\n",
        "data = data + 10\n",
        "print(data)"
      ],
      "execution_count": 4,
      "outputs": [
        {
          "output_type": "stream",
          "text": [
            "1\n",
            "11\n"
          ],
          "name": "stdout"
        }
      ]
    },
    {
      "cell_type": "code",
      "metadata": {
        "colab": {
          "base_uri": "https://localhost:8080/"
        },
        "id": "YYma8WDSe-DM",
        "outputId": "8ba91266-e9b1-47db-91e0-07aabd133469"
      },
      "source": [
        "# p.14\n",
        "\n",
        "# 예약어를 표시하는 명령어\n",
        "__import__('keyword').kwlist"
      ],
      "execution_count": 5,
      "outputs": [
        {
          "output_type": "execute_result",
          "data": {
            "text/plain": [
              "['False',\n",
              " 'None',\n",
              " 'True',\n",
              " 'and',\n",
              " 'as',\n",
              " 'assert',\n",
              " 'async',\n",
              " 'await',\n",
              " 'break',\n",
              " 'class',\n",
              " 'continue',\n",
              " 'def',\n",
              " 'del',\n",
              " 'elif',\n",
              " 'else',\n",
              " 'except',\n",
              " 'finally',\n",
              " 'for',\n",
              " 'from',\n",
              " 'global',\n",
              " 'if',\n",
              " 'import',\n",
              " 'in',\n",
              " 'is',\n",
              " 'lambda',\n",
              " 'nonlocal',\n",
              " 'not',\n",
              " 'or',\n",
              " 'pass',\n",
              " 'raise',\n",
              " 'return',\n",
              " 'try',\n",
              " 'while',\n",
              " 'with',\n",
              " 'yield']"
            ]
          },
          "metadata": {
            "tags": []
          },
          "execution_count": 5
        }
      ]
    },
    {
      "cell_type": "code",
      "metadata": {
        "colab": {
          "base_uri": "https://localhost:8080/"
        },
        "id": "UOJEIXMNe__J",
        "outputId": "0120efdf-7247-453b-d75a-81f0b3ac2aaf"
      },
      "source": [
        "# p.15\n",
        "\n",
        "# 내장형 함수를 표시하는 명령어\n",
        "dir(__builtins__)"
      ],
      "execution_count": 6,
      "outputs": [
        {
          "output_type": "execute_result",
          "data": {
            "text/plain": [
              "['ArithmeticError',\n",
              " 'AssertionError',\n",
              " 'AttributeError',\n",
              " 'BaseException',\n",
              " 'BlockingIOError',\n",
              " 'BrokenPipeError',\n",
              " 'BufferError',\n",
              " 'BytesWarning',\n",
              " 'ChildProcessError',\n",
              " 'ConnectionAbortedError',\n",
              " 'ConnectionError',\n",
              " 'ConnectionRefusedError',\n",
              " 'ConnectionResetError',\n",
              " 'DeprecationWarning',\n",
              " 'EOFError',\n",
              " 'Ellipsis',\n",
              " 'EnvironmentError',\n",
              " 'Exception',\n",
              " 'False',\n",
              " 'FileExistsError',\n",
              " 'FileNotFoundError',\n",
              " 'FloatingPointError',\n",
              " 'FutureWarning',\n",
              " 'GeneratorExit',\n",
              " 'IOError',\n",
              " 'ImportError',\n",
              " 'ImportWarning',\n",
              " 'IndentationError',\n",
              " 'IndexError',\n",
              " 'InterruptedError',\n",
              " 'IsADirectoryError',\n",
              " 'KeyError',\n",
              " 'KeyboardInterrupt',\n",
              " 'LookupError',\n",
              " 'MemoryError',\n",
              " 'ModuleNotFoundError',\n",
              " 'NameError',\n",
              " 'None',\n",
              " 'NotADirectoryError',\n",
              " 'NotImplemented',\n",
              " 'NotImplementedError',\n",
              " 'OSError',\n",
              " 'OverflowError',\n",
              " 'PendingDeprecationWarning',\n",
              " 'PermissionError',\n",
              " 'ProcessLookupError',\n",
              " 'RecursionError',\n",
              " 'ReferenceError',\n",
              " 'ResourceWarning',\n",
              " 'RuntimeError',\n",
              " 'RuntimeWarning',\n",
              " 'StopAsyncIteration',\n",
              " 'StopIteration',\n",
              " 'SyntaxError',\n",
              " 'SyntaxWarning',\n",
              " 'SystemError',\n",
              " 'SystemExit',\n",
              " 'TabError',\n",
              " 'TimeoutError',\n",
              " 'True',\n",
              " 'TypeError',\n",
              " 'UnboundLocalError',\n",
              " 'UnicodeDecodeError',\n",
              " 'UnicodeEncodeError',\n",
              " 'UnicodeError',\n",
              " 'UnicodeTranslateError',\n",
              " 'UnicodeWarning',\n",
              " 'UserWarning',\n",
              " 'ValueError',\n",
              " 'Warning',\n",
              " 'ZeroDivisionError',\n",
              " '__IPYTHON__',\n",
              " '__build_class__',\n",
              " '__debug__',\n",
              " '__doc__',\n",
              " '__import__',\n",
              " '__loader__',\n",
              " '__name__',\n",
              " '__package__',\n",
              " '__spec__',\n",
              " 'abs',\n",
              " 'all',\n",
              " 'any',\n",
              " 'ascii',\n",
              " 'bin',\n",
              " 'bool',\n",
              " 'breakpoint',\n",
              " 'bytearray',\n",
              " 'bytes',\n",
              " 'callable',\n",
              " 'chr',\n",
              " 'classmethod',\n",
              " 'compile',\n",
              " 'complex',\n",
              " 'copyright',\n",
              " 'credits',\n",
              " 'delattr',\n",
              " 'dict',\n",
              " 'dir',\n",
              " 'display',\n",
              " 'divmod',\n",
              " 'dreload',\n",
              " 'enumerate',\n",
              " 'eval',\n",
              " 'exec',\n",
              " 'execfile',\n",
              " 'filter',\n",
              " 'float',\n",
              " 'format',\n",
              " 'frozenset',\n",
              " 'get_ipython',\n",
              " 'getattr',\n",
              " 'globals',\n",
              " 'hasattr',\n",
              " 'hash',\n",
              " 'help',\n",
              " 'hex',\n",
              " 'id',\n",
              " 'input',\n",
              " 'int',\n",
              " 'isinstance',\n",
              " 'issubclass',\n",
              " 'iter',\n",
              " 'len',\n",
              " 'license',\n",
              " 'list',\n",
              " 'locals',\n",
              " 'map',\n",
              " 'max',\n",
              " 'memoryview',\n",
              " 'min',\n",
              " 'next',\n",
              " 'object',\n",
              " 'oct',\n",
              " 'open',\n",
              " 'ord',\n",
              " 'pow',\n",
              " 'print',\n",
              " 'property',\n",
              " 'range',\n",
              " 'repr',\n",
              " 'reversed',\n",
              " 'round',\n",
              " 'runfile',\n",
              " 'set',\n",
              " 'setattr',\n",
              " 'slice',\n",
              " 'sorted',\n",
              " 'staticmethod',\n",
              " 'str',\n",
              " 'sum',\n",
              " 'super',\n",
              " 'tuple',\n",
              " 'type',\n",
              " 'vars',\n",
              " 'zip']"
            ]
          },
          "metadata": {
            "tags": []
          },
          "execution_count": 6
        }
      ]
    },
    {
      "cell_type": "code",
      "metadata": {
        "colab": {
          "base_uri": "https://localhost:8080/"
        },
        "id": "sK-hnwBYfCXp",
        "outputId": "a9c3e013-13b5-408f-bd80-531f045613e8"
      },
      "source": [
        "# p.16\n",
        "\n",
        "data_list = [1, 2, 3, 4, 5, 6, 7, 8, 9, 10]\n",
        "print(data_list)\n",
        "\n",
        "print('변수 형: ', type(data_list))\n",
        "print('두 번째 원소:', data_list[1])\n",
        "print('원소의 개수:', len(data_list))"
      ],
      "execution_count": 15,
      "outputs": [
        {
          "output_type": "stream",
          "text": [
            "[1, 2, 3, 4, 5, 6, 7, 8, 9, 10]\n",
            "변수 형:  <class 'list'>\n",
            "두 번째 원소: 2\n",
            "원소의 개수: 10\n"
          ],
          "name": "stdout"
        }
      ]
    },
    {
      "cell_type": "code",
      "metadata": {
        "colab": {
          "base_uri": "https://localhost:8080/"
        },
        "id": "E1GjIsYshOaD",
        "outputId": "ef4b8405-b8c6-4264-bec9-18661d2e0622"
      },
      "source": [
        "# p.17\n",
        "\n",
        "# 리스트 자체가 두 번 생성 됨\n",
        "print(\"data_list*2\", data_list*2)"
      ],
      "execution_count": 16,
      "outputs": [
        {
          "output_type": "stream",
          "text": [
            "data_list*2 [1, 2, 3, 4, 5, 6, 7, 8, 9, 10, 1, 2, 3, 4, 5, 6, 7, 8, 9, 10]\n"
          ],
          "name": "stdout"
        }
      ]
    },
    {
      "cell_type": "code",
      "metadata": {
        "colab": {
          "base_uri": "https://localhost:8080/",
          "height": 441
        },
        "id": "cFhEvLt2hlrO",
        "outputId": "96588810-e5fe-4e14-a70d-4161e9a69d7c"
      },
      "source": [
        "# p.17 Let's Try\n",
        "\n",
        "data_list = [1, 2, 3, 4, 5, 6, 7, 8, 9, 10]\n",
        "print('original data_list      ', data_list)\n",
        "\n",
        "data_list.append(11)\n",
        "print('after .append(11)       ', data_list)\n",
        "\n",
        "data_list.remove(5)\n",
        "print('after .remove(5)        ', data_list)\n",
        "\n",
        "data_list.pop(2)\n",
        "print('after .pop(2)           ', data_list)\n",
        "\n",
        "del data_list[3]\n",
        "print('after del data_list[3]  ', data_list)\n",
        "\n",
        "data_list.insert(0, 20)\n",
        "print('after .insert(0, 20)    ', data_list)\n",
        "\n",
        "data_list.extend([30, 40])\n",
        "print('after .extend([30, 40]) ', data_list)\n",
        "\n",
        "print('data_list+[12, 13]      ', data_list+[12, 13])\n",
        "\n",
        "print('data_list-[12, 13]      ', data_list-[12, 13]) # 마이너스 연산은 안됨\n",
        "\n",
        "# cf. https://wikidocs.net/16040"
      ],
      "execution_count": 21,
      "outputs": [
        {
          "output_type": "stream",
          "text": [
            "original data_list       [1, 2, 3, 4, 5, 6, 7, 8, 9, 10]\n",
            "after .append(11)        [1, 2, 3, 4, 5, 6, 7, 8, 9, 10, 11]\n",
            "after .remove(5)         [1, 2, 3, 4, 6, 7, 8, 9, 10, 11]\n",
            "after .pop(2)            [1, 2, 4, 6, 7, 8, 9, 10, 11]\n",
            "after del data_list[3]   [1, 2, 4, 7, 8, 9, 10, 11]\n",
            "after .insert(0, 20)     [20, 1, 2, 4, 7, 8, 9, 10, 11]\n",
            "after .extend([30, 40])  [20, 1, 2, 4, 7, 8, 9, 10, 11, 30, 40]\n",
            "data_list+[12, 13]       [20, 1, 2, 4, 7, 8, 9, 10, 11, 30, 40, 12, 13]\n"
          ],
          "name": "stdout"
        },
        {
          "output_type": "error",
          "ename": "TypeError",
          "evalue": "ignored",
          "traceback": [
            "\u001b[0;31m---------------------------------------------------------------------------\u001b[0m",
            "\u001b[0;31mTypeError\u001b[0m                                 Traceback (most recent call last)",
            "\u001b[0;32m<ipython-input-21-673cd83d3dcf>\u001b[0m in \u001b[0;36m<module>\u001b[0;34m()\u001b[0m\n\u001b[1;32m     24\u001b[0m \u001b[0mprint\u001b[0m\u001b[0;34m(\u001b[0m\u001b[0;34m'data_list+[12, 13]      '\u001b[0m\u001b[0;34m,\u001b[0m \u001b[0mdata_list\u001b[0m\u001b[0;34m+\u001b[0m\u001b[0;34m[\u001b[0m\u001b[0;36m12\u001b[0m\u001b[0;34m,\u001b[0m \u001b[0;36m13\u001b[0m\u001b[0;34m]\u001b[0m\u001b[0;34m)\u001b[0m\u001b[0;34m\u001b[0m\u001b[0;34m\u001b[0m\u001b[0m\n\u001b[1;32m     25\u001b[0m \u001b[0;34m\u001b[0m\u001b[0m\n\u001b[0;32m---> 26\u001b[0;31m \u001b[0mprint\u001b[0m\u001b[0;34m(\u001b[0m\u001b[0;34m'data_list-[12, 13]      '\u001b[0m\u001b[0;34m,\u001b[0m \u001b[0mdata_list\u001b[0m\u001b[0;34m-\u001b[0m\u001b[0;34m[\u001b[0m\u001b[0;36m12\u001b[0m\u001b[0;34m,\u001b[0m \u001b[0;36m13\u001b[0m\u001b[0;34m]\u001b[0m\u001b[0;34m)\u001b[0m \u001b[0;31m# 마이너스 연산은 안됨\u001b[0m\u001b[0;34m\u001b[0m\u001b[0;34m\u001b[0m\u001b[0m\n\u001b[0m\u001b[1;32m     27\u001b[0m \u001b[0;34m\u001b[0m\u001b[0m\n\u001b[1;32m     28\u001b[0m \u001b[0;31m# cf. https://wikidocs.net/16040\u001b[0m\u001b[0;34m\u001b[0m\u001b[0;34m\u001b[0m\u001b[0;34m\u001b[0m\u001b[0m\n",
            "\u001b[0;31mTypeError\u001b[0m: unsupported operand type(s) for -: 'list' and 'list'"
          ]
        }
      ]
    },
    {
      "cell_type": "code",
      "metadata": {
        "colab": {
          "base_uri": "https://localhost:8080/"
        },
        "id": "_l78hBikivcd",
        "outputId": "20e705aa-fce1-4c9b-f51c-b9c422b87079"
      },
      "source": [
        "# p.18\n",
        "\n",
        "data_dic = {'apple' : 100,\n",
        "            'banana': 100,\n",
        "            'orange': 300,\n",
        "            'mango' : 400,\n",
        "            'melon' : 500}\n",
        "print(data_dic['melon'])"
      ],
      "execution_count": 26,
      "outputs": [
        {
          "output_type": "stream",
          "text": [
            "500\n"
          ],
          "name": "stdout"
        }
      ]
    },
    {
      "cell_type": "code",
      "metadata": {
        "colab": {
          "base_uri": "https://localhost:8080/"
        },
        "id": "adrHNjAElsoD",
        "outputId": "ddf72467-0eb5-469f-b985-76c61c1d7987"
      },
      "source": [
        "# p.18 Let's Try 0\n",
        "\n",
        "print(data_dic['orange'])\n",
        "print(data_dic['apple'] + data_dic['orange'])"
      ],
      "execution_count": 27,
      "outputs": [
        {
          "output_type": "stream",
          "text": [
            "300\n",
            "400\n"
          ],
          "name": "stdout"
        }
      ]
    },
    {
      "cell_type": "code",
      "metadata": {
        "colab": {
          "base_uri": "https://localhost:8080/"
        },
        "id": "e0rkLmUmomif",
        "outputId": "df7011fc-b4bf-4d85-d005-154082f8a2f5"
      },
      "source": [
        "# p.18 Let's Try 1\n",
        "\n",
        "data_dic = {'apple'  : 100,\n",
        "            'banana' : 100,\n",
        "            'orange' : 300,\n",
        "            'mango'  : 400,\n",
        "            'melon'  : 500}\n",
        "\n",
        "print('original data_dic\\n', data_dic)\n",
        "\n",
        "data_dic['apple'] = 200\n",
        "print(\"modifying the apple's value\\n\", data_dic)\n",
        "\n",
        "data_dic['grape'] = 200\n",
        "print(\"inserting a set (grape)\\n\", data_dic)\n",
        "\n",
        "del data_dic['mango']\n",
        "print(\"deleting the mango set\\n\", data_dic)\n",
        "\n",
        "data_dic.pop('melon')\n",
        "print(\"using the method .pop(melon)\\n\", data_dic)\n",
        "\n",
        "data_dic.update({'berry': 600})\n",
        "print(\"using the method .update({'berry': 600})\\n\", data_dic)\n",
        "\n",
        "# cf. https://devinside.tistory.com/161"
      ],
      "execution_count": 29,
      "outputs": [
        {
          "output_type": "stream",
          "text": [
            "original data_dic\n",
            " {'apple': 100, 'banana': 100, 'orange': 300, 'mango': 400, 'melon': 500}\n",
            "modifying the apple's value\n",
            " {'apple': 200, 'banana': 100, 'orange': 300, 'mango': 400, 'melon': 500}\n",
            "inserting a set (grape)\n",
            " {'apple': 200, 'banana': 100, 'orange': 300, 'mango': 400, 'melon': 500, 'grape': 200}\n",
            "deleting the mango set\n",
            " {'apple': 200, 'banana': 100, 'orange': 300, 'melon': 500, 'grape': 200}\n",
            "using the method .pop(melon)\n",
            " {'apple': 200, 'banana': 100, 'orange': 300, 'grape': 200}\n",
            "using the method .update({'berry': 600})\n",
            " {'apple': 200, 'banana': 100, 'orange': 300, 'grape': 200, 'berry': 600}\n"
          ],
          "name": "stdout"
        }
      ]
    },
    {
      "cell_type": "code",
      "metadata": {
        "colab": {
          "base_uri": "https://localhost:8080/"
        },
        "id": "QC-U-GVFqey8",
        "outputId": "4f3daaa9-2ece-4e53-f55c-aaf8a911292b"
      },
      "source": [
        "# p.19-20\n",
        "\n",
        "print(\"1==1\", 1==1)\n",
        "print(\"1==2\", 1==2)\n",
        "print(\"1!=2\", 1!=2)\n",
        "print(\"1>0\" , 1>0)\n",
        "print(\"1>2\" , 1>2)\n",
        "print(\"(1>0) and (10>5)\", (1>0) and (10>5))\n",
        "print(\"(1<0) or (10>5)\", (1<0) or (10>5))\n",
        "print(\"not (1<0)\", not (1<0))\n",
        "\n",
        "print(\"\\n(1>0) & (10>5)\", (1>0) & (10>5)) # just curious\n",
        "print(\"(1<0) | (10>5)\", (1<0) | (10>5))   # just curious"
      ],
      "execution_count": 34,
      "outputs": [
        {
          "output_type": "stream",
          "text": [
            "1==1 True\n",
            "1==2 False\n",
            "1!=2 True\n",
            "1>0 True\n",
            "1>2 False\n",
            "(1>0) and (10>5) True\n",
            "(1<0) or (10>5) True\n",
            "not (1<0) True\n",
            "\n",
            "(1>0) & (10>5) True\n",
            "(1<0) | (10>5) True\n"
          ],
          "name": "stdout"
        }
      ]
    },
    {
      "cell_type": "code",
      "metadata": {
        "id": "B8QKMpLvrSVy"
      },
      "source": [
        ""
      ],
      "execution_count": null,
      "outputs": []
    }
  ]
}