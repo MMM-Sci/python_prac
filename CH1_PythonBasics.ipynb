{
  "nbformat": 4,
  "nbformat_minor": 0,
  "metadata": {
    "colab": {
      "name": "CH1_PythonBasics.ipynb",
      "provenance": [],
      "authorship_tag": "ABX9TyMxkJdTlodVMGPQWuWWND/z"
    },
    "kernelspec": {
      "name": "python3",
      "display_name": "Python 3"
    },
    "language_info": {
      "name": "python"
    }
  },
  "cells": [
    {
      "cell_type": "markdown",
      "metadata": {
        "id": "0JDq9IqUerD2"
      },
      "source": [
        "# 데이터 과학 트레이닝 북\n",
        "\n",
        "* CH1 책의 개요와 파이썬 기초"
      ]
    },
    {
      "cell_type": "code",
      "metadata": {
        "colab": {
          "base_uri": "https://localhost:8080/"
        },
        "id": "aEdAUqS8epMz",
        "outputId": "227e1e97-b8b2-4fe5-d1c0-d4820e1b2dd6"
      },
      "source": [
        "# p.8\n",
        "\n",
        "print('Hello, world !')"
      ],
      "execution_count": 2,
      "outputs": [
        {
          "output_type": "stream",
          "text": [
            "Hello, world !\n"
          ],
          "name": "stdout"
        }
      ]
    },
    {
      "cell_type": "code",
      "metadata": {
        "colab": {
          "base_uri": "https://localhost:8080/"
        },
        "id": "CLjzur68es2m",
        "outputId": "d75f2c78-07fc-4c3d-93ef-d94cc2b59348"
      },
      "source": [
        "# p.10\n",
        "\n",
        "print(1+1)\n",
        "print(2*5)\n",
        "print(10**3)"
      ],
      "execution_count": 3,
      "outputs": [
        {
          "output_type": "stream",
          "text": [
            "2\n",
            "10\n",
            "1000\n"
          ],
          "name": "stdout"
        }
      ]
    },
    {
      "cell_type": "code",
      "metadata": {
        "colab": {
          "base_uri": "https://localhost:8080/",
          "height": 253
        },
        "id": "txVdyzxPe5qs",
        "outputId": "b56fc095-683a-4331-d0bb-9d0f3a1eec22"
      },
      "source": [
        "# p.12-13\n",
        "\n",
        "msg = 'test'\n",
        "print(msg)\n",
        "print(msg[0])\n",
        "print(msg[1])\n",
        "print(msg[5])"
      ],
      "execution_count": 4,
      "outputs": [
        {
          "output_type": "stream",
          "text": [
            "test\n",
            "t\n",
            "e\n"
          ],
          "name": "stdout"
        },
        {
          "output_type": "error",
          "ename": "IndexError",
          "evalue": "ignored",
          "traceback": [
            "\u001b[0;31m---------------------------------------------------------------------------\u001b[0m",
            "\u001b[0;31mIndexError\u001b[0m                                Traceback (most recent call last)",
            "\u001b[0;32m<ipython-input-4-db57fe344cc3>\u001b[0m in \u001b[0;36m<module>\u001b[0;34m()\u001b[0m\n\u001b[1;32m      5\u001b[0m \u001b[0mprint\u001b[0m\u001b[0;34m(\u001b[0m\u001b[0mmsg\u001b[0m\u001b[0;34m[\u001b[0m\u001b[0;36m0\u001b[0m\u001b[0;34m]\u001b[0m\u001b[0;34m)\u001b[0m\u001b[0;34m\u001b[0m\u001b[0;34m\u001b[0m\u001b[0m\n\u001b[1;32m      6\u001b[0m \u001b[0mprint\u001b[0m\u001b[0;34m(\u001b[0m\u001b[0mmsg\u001b[0m\u001b[0;34m[\u001b[0m\u001b[0;36m1\u001b[0m\u001b[0;34m]\u001b[0m\u001b[0;34m)\u001b[0m\u001b[0;34m\u001b[0m\u001b[0;34m\u001b[0m\u001b[0m\n\u001b[0;32m----> 7\u001b[0;31m \u001b[0mprint\u001b[0m\u001b[0;34m(\u001b[0m\u001b[0mmsg\u001b[0m\u001b[0;34m[\u001b[0m\u001b[0;36m5\u001b[0m\u001b[0;34m]\u001b[0m\u001b[0;34m)\u001b[0m\u001b[0;34m\u001b[0m\u001b[0;34m\u001b[0m\u001b[0m\n\u001b[0m",
            "\u001b[0;31mIndexError\u001b[0m: string index out of range"
          ]
        }
      ]
    },
    {
      "cell_type": "code",
      "metadata": {
        "colab": {
          "base_uri": "https://localhost:8080/"
        },
        "id": "h8lhThyee7de",
        "outputId": "af7366f8-829e-4476-deeb-ef43b6ab0da1"
      },
      "source": [
        "#p.13-14\n",
        "\n",
        "data = 1\n",
        "print(data)\n",
        "\n",
        "data = data + 10\n",
        "print(data)"
      ],
      "execution_count": 5,
      "outputs": [
        {
          "output_type": "stream",
          "text": [
            "1\n",
            "11\n"
          ],
          "name": "stdout"
        }
      ]
    },
    {
      "cell_type": "code",
      "metadata": {
        "colab": {
          "base_uri": "https://localhost:8080/"
        },
        "id": "YYma8WDSe-DM",
        "outputId": "ceb5e902-0554-42b4-97c1-fdd6b09db6d5"
      },
      "source": [
        "# p.14\n",
        "\n",
        "# 예약어를 표시하는 명령어\n",
        "__import__('keyword').kwlist"
      ],
      "execution_count": 6,
      "outputs": [
        {
          "output_type": "execute_result",
          "data": {
            "text/plain": [
              "['False',\n",
              " 'None',\n",
              " 'True',\n",
              " 'and',\n",
              " 'as',\n",
              " 'assert',\n",
              " 'async',\n",
              " 'await',\n",
              " 'break',\n",
              " 'class',\n",
              " 'continue',\n",
              " 'def',\n",
              " 'del',\n",
              " 'elif',\n",
              " 'else',\n",
              " 'except',\n",
              " 'finally',\n",
              " 'for',\n",
              " 'from',\n",
              " 'global',\n",
              " 'if',\n",
              " 'import',\n",
              " 'in',\n",
              " 'is',\n",
              " 'lambda',\n",
              " 'nonlocal',\n",
              " 'not',\n",
              " 'or',\n",
              " 'pass',\n",
              " 'raise',\n",
              " 'return',\n",
              " 'try',\n",
              " 'while',\n",
              " 'with',\n",
              " 'yield']"
            ]
          },
          "metadata": {
            "tags": []
          },
          "execution_count": 6
        }
      ]
    },
    {
      "cell_type": "code",
      "metadata": {
        "colab": {
          "base_uri": "https://localhost:8080/"
        },
        "id": "UOJEIXMNe__J",
        "outputId": "37af2980-7c4b-4c67-bf4b-d812a5b9ff7b"
      },
      "source": [
        "# p.15\n",
        "\n",
        "# 내장형 함수를 표시하는 명령어\n",
        "dir(__builtins__)"
      ],
      "execution_count": 7,
      "outputs": [
        {
          "output_type": "execute_result",
          "data": {
            "text/plain": [
              "['ArithmeticError',\n",
              " 'AssertionError',\n",
              " 'AttributeError',\n",
              " 'BaseException',\n",
              " 'BlockingIOError',\n",
              " 'BrokenPipeError',\n",
              " 'BufferError',\n",
              " 'BytesWarning',\n",
              " 'ChildProcessError',\n",
              " 'ConnectionAbortedError',\n",
              " 'ConnectionError',\n",
              " 'ConnectionRefusedError',\n",
              " 'ConnectionResetError',\n",
              " 'DeprecationWarning',\n",
              " 'EOFError',\n",
              " 'Ellipsis',\n",
              " 'EnvironmentError',\n",
              " 'Exception',\n",
              " 'False',\n",
              " 'FileExistsError',\n",
              " 'FileNotFoundError',\n",
              " 'FloatingPointError',\n",
              " 'FutureWarning',\n",
              " 'GeneratorExit',\n",
              " 'IOError',\n",
              " 'ImportError',\n",
              " 'ImportWarning',\n",
              " 'IndentationError',\n",
              " 'IndexError',\n",
              " 'InterruptedError',\n",
              " 'IsADirectoryError',\n",
              " 'KeyError',\n",
              " 'KeyboardInterrupt',\n",
              " 'LookupError',\n",
              " 'MemoryError',\n",
              " 'ModuleNotFoundError',\n",
              " 'NameError',\n",
              " 'None',\n",
              " 'NotADirectoryError',\n",
              " 'NotImplemented',\n",
              " 'NotImplementedError',\n",
              " 'OSError',\n",
              " 'OverflowError',\n",
              " 'PendingDeprecationWarning',\n",
              " 'PermissionError',\n",
              " 'ProcessLookupError',\n",
              " 'RecursionError',\n",
              " 'ReferenceError',\n",
              " 'ResourceWarning',\n",
              " 'RuntimeError',\n",
              " 'RuntimeWarning',\n",
              " 'StopAsyncIteration',\n",
              " 'StopIteration',\n",
              " 'SyntaxError',\n",
              " 'SyntaxWarning',\n",
              " 'SystemError',\n",
              " 'SystemExit',\n",
              " 'TabError',\n",
              " 'TimeoutError',\n",
              " 'True',\n",
              " 'TypeError',\n",
              " 'UnboundLocalError',\n",
              " 'UnicodeDecodeError',\n",
              " 'UnicodeEncodeError',\n",
              " 'UnicodeError',\n",
              " 'UnicodeTranslateError',\n",
              " 'UnicodeWarning',\n",
              " 'UserWarning',\n",
              " 'ValueError',\n",
              " 'Warning',\n",
              " 'ZeroDivisionError',\n",
              " '__IPYTHON__',\n",
              " '__build_class__',\n",
              " '__debug__',\n",
              " '__doc__',\n",
              " '__import__',\n",
              " '__loader__',\n",
              " '__name__',\n",
              " '__package__',\n",
              " '__spec__',\n",
              " 'abs',\n",
              " 'all',\n",
              " 'any',\n",
              " 'ascii',\n",
              " 'bin',\n",
              " 'bool',\n",
              " 'breakpoint',\n",
              " 'bytearray',\n",
              " 'bytes',\n",
              " 'callable',\n",
              " 'chr',\n",
              " 'classmethod',\n",
              " 'compile',\n",
              " 'complex',\n",
              " 'copyright',\n",
              " 'credits',\n",
              " 'delattr',\n",
              " 'dict',\n",
              " 'dir',\n",
              " 'display',\n",
              " 'divmod',\n",
              " 'dreload',\n",
              " 'enumerate',\n",
              " 'eval',\n",
              " 'exec',\n",
              " 'execfile',\n",
              " 'filter',\n",
              " 'float',\n",
              " 'format',\n",
              " 'frozenset',\n",
              " 'get_ipython',\n",
              " 'getattr',\n",
              " 'globals',\n",
              " 'hasattr',\n",
              " 'hash',\n",
              " 'help',\n",
              " 'hex',\n",
              " 'id',\n",
              " 'input',\n",
              " 'int',\n",
              " 'isinstance',\n",
              " 'issubclass',\n",
              " 'iter',\n",
              " 'len',\n",
              " 'license',\n",
              " 'list',\n",
              " 'locals',\n",
              " 'map',\n",
              " 'max',\n",
              " 'memoryview',\n",
              " 'min',\n",
              " 'next',\n",
              " 'object',\n",
              " 'oct',\n",
              " 'open',\n",
              " 'ord',\n",
              " 'pow',\n",
              " 'print',\n",
              " 'property',\n",
              " 'range',\n",
              " 'repr',\n",
              " 'reversed',\n",
              " 'round',\n",
              " 'runfile',\n",
              " 'set',\n",
              " 'setattr',\n",
              " 'slice',\n",
              " 'sorted',\n",
              " 'staticmethod',\n",
              " 'str',\n",
              " 'sum',\n",
              " 'super',\n",
              " 'tuple',\n",
              " 'type',\n",
              " 'vars',\n",
              " 'zip']"
            ]
          },
          "metadata": {
            "tags": []
          },
          "execution_count": 7
        }
      ]
    },
    {
      "cell_type": "code",
      "metadata": {
        "colab": {
          "base_uri": "https://localhost:8080/"
        },
        "id": "sK-hnwBYfCXp",
        "outputId": "074300b5-5cfe-427c-b61a-832d12c07d81"
      },
      "source": [
        "# p.16\n",
        "\n",
        "data_list = [1, 2, 3, 4, 5, 6, 7, 8, 9, 10]\n",
        "print(data_list)\n",
        "\n",
        "print('변수 형: ', type(data_list))\n",
        "print('두 번째 원소:', data_list[1])\n",
        "print('원소의 개수:', len(data_list))"
      ],
      "execution_count": 8,
      "outputs": [
        {
          "output_type": "stream",
          "text": [
            "[1, 2, 3, 4, 5, 6, 7, 8, 9, 10]\n",
            "변수 형:  <class 'list'>\n",
            "두 번째 원소: 2\n",
            "원소의 개수: 10\n"
          ],
          "name": "stdout"
        }
      ]
    },
    {
      "cell_type": "code",
      "metadata": {
        "colab": {
          "base_uri": "https://localhost:8080/"
        },
        "id": "E1GjIsYshOaD",
        "outputId": "71199fa8-37b9-4d11-9b61-d28d4f2ba1db"
      },
      "source": [
        "# p.17\n",
        "\n",
        "# 리스트 자체가 두 번 생성 됨\n",
        "print(\"data_list*2\", data_list*2)"
      ],
      "execution_count": 9,
      "outputs": [
        {
          "output_type": "stream",
          "text": [
            "data_list*2 [1, 2, 3, 4, 5, 6, 7, 8, 9, 10, 1, 2, 3, 4, 5, 6, 7, 8, 9, 10]\n"
          ],
          "name": "stdout"
        }
      ]
    },
    {
      "cell_type": "code",
      "metadata": {
        "colab": {
          "base_uri": "https://localhost:8080/",
          "height": 375
        },
        "id": "cFhEvLt2hlrO",
        "outputId": "f3152727-1764-4002-fac8-15be101ed39b"
      },
      "source": [
        "# p.17 Let's Try\n",
        "\n",
        "data_list = [1, 2, 3, 4, 5, 6, 7, 8, 9, 10]\n",
        "print('original data_list      ', data_list)\n",
        "\n",
        "data_list.append(11)\n",
        "print('after .append(11)       ', data_list)\n",
        "\n",
        "data_list.remove(5)\n",
        "print('after .remove(5)        ', data_list)\n",
        "\n",
        "data_list.pop(2)\n",
        "print('after .pop(2)           ', data_list)\n",
        "\n",
        "del data_list[3]\n",
        "print('after del data_list[3]  ', data_list)\n",
        "\n",
        "data_list.insert(0, 20)\n",
        "print('after .insert(0, 20)    ', data_list)\n",
        "\n",
        "data_list.extend([30, 40])\n",
        "print('after .extend([30, 40]) ', data_list)\n",
        "\n",
        "print('data_list+[12, 13]      ', data_list+[12, 13])\n",
        "\n",
        "print('data_list-[12, 13]      ', data_list-[12, 13]) # 마이너스 연산은 안됨\n",
        "\n",
        "# cf. https://wikidocs.net/16040"
      ],
      "execution_count": 10,
      "outputs": [
        {
          "output_type": "stream",
          "text": [
            "original data_list       [1, 2, 3, 4, 5, 6, 7, 8, 9, 10]\n",
            "after .append(11)        [1, 2, 3, 4, 5, 6, 7, 8, 9, 10, 11]\n",
            "after .remove(5)         [1, 2, 3, 4, 6, 7, 8, 9, 10, 11]\n",
            "after .pop(2)            [1, 2, 4, 6, 7, 8, 9, 10, 11]\n",
            "after del data_list[3]   [1, 2, 4, 7, 8, 9, 10, 11]\n",
            "after .insert(0, 20)     [20, 1, 2, 4, 7, 8, 9, 10, 11]\n",
            "after .extend([30, 40])  [20, 1, 2, 4, 7, 8, 9, 10, 11, 30, 40]\n",
            "data_list+[12, 13]       [20, 1, 2, 4, 7, 8, 9, 10, 11, 30, 40, 12, 13]\n"
          ],
          "name": "stdout"
        },
        {
          "output_type": "error",
          "ename": "TypeError",
          "evalue": "ignored",
          "traceback": [
            "\u001b[0;31m---------------------------------------------------------------------------\u001b[0m",
            "\u001b[0;31mTypeError\u001b[0m                                 Traceback (most recent call last)",
            "\u001b[0;32m<ipython-input-10-673cd83d3dcf>\u001b[0m in \u001b[0;36m<module>\u001b[0;34m()\u001b[0m\n\u001b[1;32m     24\u001b[0m \u001b[0mprint\u001b[0m\u001b[0;34m(\u001b[0m\u001b[0;34m'data_list+[12, 13]      '\u001b[0m\u001b[0;34m,\u001b[0m \u001b[0mdata_list\u001b[0m\u001b[0;34m+\u001b[0m\u001b[0;34m[\u001b[0m\u001b[0;36m12\u001b[0m\u001b[0;34m,\u001b[0m \u001b[0;36m13\u001b[0m\u001b[0;34m]\u001b[0m\u001b[0;34m)\u001b[0m\u001b[0;34m\u001b[0m\u001b[0;34m\u001b[0m\u001b[0m\n\u001b[1;32m     25\u001b[0m \u001b[0;34m\u001b[0m\u001b[0m\n\u001b[0;32m---> 26\u001b[0;31m \u001b[0mprint\u001b[0m\u001b[0;34m(\u001b[0m\u001b[0;34m'data_list-[12, 13]      '\u001b[0m\u001b[0;34m,\u001b[0m \u001b[0mdata_list\u001b[0m\u001b[0;34m-\u001b[0m\u001b[0;34m[\u001b[0m\u001b[0;36m12\u001b[0m\u001b[0;34m,\u001b[0m \u001b[0;36m13\u001b[0m\u001b[0;34m]\u001b[0m\u001b[0;34m)\u001b[0m \u001b[0;31m# 마이너스 연산은 안됨\u001b[0m\u001b[0;34m\u001b[0m\u001b[0;34m\u001b[0m\u001b[0m\n\u001b[0m\u001b[1;32m     27\u001b[0m \u001b[0;34m\u001b[0m\u001b[0m\n\u001b[1;32m     28\u001b[0m \u001b[0;31m# cf. https://wikidocs.net/16040\u001b[0m\u001b[0;34m\u001b[0m\u001b[0;34m\u001b[0m\u001b[0;34m\u001b[0m\u001b[0m\n",
            "\u001b[0;31mTypeError\u001b[0m: unsupported operand type(s) for -: 'list' and 'list'"
          ]
        }
      ]
    },
    {
      "cell_type": "code",
      "metadata": {
        "colab": {
          "base_uri": "https://localhost:8080/"
        },
        "id": "_l78hBikivcd",
        "outputId": "ec61069f-8403-4723-93e7-d41e7f853dd8"
      },
      "source": [
        "# p.18\n",
        "\n",
        "data_dic = {'apple' : 100,\n",
        "            'banana': 100,\n",
        "            'orange': 300,\n",
        "            'mango' : 400,\n",
        "            'melon' : 500}\n",
        "print(data_dic['melon'])"
      ],
      "execution_count": 11,
      "outputs": [
        {
          "output_type": "stream",
          "text": [
            "500\n"
          ],
          "name": "stdout"
        }
      ]
    },
    {
      "cell_type": "code",
      "metadata": {
        "colab": {
          "base_uri": "https://localhost:8080/"
        },
        "id": "adrHNjAElsoD",
        "outputId": "46232c88-1d50-4ca6-b59b-b29d5e72af1f"
      },
      "source": [
        "# p.18 Let's Try 0\n",
        "\n",
        "print(data_dic['orange'])\n",
        "print(data_dic['apple'] + data_dic['orange'])"
      ],
      "execution_count": 12,
      "outputs": [
        {
          "output_type": "stream",
          "text": [
            "300\n",
            "400\n"
          ],
          "name": "stdout"
        }
      ]
    },
    {
      "cell_type": "code",
      "metadata": {
        "colab": {
          "base_uri": "https://localhost:8080/"
        },
        "id": "e0rkLmUmomif",
        "outputId": "18354c2a-32fd-4ed9-a579-9fbbbe15a361"
      },
      "source": [
        "# p.18 Let's Try 1\n",
        "\n",
        "data_dic = {'apple'  : 100,\n",
        "            'banana' : 100,\n",
        "            'orange' : 300,\n",
        "            'mango'  : 400,\n",
        "            'melon'  : 500}\n",
        "\n",
        "print('original data_dic\\n', data_dic)\n",
        "\n",
        "data_dic['apple'] = 200\n",
        "print(\"modifying the apple's value\\n\", data_dic)\n",
        "\n",
        "data_dic['grape'] = 200\n",
        "print(\"inserting a set (grape)\\n\", data_dic)\n",
        "\n",
        "del data_dic['mango']\n",
        "print(\"deleting the mango set\\n\", data_dic)\n",
        "\n",
        "data_dic.pop('melon')\n",
        "print(\"using the method .pop(melon)\\n\", data_dic)\n",
        "\n",
        "data_dic.update({'berry': 600})\n",
        "print(\"using the method .update({'berry': 600})\\n\", data_dic)\n",
        "\n",
        "# cf. https://devinside.tistory.com/161"
      ],
      "execution_count": 13,
      "outputs": [
        {
          "output_type": "stream",
          "text": [
            "original data_dic\n",
            " {'apple': 100, 'banana': 100, 'orange': 300, 'mango': 400, 'melon': 500}\n",
            "modifying the apple's value\n",
            " {'apple': 200, 'banana': 100, 'orange': 300, 'mango': 400, 'melon': 500}\n",
            "inserting a set (grape)\n",
            " {'apple': 200, 'banana': 100, 'orange': 300, 'mango': 400, 'melon': 500, 'grape': 200}\n",
            "deleting the mango set\n",
            " {'apple': 200, 'banana': 100, 'orange': 300, 'melon': 500, 'grape': 200}\n",
            "using the method .pop(melon)\n",
            " {'apple': 200, 'banana': 100, 'orange': 300, 'grape': 200}\n",
            "using the method .update({'berry': 600})\n",
            " {'apple': 200, 'banana': 100, 'orange': 300, 'grape': 200, 'berry': 600}\n"
          ],
          "name": "stdout"
        }
      ]
    },
    {
      "cell_type": "code",
      "metadata": {
        "colab": {
          "base_uri": "https://localhost:8080/"
        },
        "id": "QC-U-GVFqey8",
        "outputId": "16a9261b-c9ef-4c00-efc6-89c2b202bdcd"
      },
      "source": [
        "# p.19-20\n",
        "\n",
        "print(\"1==1\", 1==1)\n",
        "print(\"1==2\", 1==2)\n",
        "print(\"1!=2\", 1!=2)\n",
        "print(\"1>0\" , 1>0)\n",
        "print(\"1>2\" , 1>2)\n",
        "print(\"(1>0) and (10>5)\", (1>0) and (10>5))\n",
        "print(\"(1<0) or (10>5)\", (1<0) or (10>5))\n",
        "print(\"not (1<0)\", not (1<0))\n",
        "\n",
        "print(\"\\n(1>0) & (10>5)\", (1>0) & (10>5)) # just curious\n",
        "print(\"(1<0) | (10>5)\", (1<0) | (10>5))   # just curious"
      ],
      "execution_count": 14,
      "outputs": [
        {
          "output_type": "stream",
          "text": [
            "1==1 True\n",
            "1==2 False\n",
            "1!=2 True\n",
            "1>0 True\n",
            "1>2 False\n",
            "(1>0) and (10>5) True\n",
            "(1<0) or (10>5) True\n",
            "not (1<0) True\n",
            "\n",
            "(1>0) & (10>5) True\n",
            "(1<0) | (10>5) True\n"
          ],
          "name": "stdout"
        }
      ]
    },
    {
      "cell_type": "code",
      "metadata": {
        "id": "B8QKMpLvrSVy",
        "colab": {
          "base_uri": "https://localhost:8080/"
        },
        "outputId": "5024c0c2-6150-41f8-9e25-a15e82c7faf4"
      },
      "source": [
        "# p.20\n",
        "\n",
        "findvalue = 5\n",
        "\n",
        "if findvalue in data_list:\n",
        "    print('{0}은 들어있습니다.' .format(findvalue))\n",
        "else:\n",
        "    print('{0}은 들어 있지 않습니다.' .format(findvalue))\n",
        "\n",
        "print('여기서부터는 if문과 관계없이, 반드시 표시됩니다.')"
      ],
      "execution_count": 17,
      "outputs": [
        {
          "output_type": "stream",
          "text": [
            "5은 들어 있지 않습니다.\n",
            "여기서부터는 if문과 관계없이, 반드시 표시됩니다.\n"
          ],
          "name": "stdout"
        }
      ]
    },
    {
      "cell_type": "code",
      "metadata": {
        "colab": {
          "base_uri": "https://localhost:8080/"
        },
        "id": "t_qgZg0ekGsd",
        "outputId": "51723ef1-9650-4034-9190-12df9524b5a3"
      },
      "source": [
        "# p.21\n",
        "\n",
        "print('{0}와 {1}을 더하면 {2}입니다.' .format(2, 3, 5))\n",
        "\n",
        "# 문자열.format(값, ...) 구문 vs. % 구문\n",
        "    # %를 이용하는 방법은 오래된 방식이라 향후 폐지될 가능성이 있습니다.\n",
        "    # 따라서 format 함수를 사용하기 바랍니다."
      ],
      "execution_count": 19,
      "outputs": [
        {
          "output_type": "stream",
          "text": [
            "2와 3을 더하면 5입니다.\n"
          ],
          "name": "stdout"
        }
      ]
    },
    {
      "cell_type": "code",
      "metadata": {
        "id": "ArxFZQ3elL77"
      },
      "source": [
        "########################################################################\n",
        "# p.21\n",
        "    # format 함수에서 숫자의 자릿수 표시 방법을 지정하는 옵션 찾아보기"
      ],
      "execution_count": 21,
      "outputs": []
    },
    {
      "cell_type": "code",
      "metadata": {
        "colab": {
          "base_uri": "https://localhost:8080/"
        },
        "id": "TVybJNwYl-0p",
        "outputId": "dcbad50c-43ef-4bf8-de6b-7cb7120fb5de"
      },
      "source": [
        "# p.22\n",
        "\n",
        "total = 0\n",
        "\n",
        "print('<   for문 리스트   >')\n",
        "for num in [1, 2, 3]:\n",
        "    print('num:', num)\n",
        "    total = total + num\n",
        "\n",
        "print('total:', total)\n",
        "\n",
        "\n",
        "print('\\n<   for문 딕셔너리   >')\n",
        "for dic_key in data_dic:\n",
        "    print(dic_key, data_dic[dic_key])"
      ],
      "execution_count": 27,
      "outputs": [
        {
          "output_type": "stream",
          "text": [
            "<   for문 리스트   >\n",
            "num: 1\n",
            "num: 2\n",
            "num: 3\n",
            "total: 6\n",
            "\n",
            "<   for문 딕셔너리   >\n",
            "apple 200\n",
            "banana 100\n",
            "orange 300\n",
            "grape 200\n",
            "berry 600\n"
          ],
          "name": "stdout"
        }
      ]
    },
    {
      "cell_type": "code",
      "metadata": {
        "colab": {
          "base_uri": "https://localhost:8080/"
        },
        "id": "_B5Uv5zQmXrj",
        "outputId": "d37caa88-c547-44ff-aaf3-c208b0aebaa4"
      },
      "source": [
        "# p.23\n",
        "\n",
        "print('<   for문 range(11)   >')\n",
        "for i in range(11):\n",
        "    print(i)\n",
        "\n",
        "print('\\n<   for문 range(1, 11, 2)   >') # range(시작 값, 마지막 값, 간격)\n",
        "for i in range(1, 11, 2):\n",
        "    print(i)"
      ],
      "execution_count": 30,
      "outputs": [
        {
          "output_type": "stream",
          "text": [
            "<   for문 range(11)   >\n",
            "0\n",
            "1\n",
            "2\n",
            "3\n",
            "4\n",
            "5\n",
            "6\n",
            "7\n",
            "8\n",
            "9\n",
            "10\n",
            "\n",
            "<   for문 range(1, 11, 2)   >\n",
            "1\n",
            "3\n",
            "5\n",
            "7\n",
            "9\n"
          ],
          "name": "stdout"
        }
      ]
    },
    {
      "cell_type": "code",
      "metadata": {
        "colab": {
          "base_uri": "https://localhost:8080/"
        },
        "id": "VYhu3B-InNrq",
        "outputId": "f97ea4bc-b4c8-4d4d-e338-b2f5b08f107b"
      },
      "source": [
        "# p.23-25\n",
        "\n",
        "print('<   .items()   >')\n",
        "for key, value in data_dic.items():\n",
        "    print(key, value)\n",
        "\n",
        "print('\\n<   comprehension   >') # for문을 이용해 추출한 데이터를 별도의 리스트 데이터로 만드는 방법\n",
        "print('* original data_list')\n",
        "print(data_list)\n",
        "print(\"* [i*2 for i in data_list]            \")\n",
        "print([i*2 for i in data_list])\n",
        "print(\"* [i*2 for i in data_list if i%2 == 0]\")\n",
        "print([i*2 for i in data_list if i%2 == 0])\n",
        "\n",
        "print('\\n<   zip   >') # 각기 다른 리스트에서 동시에 값 추출\n",
        "for one, two, in zip([1, 2, 3], [11, 12, 13]):\n",
        "    print(one, '과', two)\n",
        "\n",
        "print('\\n<   while   >') # 조건이 성립할 동안 계속 반복 실행되는 구문\n",
        "num = 1\n",
        "while num <= 10:\n",
        "    print(num)\n",
        "    num = num+1\n",
        "print('마지막 값은 {0}입니다' .format(num))"
      ],
      "execution_count": 47,
      "outputs": [
        {
          "output_type": "stream",
          "text": [
            "<   .items()   >\n",
            "apple 200\n",
            "banana 100\n",
            "orange 300\n",
            "grape 200\n",
            "berry 600\n",
            "\n",
            "<   comprehension   >\n",
            "* original data_list\n",
            "[20, 1, 2, 4, 7, 8, 9, 10, 11, 30, 40]\n",
            "* [i*2 for i in data_list]            \n",
            "[40, 2, 4, 8, 14, 16, 18, 20, 22, 60, 80]\n",
            "* [i*2 for i in data_list if i%2 == 0]\n",
            "[40, 4, 8, 16, 20, 60, 80]\n",
            "\n",
            "<   zip   >\n",
            "1 과 11\n",
            "2 과 12\n",
            "3 과 13\n",
            "\n",
            "<   while   >\n",
            "1\n",
            "2\n",
            "3\n",
            "4\n",
            "5\n",
            "6\n",
            "7\n",
            "8\n",
            "9\n",
            "10\n",
            "마지막 값은 11입니다\n"
          ],
          "name": "stdout"
        }
      ]
    },
    {
      "cell_type": "code",
      "metadata": {
        "colab": {
          "base_uri": "https://localhost:8080/"
        },
        "id": "bylI8CyioKNm",
        "outputId": "293ee94c-8538-4303-a686-68b0e5985a42"
      },
      "source": [
        "# p.25-26\n",
        "\n",
        "print('def 함수명(인수명):\\n\\treturn 반환 값\\n')\n",
        "\n",
        "def calc_multi(a, b):\n",
        "    return a * b\n",
        "print(calc_multi(3, 10))\n",
        "\n",
        "def calc_print():\n",
        "    print('print 샘플 함수')\n",
        "calc_print()\n",
        "\n",
        "def calc_fib(n):\n",
        "    if n == 1 or n == 2:\n",
        "        return 1\n",
        "    else:\n",
        "        return calc_fib(n-1) + calc_fib(n-2)\n",
        "print('피보나치 수:', calc_fib(10))"
      ],
      "execution_count": 68,
      "outputs": [
        {
          "output_type": "stream",
          "text": [
            "def 함수명(인수명):\n",
            "\treturn 반환 값\n",
            "\n",
            "30\n",
            "print 샘플 함수\n",
            "피보나치 수: 55\n"
          ],
          "name": "stdout"
        }
      ]
    },
    {
      "cell_type": "code",
      "metadata": {
        "colab": {
          "base_uri": "https://localhost:8080/"
        },
        "id": "Sbm6GGONsAeq",
        "outputId": "8782b626-fa44-45e7-ec71-6332d9ec82bf"
      },
      "source": [
        "# p.27 Let's Try\n",
        "\n",
        "def calc_fib_new(n):\n",
        "    fib_list = [1, 1]\n",
        "    if n > 3:\n",
        "        for num in range(3, n+1, 1):\n",
        "            fib_list.append(fib_list[num-3] + fib_list[num-2])\n",
        "    return fib_list[n-1]\n",
        "\n",
        "print(\" 1st\", calc_fib_new(1))\n",
        "print(\" 2nd\", calc_fib_new(2))\n",
        "print(\" 5th\", calc_fib_new(5))\n",
        "print(\"10th\", calc_fib_new(10))\n",
        "print(\"99th\", calc_fib_new(99))"
      ],
      "execution_count": 99,
      "outputs": [
        {
          "output_type": "stream",
          "text": [
            " 1st 1\n",
            " 2nd 1\n",
            " 5th 5\n",
            "10th 55\n",
            "99th 218922995834555169026\n"
          ],
          "name": "stdout"
        }
      ]
    },
    {
      "cell_type": "code",
      "metadata": {
        "colab": {
          "base_uri": "https://localhost:8080/"
        },
        "id": "cAEqFA_KuDLN",
        "outputId": "cd563f29-ee15-4bbd-9b43-bf29c9770dfb"
      },
      "source": [
        "# p.27\n",
        "\n",
        "# 익명 함수란 말 그대로 이름이 없는 함수이며 함수를 그 자리에서 바로 생성하는 방법\n",
        "# 리스트, 배열 등의 원소 값에 대해 어떤 함수를 실행해야 할 때 주로 사용\n",
        "\n",
        "print('<   익명 함수   >')\n",
        "print('(lambda 인수명: 작업 내용)')\n",
        "print('* (lambda a, b: a*b)(3, 10) \\t\\t', (lambda a, b: a*b)(3, 10))\n",
        "\n",
        "# map 함수 = 고차함수. 함수를 인수 값으로 받거나 결과를 함수로 반환\n",
        "# 개별 원소에 대해 어떤 작업을 수행할 때 사용\n",
        "def calc_double(x):\n",
        "    return x*2\n",
        "print('\\n<   map 함수   >')\n",
        "print('* list(map(calc_double, [1,2,3,4])) \\t',  list(map(calc_double, [1,2,3,4])))\n",
        "print('* map(calc_double, [1,2,3,4]) \\t\\t',      map(calc_double, [1,2,3,4])) # just curious\n",
        "\n",
        "print('\\n<   map 함수 * 익명 함수   >')\n",
        "print('* list(map(lambda x: x*2, [1,2,3,4])) \\t',  list(map(lambda x: x*2, [1,2,3,4])))"
      ],
      "execution_count": 119,
      "outputs": [
        {
          "output_type": "stream",
          "text": [
            "<   익명 함수   >\n",
            "(lambda 인수명: 작업 내용)\n",
            "* (lambda a, b: a*b)(3, 10) \t\t 30\n",
            "\n",
            "<   map 함수   >\n",
            "* list(map(calc_double, [1,2,3,4])) \t [2, 4, 6, 8]\n",
            "* map(calc_double, [1,2,3,4]) \t\t <map object at 0x7f6a02713ed0>\n",
            "\n",
            "<   map 함수 * 익명 함수   >\n",
            "* list(map(lambda x: x*2, [1,2,3,4])) \t [2, 4, 6, 8]\n"
          ],
          "name": "stdout"
        }
      ]
    },
    {
      "cell_type": "code",
      "metadata": {
        "id": "DSknybK0xjkh"
      },
      "source": [
        "# p.28 Let's Try"
      ],
      "execution_count": 120,
      "outputs": []
    },
    {
      "cell_type": "code",
      "metadata": {
        "colab": {
          "base_uri": "https://localhost:8080/"
        },
        "id": "tsd2VPfsz3Nw",
        "outputId": "d7830c69-43e9-4005-e2cd-9fb426cd940b"
      },
      "source": [
        "# p.28 Practice\n",
        "\n",
        "### 1.1\n",
        "charc = 'Data Science'\n",
        "for c in range(len(charc)):\n",
        "    print(charc[c])\n",
        "\n",
        "### 1.2\n",
        "num = 50\n",
        "total = 0\n",
        "for n in range(50):\n",
        "    total += n+1\n",
        "print(total)\n",
        "print(sum(range(1, 51))) # 이 방법 좋네"
      ],
      "execution_count": 124,
      "outputs": [
        {
          "output_type": "stream",
          "text": [
            "D\n",
            "a\n",
            "t\n",
            "a\n",
            " \n",
            "S\n",
            "c\n",
            "i\n",
            "e\n",
            "n\n",
            "c\n",
            "e\n",
            "1275\n",
            "1275\n"
          ],
          "name": "stdout"
        }
      ]
    },
    {
      "cell_type": "code",
      "metadata": {
        "colab": {
          "base_uri": "https://localhost:8080/"
        },
        "id": "2VeMUGiy24Fe",
        "outputId": "d5305876-9f64-476c-eef5-b018b17c1cc6"
      },
      "source": [
        "# p.29-30\n",
        "\n",
        "class PrintClass:\n",
        "    def print_me(self):\n",
        "        print(self.x, self.y)\n",
        "\n",
        "p1 = PrintClass() # 인스턴스\n",
        "p1.x = 10         # 인스턴스 속성 지정\n",
        "p1.y = 100\n",
        "p1.z = 1000\n",
        "\n",
        "p1.print_me()\n",
        "p1.z"
      ],
      "execution_count": 127,
      "outputs": [
        {
          "output_type": "stream",
          "text": [
            "10 100\n"
          ],
          "name": "stdout"
        },
        {
          "output_type": "execute_result",
          "data": {
            "text/plain": [
              "1000"
            ]
          },
          "metadata": {
            "tags": []
          },
          "execution_count": 127
        }
      ]
    },
    {
      "cell_type": "code",
      "metadata": {
        "colab": {
          "base_uri": "https://localhost:8080/"
        },
        "id": "I57Bur-P41d9",
        "outputId": "a6f7904f-fe32-49c5-dd8b-fbcd54f71db4"
      },
      "source": [
        "# p.30-32\n",
        "\n",
        "class MyCalcClass:\n",
        "    \n",
        "    def __init__(self, x, y): # 특별한 메서드 생성자\n",
        "        self.x = x\n",
        "        self.y = y\n",
        "    \n",
        "    def calc_add1(self, a, b):\n",
        "        return a+b\n",
        "    \n",
        "    def calc_add2(self):\n",
        "        return self.x + self.y\n",
        "\n",
        "    def calc_multi(self, a, b):\n",
        "        return a*b\n",
        "\n",
        "    def calc_print(self, a):\n",
        "        print('data:{0}:y의 값{1}' .format(a, self.y))\n",
        "\n",
        "instance_1 = MyCalcClass(1, 2)\n",
        "instance_2 = MyCalcClass(5, 10)\n",
        "\n",
        "print(\"instance_1\")\n",
        "print('2개의 수를 더함(새로운 숫자를 인수로 지정) :', instance_1.calc_add1(5, 3))\n",
        "print('2개의 수를 더함(인스턴스화 될 때의 값      :', instance_1.calc_add2())\n",
        "print('2개의 수를 곱함                            :', instance_1.calc_multi(5, 3))\n",
        "instance_1.calc_print(5)\n",
        "\n",
        "print(\"\\ninstance_2\")\n",
        "print('2개의 수를 더함(새로운 숫자를 인수로 지정) :', instance_2.calc_add1(10, 3))\n",
        "print('2개의 수를 더함(인스턴스화 될 때의 값      :', instance_2.calc_add2())\n",
        "print('2개의 수를 곱함                            :', instance_2.calc_multi(4, 3))\n",
        "instance_2.calc_print(20)"
      ],
      "execution_count": 134,
      "outputs": [
        {
          "output_type": "stream",
          "text": [
            "instance_1\n",
            "2개의 수를 더함(새로운 숫자를 인수로 지정) : 8\n",
            "2개의 수를 더함(인스턴스화 될 때의 값      : 3\n",
            "2개의 수를 곱함                            : 15\n",
            "data:5:y의 값2\n",
            "\n",
            "instance_2\n",
            "2개의 수를 더함(새로운 숫자를 인수로 지정) : 13\n",
            "2개의 수를 더함(인스턴스화 될 때의 값      : 15\n",
            "2개의 수를 곱함                            : 12\n",
            "data:20:y의 값10\n"
          ],
          "name": "stdout"
        }
      ]
    },
    {
      "cell_type": "code",
      "metadata": {
        "colab": {
          "base_uri": "https://localhost:8080/"
        },
        "id": "FUzIYBt463Vv",
        "outputId": "2d663eec-03e6-4fdc-8291-c9ffe4a088ad"
      },
      "source": [
        "# p.32 Let's Try\n",
        "\n",
        "class MyCalcClass:\n",
        "    \n",
        "    def __init__(self, x, y): # 특별한 메서드 생성자\n",
        "        self.x = x\n",
        "        self.y = y\n",
        "    \n",
        "    def calc_add1(self, a, b):\n",
        "        return a+b\n",
        "    \n",
        "    def calc_add2(self):\n",
        "        return self.x + self.y\n",
        "\n",
        "    def calc_multi(self, a, b):\n",
        "        return a*b\n",
        "\n",
        "    def calc_sub(self, a, b): # 추가\n",
        "        return (self.x - a, self.y - b)\n",
        "\n",
        "    def calc_print(self, a):\n",
        "        print('data:{0}:y의 값{1}' .format(a, self.y))\n",
        "\n",
        "instance_3 = MyCalcClass(2, 8)\n",
        "print(\"instance_3\")\n",
        "print('2개의 수를 더함(새로운 숫자를 인수로 지정) :', instance_3.calc_add1(4, 6))\n",
        "print('2개의 수를 더함(인스턴스화 될 때의 값      :', instance_3.calc_add2())\n",
        "print('2개의 수를 곱함                            :', instance_3.calc_multi(10, 12))\n",
        "print('2개를 입력 받아 각각 인스터화 값에서 빼줌) :', instance_3.calc_sub(14, 16))\n",
        "instance_3.calc_print(18)"
      ],
      "execution_count": 136,
      "outputs": [
        {
          "output_type": "stream",
          "text": [
            "instance_3\n",
            "2개의 수를 더함(새로운 숫자를 인수로 지정) : 10\n",
            "2개의 수를 더함(인스턴스화 될 때의 값      : 10\n",
            "2개의 수를 곱함                            : 120\n",
            "2개를 입력 받아 각각 인스터화 값에서 빼줌) : (-12, -8)\n",
            "data:18:y의 값8\n"
          ],
          "name": "stdout"
        }
      ]
    },
    {
      "cell_type": "code",
      "metadata": {
        "id": "_ebYlneD8VkK"
      },
      "source": [
        "# p.32 Pracice 1장 종합문제\n",
        "\n",
        "# 1-1. 소수 판정"
      ],
      "execution_count": 148,
      "outputs": []
    },
    {
      "cell_type": "code",
      "metadata": {
        "id": "nijg7tbh-Aap"
      },
      "source": [
        ""
      ],
      "execution_count": null,
      "outputs": []
    }
  ]
}