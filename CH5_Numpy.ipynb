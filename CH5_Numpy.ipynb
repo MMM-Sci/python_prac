{
  "nbformat": 4,
  "nbformat_minor": 0,
  "metadata": {
    "colab": {
      "name": "CH5_Numpy",
      "provenance": [],
      "collapsed_sections": [],
      "authorship_tag": "ABX9TyOQfLtGAqCdXIE2NOF/qiA+"
    },
    "kernelspec": {
      "name": "python3",
      "display_name": "Python 3"
    },
    "language_info": {
      "name": "python"
    }
  },
  "cells": [
    {
      "cell_type": "markdown",
      "metadata": {
        "id": "bh20C74JymFZ"
      },
      "source": [
        "# 5. 파이썬을 이용한 과학 계산"
      ]
    },
    {
      "cell_type": "markdown",
      "metadata": {
        "id": "qPiwNu9XyxjA"
      },
      "source": [
        "## 5.1 개요와 사전준비"
      ]
    },
    {
      "cell_type": "markdown",
      "metadata": {
        "id": "BdRC96gHzTJ1"
      },
      "source": [
        "### 5.1.1 개요"
      ]
    },
    {
      "cell_type": "markdown",
      "metadata": {
        "id": "UvouC5UyzVaK"
      },
      "source": [
        "### 5.1.2 라이브러리 임포트"
      ]
    },
    {
      "cell_type": "code",
      "metadata": {
        "colab": {
          "base_uri": "https://localhost:8080/",
          "height": 35
        },
        "id": "kD0Z6Vk6zcV4",
        "outputId": "81be0566-ede3-4fe9-fdbf-5af1c09ec0dd"
      },
      "source": [
        "import numpy as np\n",
        "import numpy.random as random\n",
        "import scipy as sp\n",
        "\n",
        "import matplotlib.pyplot as plt\n",
        "import matplotlib as mpl\n",
        "%matplotlib inline\n",
        "%precision 3"
      ],
      "execution_count": 2,
      "outputs": [
        {
          "output_type": "execute_result",
          "data": {
            "application/vnd.google.colaboratory.intrinsic+json": {
              "type": "string"
            },
            "text/plain": [
              "'%.3f'"
            ]
          },
          "metadata": {
            "tags": []
          },
          "execution_count": 2
        }
      ]
    },
    {
      "cell_type": "markdown",
      "metadata": {
        "id": "qgKmEoqWy2rB"
      },
      "source": [
        "## 5.2 넘파이를 이용한 계산 방법"
      ]
    },
    {
      "cell_type": "markdown",
      "metadata": {
        "id": "drGwqC7oz1I2"
      },
      "source": [
        "### 5.2.1 인덱스 참조"
      ]
    },
    {
      "cell_type": "markdown",
      "metadata": {
        "id": "AAZD3x2d0q6g"
      },
      "source": [
        "데이터 참조"
      ]
    },
    {
      "cell_type": "code",
      "metadata": {
        "colab": {
          "base_uri": "https://localhost:8080/"
        },
        "id": "7Vu0nn2lz4Ch",
        "outputId": "cc53dafe-bcc3-4fe6-d42b-28161a5dcc2f"
      },
      "source": [
        "sample_array = np.arange(10)\n",
        "print('sample_array', sample_array)"
      ],
      "execution_count": 3,
      "outputs": [
        {
          "output_type": "stream",
          "text": [
            "sample_array [0 1 2 3 4 5 6 7 8 9]\n"
          ],
          "name": "stdout"
        }
      ]
    },
    {
      "cell_type": "code",
      "metadata": {
        "colab": {
          "base_uri": "https://localhost:8080/"
        },
        "id": "aECw_jni0AEV",
        "outputId": "4004b34d-73bb-4323-bcfc-1a4076ed4ac7"
      },
      "source": [
        "print(sample_array)\n",
        "sample_array_slice = sample_array[0:5]\n",
        "print(sample_array_slice)"
      ],
      "execution_count": 4,
      "outputs": [
        {
          "output_type": "stream",
          "text": [
            "[0 1 2 3 4 5 6 7 8 9]\n",
            "[0 1 2 3 4]\n"
          ],
          "name": "stdout"
        }
      ]
    },
    {
      "cell_type": "code",
      "metadata": {
        "colab": {
          "base_uri": "https://localhost:8080/"
        },
        "id": "kl6baz540J7T",
        "outputId": "b79b4b21-7720-4cb8-8976-ec7dbecd6006"
      },
      "source": [
        "sample_array_slice[0:3] = 10\n",
        "print(sample_array_slice)\n",
        "print(sample_array)\n",
        "\n",
        "# 슬라이싱은 원본 리스트의 원소 값도 변경한다는 점에 주의\n",
        "# 원래 변수 값도 바뀌는 이유는 복사가 아니라 참조하기 때문"
      ],
      "execution_count": 5,
      "outputs": [
        {
          "output_type": "stream",
          "text": [
            "[10 10 10  3  4]\n",
            "[10 10 10  3  4  5  6  7  8  9]\n"
          ],
          "name": "stdout"
        }
      ]
    },
    {
      "cell_type": "markdown",
      "metadata": {
        "id": "ZoGxd6T70ff1"
      },
      "source": [
        "데이터 복사"
      ]
    },
    {
      "cell_type": "code",
      "metadata": {
        "colab": {
          "base_uri": "https://localhost:8080/"
        },
        "id": "VOhJwtoh0fE6",
        "outputId": "f7c38bb6-e1de-4227-8e72-c1083f81f873"
      },
      "source": [
        "sample_array_copy = np.copy(sample_array)\n",
        "print(sample_array_copy)\n",
        "\n",
        "sample_array_copy[0:3] = 20\n",
        "print(sample_array_copy)\n",
        "\n",
        "print(sample_array)\n",
        "# copy해서 다른 object를 생성하면 원본 리스트의 원소는 변경되지 않음"
      ],
      "execution_count": 6,
      "outputs": [
        {
          "output_type": "stream",
          "text": [
            "[10 10 10  3  4  5  6  7  8  9]\n",
            "[20 20 20  3  4  5  6  7  8  9]\n",
            "[10 10 10  3  4  5  6  7  8  9]\n"
          ],
          "name": "stdout"
        }
      ]
    },
    {
      "cell_type": "markdown",
      "metadata": {
        "id": "-FinDHPJ1PAh"
      },
      "source": [
        "불(boolean) 인덱스 참조"
      ]
    },
    {
      "cell_type": "code",
      "metadata": {
        "colab": {
          "base_uri": "https://localhost:8080/"
        },
        "id": "3AR_pXfH1U3r",
        "outputId": "a45762e0-54d4-44d2-9e56-fcd02b1a486b"
      },
      "source": [
        "sample_names = np.array(['a', 'b', 'c', 'd', 'a'])\n",
        "random.seed(0)\n",
        "data = random.randn(5, 5)\n",
        "\n",
        "print(sample_names)\n",
        "print(data)"
      ],
      "execution_count": 7,
      "outputs": [
        {
          "output_type": "stream",
          "text": [
            "['a' 'b' 'c' 'd' 'a']\n",
            "[[ 1.764  0.4    0.979  2.241  1.868]\n",
            " [-0.977  0.95  -0.151 -0.103  0.411]\n",
            " [ 0.144  1.454  0.761  0.122  0.444]\n",
            " [ 0.334  1.494 -0.205  0.313 -0.854]\n",
            " [-2.553  0.654  0.864 -0.742  2.27 ]]\n"
          ],
          "name": "stdout"
        }
      ]
    },
    {
      "cell_type": "code",
      "metadata": {
        "colab": {
          "base_uri": "https://localhost:8080/"
        },
        "id": "D_3BlJsL1ryH",
        "outputId": "4f2bc230-32c5-41a5-8600-a8a4f13a8ca4"
      },
      "source": [
        "sample_names == 'a'"
      ],
      "execution_count": 8,
      "outputs": [
        {
          "output_type": "execute_result",
          "data": {
            "text/plain": [
              "array([ True, False, False, False,  True])"
            ]
          },
          "metadata": {
            "tags": []
          },
          "execution_count": 8
        }
      ]
    },
    {
      "cell_type": "code",
      "metadata": {
        "colab": {
          "base_uri": "https://localhost:8080/"
        },
        "id": "dwSSWSF_1vmk",
        "outputId": "879be6b8-9bda-4985-903a-859850e1a074"
      },
      "source": [
        "data[sample_names == 'a']\n",
        "# 2차원 배열이므로 0번째와 네 번째 열이 추출"
      ],
      "execution_count": 9,
      "outputs": [
        {
          "output_type": "execute_result",
          "data": {
            "text/plain": [
              "array([[ 1.764,  0.4  ,  0.979,  2.241,  1.868],\n",
              "       [-2.553,  0.654,  0.864, -0.742,  2.27 ]])"
            ]
          },
          "metadata": {
            "tags": []
          },
          "execution_count": 9
        }
      ]
    },
    {
      "cell_type": "markdown",
      "metadata": {
        "id": "2Kd2o9iv1-KR"
      },
      "source": [
        "조건 제어\n",
        "\n",
        "* numpy.where(조건 배열, X 데이터, Y 데이터)"
      ]
    },
    {
      "cell_type": "code",
      "metadata": {
        "colab": {
          "base_uri": "https://localhost:8080/"
        },
        "id": "6IqA6nPp1_Fd",
        "outputId": "a3ac43c4-d4e0-4894-948f-12e4916068b6"
      },
      "source": [
        "cond_data = np.array([True, True, False, False, True])\n",
        "x_array = np.array([1, 2, 3, 4, 5])\n",
        "y_array = np.array([100, 200, 300, 400, 500])\n",
        "print(np.where(cond_data, x_array, y_array))"
      ],
      "execution_count": 10,
      "outputs": [
        {
          "output_type": "stream",
          "text": [
            "[  1   2 300 400   5]\n"
          ],
          "name": "stdout"
        }
      ]
    },
    {
      "cell_type": "markdown",
      "metadata": {
        "id": "KtdMaMV12lBn"
      },
      "source": [
        "연습문제"
      ]
    },
    {
      "cell_type": "code",
      "metadata": {
        "id": "oSMvTaLe2p1k"
      },
      "source": [
        "# 5-1"
      ],
      "execution_count": 11,
      "outputs": []
    },
    {
      "cell_type": "code",
      "metadata": {
        "id": "Ey2wIgEH2ps2"
      },
      "source": [
        "# 5-2"
      ],
      "execution_count": 12,
      "outputs": []
    },
    {
      "cell_type": "code",
      "metadata": {
        "id": "E-isaRyN2pJq"
      },
      "source": [
        "# 5-3"
      ],
      "execution_count": 13,
      "outputs": []
    },
    {
      "cell_type": "markdown",
      "metadata": {
        "id": "mkuaI93t2qg7"
      },
      "source": [
        "### 5.2.2 넘파이를 이용한 연산 작업"
      ]
    },
    {
      "cell_type": "markdown",
      "metadata": {
        "id": "vNprmQXU21KS"
      },
      "source": [
        "중복 삭제"
      ]
    },
    {
      "cell_type": "code",
      "metadata": {
        "colab": {
          "base_uri": "https://localhost:8080/"
        },
        "id": "d3C6gkSi22vU",
        "outputId": "db5f59b7-075e-453b-aefb-b72a90749e54"
      },
      "source": [
        "cond_data = np.array([True, True, False, False, True])\n",
        "\n",
        "print(cond_data)\n",
        "print(np.unique(cond_data))\n",
        "print(cond_data) # inplace 안됨"
      ],
      "execution_count": 14,
      "outputs": [
        {
          "output_type": "stream",
          "text": [
            "[ True  True False False  True]\n",
            "[False  True]\n",
            "[ True  True False False  True]\n"
          ],
          "name": "stdout"
        }
      ]
    },
    {
      "cell_type": "markdown",
      "metadata": {
        "id": "Q-qUdmdI3JwK"
      },
      "source": [
        "범용 함수\n",
        "\n",
        ": 모든 원소에 함수를 적용할 수 있는 기능\n",
        "\n"
      ]
    },
    {
      "cell_type": "code",
      "metadata": {
        "colab": {
          "base_uri": "https://localhost:8080/"
        },
        "id": "WlaSd7vq3JVA",
        "outputId": "5ad50a67-4be2-468b-ed94-2d72ecb02fdc"
      },
      "source": [
        "sample_data = np.arange(10)\n",
        "print('원본 데이터 \\t\\t:', sample_data)\n",
        "print('모든 원소의 제곱근 \\t\\t:', np.sqrt(sample_data))\n",
        "print('모든 원소의 자연상수 지수함수 \\t:', np.exp(sample_data))"
      ],
      "execution_count": 15,
      "outputs": [
        {
          "output_type": "stream",
          "text": [
            "원본 데이터 \t\t: [0 1 2 3 4 5 6 7 8 9]\n",
            "모든 원소의 제곱근 \t\t: [0.    1.    1.414 1.732 2.    2.236 2.449 2.646 2.828 3.   ]\n",
            "모든 원소의 자연상수 지수함수 \t: [1.000e+00 2.718e+00 7.389e+00 2.009e+01 5.460e+01 1.484e+02 4.034e+02\n",
            " 1.097e+03 2.981e+03 8.103e+03]\n"
          ],
          "name": "stdout"
        }
      ]
    },
    {
      "cell_type": "markdown",
      "metadata": {
        "id": "8WxBwGhm38ne"
      },
      "source": [
        "최소, 최대, 평균, 합계 계산"
      ]
    },
    {
      "cell_type": "code",
      "metadata": {
        "colab": {
          "base_uri": "https://localhost:8080/"
        },
        "id": "Df-Dncab33VU",
        "outputId": "5e11960b-4383-4acd-a0e8-c57c80120caf"
      },
      "source": [
        "sample_multi_array_data1 = np.arange(9).reshape(3, 3)\n",
        "print(sample_multi_array_data1)"
      ],
      "execution_count": 16,
      "outputs": [
        {
          "output_type": "stream",
          "text": [
            "[[0 1 2]\n",
            " [3 4 5]\n",
            " [6 7 8]]\n"
          ],
          "name": "stdout"
        }
      ]
    },
    {
      "cell_type": "code",
      "metadata": {
        "colab": {
          "base_uri": "https://localhost:8080/"
        },
        "id": "UHnrcQtD3JJ1",
        "outputId": "6552d76a-f53e-452e-e8b2-ef0b9bbc1537"
      },
      "source": [
        "print('최소값\\t:', sample_multi_array_data1.min())\n",
        "print('최대값\\t:', sample_multi_array_data1.max())\n",
        "print('평균\\t:', sample_multi_array_data1.mean())\n",
        "print('합계\\t:', sample_multi_array_data1.sum())\n",
        "\n",
        "print('행 합계\\t:', sample_multi_array_data1.sum(axis = 1))\n",
        "print('열 합계\\t:', sample_multi_array_data1.sum(axis = 0))"
      ],
      "execution_count": 17,
      "outputs": [
        {
          "output_type": "stream",
          "text": [
            "최소값\t: 0\n",
            "최대값\t: 8\n",
            "평균\t: 4.0\n",
            "합계\t: 36\n",
            "행 합계\t: [ 3 12 21]\n",
            "열 합계\t: [ 9 12 15]\n"
          ],
          "name": "stdout"
        }
      ]
    },
    {
      "cell_type": "markdown",
      "metadata": {
        "id": "QWU1VZqc8ie9"
      },
      "source": [
        "진릿값 판정"
      ]
    },
    {
      "cell_type": "code",
      "metadata": {
        "id": "VH8J3Xu03JCp",
        "colab": {
          "base_uri": "https://localhost:8080/"
        },
        "outputId": "4b198048-ae60-4a9f-e28f-6f0f80503f5c"
      },
      "source": [
        "cond_data = np.array([ True,  True, False, False,  True])\n",
        "\n",
        "print('True가 하나라도 있는가\\t:', cond_data.any())\n",
        "print('모두 True인가\\t\\t:', cond_data.all())"
      ],
      "execution_count": 18,
      "outputs": [
        {
          "output_type": "stream",
          "text": [
            "True가 하나라도 있는가\t: True\n",
            "모두 True인가\t\t: False\n"
          ],
          "name": "stdout"
        }
      ]
    },
    {
      "cell_type": "code",
      "metadata": {
        "colab": {
          "base_uri": "https://localhost:8080/"
        },
        "id": "bh7iz4pn8--X",
        "outputId": "d75d0f75-f08f-44c5-f4f1-ae9df3dd0bc5"
      },
      "source": [
        "sample_multi_array_data1 = np.arange(9).reshape(3, 3)\n",
        "print(sample_multi_array_data1)\n",
        "print('5보다 큰 숫자가 몇 개인가:', (sample_multi_array_data1 > 5).sum())"
      ],
      "execution_count": 19,
      "outputs": [
        {
          "output_type": "stream",
          "text": [
            "[[0 1 2]\n",
            " [3 4 5]\n",
            " [6 7 8]]\n",
            "5보다 큰 숫자가 몇 개인가: 3\n"
          ],
          "name": "stdout"
        }
      ]
    },
    {
      "cell_type": "markdown",
      "metadata": {
        "id": "X_-h6EmK9VT3"
      },
      "source": [
        "대각성분 계산"
      ]
    },
    {
      "cell_type": "code",
      "metadata": {
        "colab": {
          "base_uri": "https://localhost:8080/"
        },
        "id": "fobqUufm9XI8",
        "outputId": "a1042902-c493-4a3e-d216-c369c1309b59"
      },
      "source": [
        "sample_multi_array_data1 = np.arange(9).reshape(3, 3)\n",
        "print(sample_multi_array_data1)\n",
        "\n",
        "print('대각성분\\t\\t:', np.diag(sample_multi_array_data1))\n",
        "print('대각성분의 합\\t:', np.trace(sample_multi_array_data1))"
      ],
      "execution_count": 20,
      "outputs": [
        {
          "output_type": "stream",
          "text": [
            "[[0 1 2]\n",
            " [3 4 5]\n",
            " [6 7 8]]\n",
            "대각성분\t\t: [0 4 8]\n",
            "대각성분의 합\t: 12\n"
          ],
          "name": "stdout"
        }
      ]
    },
    {
      "cell_type": "markdown",
      "metadata": {
        "id": "HJ5n1Km9-D9w"
      },
      "source": [
        "연습문제"
      ]
    },
    {
      "cell_type": "code",
      "metadata": {
        "id": "OewpJcCF-Dqa"
      },
      "source": [
        "# 5-4"
      ],
      "execution_count": 21,
      "outputs": []
    },
    {
      "cell_type": "code",
      "metadata": {
        "id": "ygHLBEgC-Df7"
      },
      "source": [
        "# 5-5"
      ],
      "execution_count": 22,
      "outputs": []
    },
    {
      "cell_type": "code",
      "metadata": {
        "id": "i6Kxq9sK-DDW"
      },
      "source": [
        "# 5-6"
      ],
      "execution_count": 23,
      "outputs": []
    },
    {
      "cell_type": "markdown",
      "metadata": {
        "id": "UauCmafN-LYz"
      },
      "source": [
        "### 5.2.3 배열의 조작과 브로드캐스트"
      ]
    },
    {
      "cell_type": "markdown",
      "metadata": {
        "id": "XSJzK0B8-PjK"
      },
      "source": [
        "재배열(reshape)"
      ]
    },
    {
      "cell_type": "code",
      "metadata": {
        "colab": {
          "base_uri": "https://localhost:8080/"
        },
        "id": "_YrCssJa-TbX",
        "outputId": "2f58ea92-29e8-4c4d-cddb-ef1136e65eb9"
      },
      "source": [
        "sample_array = np.arange(10)\n",
        "sample_array"
      ],
      "execution_count": 24,
      "outputs": [
        {
          "output_type": "execute_result",
          "data": {
            "text/plain": [
              "array([0, 1, 2, 3, 4, 5, 6, 7, 8, 9])"
            ]
          },
          "metadata": {
            "tags": []
          },
          "execution_count": 24
        }
      ]
    },
    {
      "cell_type": "code",
      "metadata": {
        "colab": {
          "base_uri": "https://localhost:8080/"
        },
        "id": "o6ZBTIsq-ZWu",
        "outputId": "17d1c6cd-4649-4886-ad8b-ef4ae4fd31cb"
      },
      "source": [
        "sample_array2 = sample_array.reshape(2, 5)\n",
        "sample_array2"
      ],
      "execution_count": 25,
      "outputs": [
        {
          "output_type": "execute_result",
          "data": {
            "text/plain": [
              "array([[0, 1, 2, 3, 4],\n",
              "       [5, 6, 7, 8, 9]])"
            ]
          },
          "metadata": {
            "tags": []
          },
          "execution_count": 25
        }
      ]
    },
    {
      "cell_type": "code",
      "metadata": {
        "colab": {
          "base_uri": "https://localhost:8080/"
        },
        "id": "1-T8xr4O-lXo",
        "outputId": "c4e22b7a-b4f7-45aa-90f4-c71983781755"
      },
      "source": [
        "sample_array2.reshape(5, 2)"
      ],
      "execution_count": 26,
      "outputs": [
        {
          "output_type": "execute_result",
          "data": {
            "text/plain": [
              "array([[0, 1],\n",
              "       [2, 3],\n",
              "       [4, 5],\n",
              "       [6, 7],\n",
              "       [8, 9]])"
            ]
          },
          "metadata": {
            "tags": []
          },
          "execution_count": 26
        }
      ]
    },
    {
      "cell_type": "markdown",
      "metadata": {
        "id": "1wt5dbEE-SMP"
      },
      "source": [
        "데이터 결합 - 수직 방향 결합"
      ]
    },
    {
      "cell_type": "code",
      "metadata": {
        "colab": {
          "base_uri": "https://localhost:8080/"
        },
        "id": "jpKFlDVp-SDp",
        "outputId": "7e53007b-aabd-4d71-859a-efc5e0c4d86c"
      },
      "source": [
        "sample_array3 = np.array([[1, 2, 3], [4, 5, 6]])\n",
        "sample_array4 = np.array([[7, 8, 9], [10, 11, 12]])\n",
        "print(sample_array3)\n",
        "print(sample_array4)"
      ],
      "execution_count": 27,
      "outputs": [
        {
          "output_type": "stream",
          "text": [
            "[[1 2 3]\n",
            " [4 5 6]]\n",
            "[[ 7  8  9]\n",
            " [10 11 12]]\n"
          ],
          "name": "stdout"
        }
      ]
    },
    {
      "cell_type": "code",
      "metadata": {
        "colab": {
          "base_uri": "https://localhost:8080/"
        },
        "id": "wOW_u2k4-_QA",
        "outputId": "a9c8ecc9-0a13-4fff-eaf2-67b159163bee"
      },
      "source": [
        "np.concatenate([sample_array3, sample_array4], axis = 0)"
      ],
      "execution_count": 28,
      "outputs": [
        {
          "output_type": "execute_result",
          "data": {
            "text/plain": [
              "array([[ 1,  2,  3],\n",
              "       [ 4,  5,  6],\n",
              "       [ 7,  8,  9],\n",
              "       [10, 11, 12]])"
            ]
          },
          "metadata": {
            "tags": []
          },
          "execution_count": 28
        }
      ]
    },
    {
      "cell_type": "code",
      "metadata": {
        "colab": {
          "base_uri": "https://localhost:8080/"
        },
        "id": "WcAcFisS_ION",
        "outputId": "2ff877e4-c4a3-45f1-d6d5-b74ed7cb8907"
      },
      "source": [
        "np.vstack([sample_array3, sample_array4])"
      ],
      "execution_count": 29,
      "outputs": [
        {
          "output_type": "execute_result",
          "data": {
            "text/plain": [
              "array([[ 1,  2,  3],\n",
              "       [ 4,  5,  6],\n",
              "       [ 7,  8,  9],\n",
              "       [10, 11, 12]])"
            ]
          },
          "metadata": {
            "tags": []
          },
          "execution_count": 29
        }
      ]
    },
    {
      "cell_type": "markdown",
      "metadata": {
        "id": "LZCDkRhu_WM5"
      },
      "source": [
        "데이터 결합 - 수평 방향 결합"
      ]
    },
    {
      "cell_type": "code",
      "metadata": {
        "colab": {
          "base_uri": "https://localhost:8080/"
        },
        "id": "SNLZaLHX_E-0",
        "outputId": "0b8c8746-bd84-43f9-e34f-72a22e1ec9bd"
      },
      "source": [
        "np.concatenate([sample_array3, sample_array4], axis = 1)"
      ],
      "execution_count": 30,
      "outputs": [
        {
          "output_type": "execute_result",
          "data": {
            "text/plain": [
              "array([[ 1,  2,  3,  7,  8,  9],\n",
              "       [ 4,  5,  6, 10, 11, 12]])"
            ]
          },
          "metadata": {
            "tags": []
          },
          "execution_count": 30
        }
      ]
    },
    {
      "cell_type": "code",
      "metadata": {
        "colab": {
          "base_uri": "https://localhost:8080/"
        },
        "id": "_6WI87Yy_ZvN",
        "outputId": "b7c64f1e-4129-484d-8214-3b0d6e437779"
      },
      "source": [
        "np.hstack([sample_array3, sample_array4])"
      ],
      "execution_count": 31,
      "outputs": [
        {
          "output_type": "execute_result",
          "data": {
            "text/plain": [
              "array([[ 1,  2,  3,  7,  8,  9],\n",
              "       [ 4,  5,  6, 10, 11, 12]])"
            ]
          },
          "metadata": {
            "tags": []
          },
          "execution_count": 31
        }
      ]
    },
    {
      "cell_type": "markdown",
      "metadata": {
        "id": "StsEP2-G-R3n"
      },
      "source": [
        "배열 분할"
      ]
    },
    {
      "cell_type": "code",
      "metadata": {
        "colab": {
          "base_uri": "https://localhost:8080/"
        },
        "id": "9a6gUTin-Rr3",
        "outputId": "6d2cb97f-fb51-4588-f6c6-5774f669930b"
      },
      "source": [
        "sample_array3 = np.array([[1, 2, 3], [4, 5, 6]])\n",
        "sample_array4 = np.array([[7, 8, 9], [10, 11, 12]])\n",
        "sample_array_vstack = np.vstack([sample_array3, sample_array4])\n",
        "sample_array_vstack"
      ],
      "execution_count": 32,
      "outputs": [
        {
          "output_type": "execute_result",
          "data": {
            "text/plain": [
              "array([[ 1,  2,  3],\n",
              "       [ 4,  5,  6],\n",
              "       [ 7,  8,  9],\n",
              "       [10, 11, 12]])"
            ]
          },
          "metadata": {
            "tags": []
          },
          "execution_count": 32
        }
      ]
    },
    {
      "cell_type": "code",
      "metadata": {
        "colab": {
          "base_uri": "https://localhost:8080/"
        },
        "id": "Qyoa51u5_qn8",
        "outputId": "4cc182d4-8a59-4a4d-c816-cd013f58a9b9"
      },
      "source": [
        "first, second, third = np.split(sample_array_vstack, [1, 3])\n",
        "# ~1 / 1~3 / 3~ 으로 분할 >>> 0 / 1, 2 / 3\n",
        "\n",
        "print(\"first\\n\", first)\n",
        "print(\"second\\n\", second)\n",
        "print(\"second[0]\\n\", second[0])\n",
        "print(\"third\\n\", third)"
      ],
      "execution_count": 33,
      "outputs": [
        {
          "output_type": "stream",
          "text": [
            "first\n",
            " [[1 2 3]]\n",
            "second\n",
            " [[4 5 6]\n",
            " [7 8 9]]\n",
            "second[0]\n",
            " [4 5 6]\n",
            "third\n",
            " [[10 11 12]]\n"
          ],
          "name": "stdout"
        }
      ]
    },
    {
      "cell_type": "code",
      "metadata": {
        "colab": {
          "base_uri": "https://localhost:8080/"
        },
        "id": "_7gdx8XG_qgP",
        "outputId": "da9491d2-9d66-4bf0-d163-1deae75e238e"
      },
      "source": [
        "sample_array5 = np.array(np.arange(13, 22)).reshape(3, 3)\n",
        "sample_array_vstack2 = np.vstack([sample_array3, sample_array4, sample_array5])\n",
        "sample_array_vstack2"
      ],
      "execution_count": 34,
      "outputs": [
        {
          "output_type": "execute_result",
          "data": {
            "text/plain": [
              "array([[ 1,  2,  3],\n",
              "       [ 4,  5,  6],\n",
              "       [ 7,  8,  9],\n",
              "       [10, 11, 12],\n",
              "       [13, 14, 15],\n",
              "       [16, 17, 18],\n",
              "       [19, 20, 21]])"
            ]
          },
          "metadata": {
            "tags": []
          },
          "execution_count": 34
        }
      ]
    },
    {
      "cell_type": "code",
      "metadata": {
        "colab": {
          "base_uri": "https://localhost:8080/"
        },
        "id": "UhZLg34zA8Ja",
        "outputId": "df100907-136b-4727-8758-60c55c2818d8"
      },
      "source": [
        "first, second, third, forth = np.split(sample_array_vstack2, [2, 3, 5])\n",
        "# ~2, 2~3, 3~5, 5 으로 분할 >>> 0, 1 / 2 / 3, 4 / 5\n",
        "\n",
        "print(\"first\\n\", first)\n",
        "print(\"first[0]\\n\", first[0])\n",
        "print(\"first[1]\\n\", first[1])\n",
        "print(\"second\\n\", second)\n",
        "print(\"third\\n\", third)\n",
        "print(\"forth\\n\", forth)"
      ],
      "execution_count": 35,
      "outputs": [
        {
          "output_type": "stream",
          "text": [
            "first\n",
            " [[1 2 3]\n",
            " [4 5 6]]\n",
            "first[0]\n",
            " [1 2 3]\n",
            "first[1]\n",
            " [4 5 6]\n",
            "second\n",
            " [[7 8 9]]\n",
            "third\n",
            " [[10 11 12]\n",
            " [13 14 15]]\n",
            "forth\n",
            " [[16 17 18]\n",
            " [19 20 21]]\n"
          ],
          "name": "stdout"
        }
      ]
    },
    {
      "cell_type": "markdown",
      "metadata": {
        "id": "L4Ms-lIKBhJD"
      },
      "source": [
        "반복 작업"
      ]
    },
    {
      "cell_type": "code",
      "metadata": {
        "colab": {
          "base_uri": "https://localhost:8080/"
        },
        "id": "6On6C9u1BjiX",
        "outputId": "188af615-17bd-47ce-bdc5-e7567c30eb4c"
      },
      "source": [
        "print(first)\n",
        "print(first.repeat(5))"
      ],
      "execution_count": 36,
      "outputs": [
        {
          "output_type": "stream",
          "text": [
            "[[1 2 3]\n",
            " [4 5 6]]\n",
            "[1 1 1 1 1 2 2 2 2 2 3 3 3 3 3 4 4 4 4 4 5 5 5 5 5 6 6 6 6 6]\n"
          ],
          "name": "stdout"
        }
      ]
    },
    {
      "cell_type": "markdown",
      "metadata": {
        "id": "lwvMhpB_BxvC"
      },
      "source": [
        "브로드캐스트"
      ]
    },
    {
      "cell_type": "code",
      "metadata": {
        "colab": {
          "base_uri": "https://localhost:8080/"
        },
        "id": "oMM9ZyH8Bxdn",
        "outputId": "c15d6d55-c1b1-494c-e998-fa84c792d27c"
      },
      "source": [
        "sample_array = np.arange(10)\n",
        "print(sample_array)"
      ],
      "execution_count": 37,
      "outputs": [
        {
          "output_type": "stream",
          "text": [
            "[0 1 2 3 4 5 6 7 8 9]\n"
          ],
          "name": "stdout"
        }
      ]
    },
    {
      "cell_type": "code",
      "metadata": {
        "colab": {
          "base_uri": "https://localhost:8080/"
        },
        "id": "_Bpl5JjfCBYW",
        "outputId": "f6610c5c-2a4c-4880-81f6-671585ebbd49"
      },
      "source": [
        "sample_array+3"
      ],
      "execution_count": 38,
      "outputs": [
        {
          "output_type": "execute_result",
          "data": {
            "text/plain": [
              "array([ 3,  4,  5,  6,  7,  8,  9, 10, 11, 12])"
            ]
          },
          "metadata": {
            "tags": []
          },
          "execution_count": 38
        }
      ]
    },
    {
      "cell_type": "markdown",
      "metadata": {
        "id": "TZ966qpxBz6Y"
      },
      "source": [
        "연습문제"
      ]
    },
    {
      "cell_type": "code",
      "metadata": {
        "id": "Ee4wqFZrB1Me"
      },
      "source": [
        "# 5-7"
      ],
      "execution_count": 39,
      "outputs": []
    },
    {
      "cell_type": "code",
      "metadata": {
        "id": "M1le-htlB2vI"
      },
      "source": [
        "# 5-8"
      ],
      "execution_count": 40,
      "outputs": []
    },
    {
      "cell_type": "code",
      "metadata": {
        "id": "YsdO1BX9B2hP"
      },
      "source": [
        "# 5-9"
      ],
      "execution_count": 41,
      "outputs": []
    },
    {
      "cell_type": "markdown",
      "metadata": {
        "id": "E7pLg99Ny-sS"
      },
      "source": [
        "## 5.3 사이파이 응용"
      ]
    },
    {
      "cell_type": "markdown",
      "metadata": {
        "id": "JO_ABEPyCL0o"
      },
      "source": [
        "### 5.3.1 보간법"
      ]
    },
    {
      "cell_type": "code",
      "metadata": {
        "colab": {
          "base_uri": "https://localhost:8080/",
          "height": 265
        },
        "id": "GUf1ccoxF02_",
        "outputId": "3f192416-6c85-4db9-ef80-ddc563fc3c02"
      },
      "source": [
        "x = np.linspace(0, 10, num = 11, endpoint = True)\n",
        "y = np.cos(-x**2/5.0)\n",
        "plt.plot(x, y, 'o')\n",
        "plt.grid(True)"
      ],
      "execution_count": 42,
      "outputs": [
        {
          "output_type": "display_data",
          "data": {
            "image/png": "[encoded data removed]",
            "text/plain": [
              "<Figure size 432x288 with 1 Axes>"
            ]
          },
          "metadata": {
            "tags": [],
            "needs_background": "light"
          }
        }
      ]
    },
    {
      "cell_type": "markdown",
      "metadata": {
        "id": "NptVvyweCOHY"
      },
      "source": [
        "선형 보간법"
      ]
    },
    {
      "cell_type": "code",
      "metadata": {
        "colab": {
          "base_uri": "https://localhost:8080/",
          "height": 265
        },
        "id": "ZdmRQMXCFy_V",
        "outputId": "b24053fb-3038-4233-efc3-fdc8aeca92c5"
      },
      "source": [
        "from scipy import interpolate\n",
        "\n",
        "f = interpolate.interp1d(x, y, 'linear')\n",
        "plt.plot(x, f(x), '-')\n",
        "plt.grid(True)"
      ],
      "execution_count": 43,
      "outputs": [
        {
          "output_type": "display_data",
          "data": {
            "image/png": "[encoded data removed]",
            "text/plain": [
              "<Figure size 432x288 with 1 Axes>"
            ]
          },
          "metadata": {
            "tags": [],
            "needs_background": "light"
          }
        }
      ]
    },
    {
      "cell_type": "markdown",
      "metadata": {
        "id": "ud2QGskkCSHo"
      },
      "source": [
        "스플라인 3차 보간법"
      ]
    },
    {
      "cell_type": "code",
      "metadata": {
        "id": "i3EIS2_NybkC",
        "colab": {
          "base_uri": "https://localhost:8080/",
          "height": 265
        },
        "outputId": "85dadd05-0d0b-4bf0-9e19-2359041f5332"
      },
      "source": [
        "f2 = interpolate.interp1d(x, y , 'cubic')\n",
        "xnew = np.linspace(0, 10, num = 100, endpoint = True)\n",
        "plt.plot(x, y, 'o', xnew, f(xnew), '-', xnew, f2(xnew), '--')\n",
        "plt.legend(['data', 'linear', 'cubic'], loc = 'best')\n",
        "plt.grid(True)"
      ],
      "execution_count": 52,
      "outputs": [
        {
          "output_type": "display_data",
          "data": {
            "image/png": "[encoded data removed]",
            "text/plain": [
              "<Figure size 432x288 with 1 Axes>"
            ]
          },
          "metadata": {
            "tags": [],
            "needs_background": "light"
          }
        }
      ]
    },
    {
      "cell_type": "markdown",
      "metadata": {
        "id": "yugIk-txHW2w"
      },
      "source": [
        "연습문제"
      ]
    },
    {
      "cell_type": "code",
      "metadata": {
        "id": "sNysfXrpG54l"
      },
      "source": [
        "# 5-10"
      ],
      "execution_count": 53,
      "outputs": []
    },
    {
      "cell_type": "code",
      "metadata": {
        "id": "eDGVpu8dHax0"
      },
      "source": [
        "# 5-11"
      ],
      "execution_count": 56,
      "outputs": []
    },
    {
      "cell_type": "code",
      "metadata": {
        "id": "wTPYEYI6HcEz"
      },
      "source": [
        "# 5-12"
      ],
      "execution_count": 55,
      "outputs": []
    },
    {
      "cell_type": "markdown",
      "metadata": {
        "id": "tYTPK6bzHgRU"
      },
      "source": [
        "### 5.3.2 선형대수: 행렬 분해"
      ]
    },
    {
      "cell_type": "markdown",
      "metadata": {
        "id": "55uwZn8EHmVs"
      },
      "source": [
        "특잇값 분해"
      ]
    },
    {
      "cell_type": "code",
      "metadata": {
        "colab": {
          "base_uri": "https://localhost:8080/"
        },
        "id": "hmQAyCFmHeLe",
        "outputId": "6d4469e4-2ac5-4fb3-c9bc-3098c4018ced"
      },
      "source": [
        "A = np.array([[1, 2, 3, 4, 5], [6, 7, 8, 9, 10]])\n",
        "U, s, Vs = sp.linalg.svd(A)\n",
        "m, n = A.shape\n",
        "\n",
        "S = sp.linalg.diagsvd(s, m, n)\n",
        "print('U.S.V* = \\n', U@S@Vs)\n",
        "print(\"U\\n\", U)\n",
        "print(\"S\\n\", S)\n",
        "print(\"Vs\\n\", Vs)"
      ],
      "execution_count": 60,
      "outputs": [
        {
          "output_type": "stream",
          "text": [
            "U.S.V* = \n",
            " [[ 1.  2.  3.  4.  5.]\n",
            " [ 6.  7.  8.  9. 10.]]\n",
            "U\n",
            " [[-0.37  -0.929]\n",
            " [-0.929  0.37 ]]\n",
            "S\n",
            " [[19.538  0.     0.     0.     0.   ]\n",
            " [ 0.     1.81   0.     0.     0.   ]]\n",
            "Vs\n",
            " [[-0.304 -0.371 -0.437 -0.504 -0.57 ]\n",
            " [ 0.712  0.403  0.094 -0.215 -0.524]\n",
            " [-0.374 -0.008  0.862 -0.206 -0.274]\n",
            " [-0.365  0.371 -0.159  0.665 -0.512]\n",
            " [-0.357  0.75  -0.179 -0.464  0.251]]\n"
          ],
          "name": "stdout"
        }
      ]
    },
    {
      "cell_type": "markdown",
      "metadata": {
        "id": "MiAoVifqIa2H"
      },
      "source": [
        "LU 분해"
      ]
    },
    {
      "cell_type": "code",
      "metadata": {
        "colab": {
          "base_uri": "https://localhost:8080/"
        },
        "id": "I4ghFP3eH7vj",
        "outputId": "4f3ce6d7-2783-454d-cc2b-17b786b4b4ee"
      },
      "source": [
        "A = np.identity(5)\n",
        "A[0, :] = 1\n",
        "A[:, 0] = 1\n",
        "A[0, 0] = 5\n",
        "b = np.ones(5)\n",
        "\n",
        "(LU, piv) = sp.linalg.lu_factor(A)\n",
        "L = np.identity(5) + np.tril(LU, -1)\n",
        "U = np.triu(LU)\n",
        "P = np.identity(5)[piv]\n",
        "\n",
        "x = sp.linalg.lu_solve((LU, piv), b)\n",
        "x\n"
      ],
      "execution_count": 64,
      "outputs": [
        {
          "output_type": "execute_result",
          "data": {
            "text/plain": [
              "array([-3.,  4.,  4.,  4.,  4.])"
            ]
          },
          "metadata": {
            "tags": []
          },
          "execution_count": 64
        }
      ]
    },
    {
      "cell_type": "markdown",
      "metadata": {
        "id": "cywcoTndJTj6"
      },
      "source": [
        "숄레스키 분해"
      ]
    },
    {
      "cell_type": "code",
      "metadata": {
        "colab": {
          "base_uri": "https://localhost:8080/"
        },
        "id": "CtdaJz0BI4vR",
        "outputId": "d6732511-18cf-4c33-e72c-000c75af8049"
      },
      "source": [
        "A = np.array([[7, -1, 0, 1],\n",
        "             [-1, 9, -2, 2],\n",
        "             [0, -2, 8, -3],\n",
        "             [1, 2, -3, 10]])\n",
        "b = np.array([5, 20, 0, 20])\n",
        "L = sp.linalg.cholesky(A)\n",
        "\n",
        "t = sp.linalg.solve(L.T.conj(), b)\n",
        "x = sp.linalg.solve(L, t)\n",
        "\n",
        "print(x)"
      ],
      "execution_count": 73,
      "outputs": [
        {
          "output_type": "stream",
          "text": [
            "[0.758 2.168 1.241 1.863]\n"
          ],
          "name": "stdout"
        }
      ]
    },
    {
      "cell_type": "code",
      "metadata": {
        "colab": {
          "base_uri": "https://localhost:8080/"
        },
        "id": "d8Okj8K9Khr-",
        "outputId": "fe6ef2af-732a-411d-a1ea-1ce618800d20"
      },
      "source": [
        "np.dot(A, x)"
      ],
      "execution_count": 74,
      "outputs": [
        {
          "output_type": "execute_result",
          "data": {
            "text/plain": [
              "array([5.000e+00, 2.000e+01, 3.553e-15, 2.000e+01])"
            ]
          },
          "metadata": {
            "tags": []
          },
          "execution_count": 74
        }
      ]
    },
    {
      "cell_type": "markdown",
      "metadata": {
        "id": "owZullhBKp3P"
      },
      "source": [
        "음수미포함행렬분해 Non-negative Matrix Factorization(NMF)"
      ]
    },
    {
      "cell_type": "code",
      "metadata": {
        "colab": {
          "base_uri": "https://localhost:8080/"
        },
        "id": "THX4zWUaKyC4",
        "outputId": "7c28b4d3-981f-4964-a11e-7ff36b446bda"
      },
      "source": [
        "from sklearn.decomposition import NMF\n",
        "\n",
        "X = np.array([[1, 1, 1], [2, 2, 2], [3, 3, 3], [4, 4, 4]])\n",
        "model = NMF(n_components = 2, init = 'random', random_state = 0)\n",
        "\n",
        "W = model.fit_transform(X)\n",
        "H = model.components_\n",
        "W"
      ],
      "execution_count": 77,
      "outputs": [
        {
          "output_type": "execute_result",
          "data": {
            "text/plain": [
              "array([[0.425, 0.222],\n",
              "       [0.698, 0.537],\n",
              "       [0.039, 1.434],\n",
              "       [2.377, 0.463]])"
            ]
          },
          "metadata": {
            "tags": []
          },
          "execution_count": 77
        }
      ]
    },
    {
      "cell_type": "code",
      "metadata": {
        "colab": {
          "base_uri": "https://localhost:8080/"
        },
        "id": "m8Lc-Z64LOIi",
        "outputId": "67f999ed-5bdc-438e-a932-76c9dfdc35de"
      },
      "source": [
        "H"
      ],
      "execution_count": 78,
      "outputs": [
        {
          "output_type": "execute_result",
          "data": {
            "text/plain": [
              "array([[1.281, 1.281, 1.282],\n",
              "       [2.058, 2.058, 2.058]])"
            ]
          },
          "metadata": {
            "tags": []
          },
          "execution_count": 78
        }
      ]
    },
    {
      "cell_type": "code",
      "metadata": {
        "colab": {
          "base_uri": "https://localhost:8080/"
        },
        "id": "dYbEcqveLPXi",
        "outputId": "0246dec5-a4c7-4f6a-a1da-c31169fa8b33"
      },
      "source": [
        "np.dot(W, H)"
      ],
      "execution_count": 79,
      "outputs": [
        {
          "output_type": "execute_result",
          "data": {
            "text/plain": [
              "array([[1., 1., 1.],\n",
              "       [2., 2., 2.],\n",
              "       [3., 3., 3.],\n",
              "       [4., 4., 4.]])"
            ]
          },
          "metadata": {
            "tags": []
          },
          "execution_count": 79
        }
      ]
    },
    {
      "cell_type": "code",
      "metadata": {
        "colab": {
          "base_uri": "https://localhost:8080/"
        },
        "id": "Gh9xSyeeLRZf",
        "outputId": "2298eab4-d303-46ac-ba13-1c43919721ed"
      },
      "source": [
        "W@H"
      ],
      "execution_count": 80,
      "outputs": [
        {
          "output_type": "execute_result",
          "data": {
            "text/plain": [
              "array([[1., 1., 1.],\n",
              "       [2., 2., 2.],\n",
              "       [3., 3., 3.],\n",
              "       [4., 4., 4.]])"
            ]
          },
          "metadata": {
            "tags": []
          },
          "execution_count": 80
        }
      ]
    },
    {
      "cell_type": "markdown",
      "metadata": {
        "id": "IhdmfAS4JW35"
      },
      "source": [
        "연습문제"
      ]
    },
    {
      "cell_type": "code",
      "metadata": {
        "id": "A6UY1XiCJXiu"
      },
      "source": [
        "# 5-13"
      ],
      "execution_count": 65,
      "outputs": []
    },
    {
      "cell_type": "markdown",
      "metadata": {
        "id": "zph14FNcJZQJ"
      },
      "source": [
        "### 5.3.3 적분과 미분방적식"
      ]
    },
    {
      "cell_type": "markdown",
      "metadata": {
        "id": "OEqF1PKRJdFi"
      },
      "source": [
        "적분"
      ]
    },
    {
      "cell_type": "code",
      "metadata": {
        "id": "0GTYcNJ8JfhS"
      },
      "source": [
        "from scipy import integrate\n",
        "import math"
      ],
      "execution_count": 81,
      "outputs": []
    },
    {
      "cell_type": "code",
      "metadata": {
        "id": "ywcxLwPKLb6q"
      },
      "source": [
        "def calcPi(x):\n",
        "    return 4/(1+x**2)"
      ],
      "execution_count": 82,
      "outputs": []
    },
    {
      "cell_type": "code",
      "metadata": {
        "colab": {
          "base_uri": "https://localhost:8080/"
        },
        "id": "7ld87UmuLb3s",
        "outputId": "9fd19c5c-30ee-44ef-b893-517534217d91"
      },
      "source": [
        "integrate.quad(calcPi, 0, 1)"
      ],
      "execution_count": 84,
      "outputs": [
        {
          "output_type": "execute_result",
          "data": {
            "text/plain": [
              "(3.142, 0.000)"
            ]
          },
          "metadata": {
            "tags": []
          },
          "execution_count": 84
        }
      ]
    },
    {
      "cell_type": "code",
      "metadata": {
        "colab": {
          "base_uri": "https://localhost:8080/"
        },
        "id": "bz9xSJriLb0q",
        "outputId": "170d97e1-9047-420d-b5ad-b27406c8b709"
      },
      "source": [
        "integrate.quad(lambda x: 4/(1+x**2), 0, 1)"
      ],
      "execution_count": 87,
      "outputs": [
        {
          "output_type": "execute_result",
          "data": {
            "text/plain": [
              "(3.142, 0.000)"
            ]
          },
          "metadata": {
            "tags": []
          },
          "execution_count": 87
        }
      ]
    },
    {
      "cell_type": "code",
      "metadata": {
        "id": "5giQBEZfL1d0"
      },
      "source": [
        "# Questions 식이 주어지지 않고 점들만 주어진다면 그 아래 면적 적분을 어떻게 해야할까"
      ],
      "execution_count": 89,
      "outputs": []
    },
    {
      "cell_type": "markdown",
      "metadata": {
        "id": "vkjmHZvVJe61"
      },
      "source": [
        "sin 함수를 구하는 예"
      ]
    },
    {
      "cell_type": "code",
      "metadata": {
        "id": "SMy2NfaGJYkf"
      },
      "source": [
        ""
      ],
      "execution_count": 65,
      "outputs": []
    },
    {
      "cell_type": "code",
      "metadata": {
        "id": "qse6D9rHLy7B"
      },
      "source": [
        ""
      ],
      "execution_count": null,
      "outputs": []
    },
    {
      "cell_type": "code",
      "metadata": {
        "id": "vowkBXWzLy3k"
      },
      "source": [
        ""
      ],
      "execution_count": null,
      "outputs": []
    },
    {
      "cell_type": "code",
      "metadata": {
        "id": "grCocaKLLy0G"
      },
      "source": [
        ""
      ],
      "execution_count": null,
      "outputs": []
    },
    {
      "cell_type": "markdown",
      "metadata": {
        "id": "5L9QgiprJjDI"
      },
      "source": [
        "미분방적식 계산"
      ]
    },
    {
      "cell_type": "code",
      "metadata": {
        "id": "-vxYWJecJkV4"
      },
      "source": [
        ""
      ],
      "execution_count": null,
      "outputs": []
    },
    {
      "cell_type": "markdown",
      "metadata": {
        "id": "CocBVqmiJlji"
      },
      "source": [
        "연습문제"
      ]
    },
    {
      "cell_type": "code",
      "metadata": {
        "id": "BcwmisE2Jm0Z"
      },
      "source": [
        "# 5-15"
      ],
      "execution_count": 66,
      "outputs": []
    },
    {
      "cell_type": "code",
      "metadata": {
        "id": "fKyJ7AgXJoEc"
      },
      "source": [
        "# 5-16"
      ],
      "execution_count": 67,
      "outputs": []
    },
    {
      "cell_type": "markdown",
      "metadata": {
        "id": "clgkoTA9JrtN"
      },
      "source": [
        "### 5.2.4 최적화"
      ]
    },
    {
      "cell_type": "code",
      "metadata": {
        "id": "XKU-iRjIJpOK"
      },
      "source": [
        ""
      ],
      "execution_count": null,
      "outputs": []
    },
    {
      "cell_type": "markdown",
      "metadata": {
        "id": "5f0F6Ip2JvSE"
      },
      "source": [
        "2차원 함수의 최적화"
      ]
    },
    {
      "cell_type": "code",
      "metadata": {
        "id": "d6DIQmieJwX0"
      },
      "source": [
        ""
      ],
      "execution_count": null,
      "outputs": []
    },
    {
      "cell_type": "markdown",
      "metadata": {
        "id": "n4RQjnHjJxYF"
      },
      "source": [
        "최적화 문제 풀기"
      ]
    },
    {
      "cell_type": "code",
      "metadata": {
        "id": "xTPyelc7JyMj"
      },
      "source": [
        ""
      ],
      "execution_count": null,
      "outputs": []
    },
    {
      "cell_type": "markdown",
      "metadata": {
        "id": "h2u_5NnOJzUf"
      },
      "source": [
        "연습문제"
      ]
    },
    {
      "cell_type": "code",
      "metadata": {
        "id": "zgOk8iPBJ0Sp"
      },
      "source": [
        "# 5-17"
      ],
      "execution_count": 68,
      "outputs": []
    },
    {
      "cell_type": "markdown",
      "metadata": {
        "id": "V75AcfPYJ2nq"
      },
      "source": [
        "## 종합문제"
      ]
    },
    {
      "cell_type": "code",
      "metadata": {
        "id": "On1NeGovJ1OG"
      },
      "source": [
        "# 5-1"
      ],
      "execution_count": 69,
      "outputs": []
    },
    {
      "cell_type": "code",
      "metadata": {
        "id": "F90Xe8dEJ9XI"
      },
      "source": [
        "# 5-2"
      ],
      "execution_count": 70,
      "outputs": []
    },
    {
      "cell_type": "code",
      "metadata": {
        "id": "61sdd5XgJ-iA"
      },
      "source": [
        "# 5-3"
      ],
      "execution_count": 71,
      "outputs": []
    },
    {
      "cell_type": "code",
      "metadata": {
        "id": "JNbky49CJ_fv"
      },
      "source": [
        ""
      ],
      "execution_count": null,
      "outputs": []
    }
  ]
}