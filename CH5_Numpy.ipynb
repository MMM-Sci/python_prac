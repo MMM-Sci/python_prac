{
  "nbformat": 4,
  "nbformat_minor": 0,
  "metadata": {
    "colab": {
      "name": "CH5_Numpy",
      "provenance": [],
      "collapsed_sections": [],
      "authorship_tag": "ABX9TyOoAeE8kfebYFtn6mTZjMKl"
    },
    "kernelspec": {
      "name": "python3",
      "display_name": "Python 3"
    },
    "language_info": {
      "name": "python"
    }
  },
  "cells": [
    {
      "cell_type": "markdown",
      "metadata": {
        "id": "bh20C74JymFZ"
      },
      "source": [
        "# 5. 파이썬을 이용한 과학 계산"
      ]
    },
    {
      "cell_type": "markdown",
      "metadata": {
        "id": "qPiwNu9XyxjA"
      },
      "source": [
        "## 5.1 개요와 사전준비"
      ]
    },
    {
      "cell_type": "markdown",
      "metadata": {
        "id": "BdRC96gHzTJ1"
      },
      "source": [
        "### 5.1.1 개요"
      ]
    },
    {
      "cell_type": "markdown",
      "metadata": {
        "id": "UvouC5UyzVaK"
      },
      "source": [
        "### 5.1.2 라이브러리 임포트"
      ]
    },
    {
      "cell_type": "code",
      "metadata": {
        "colab": {
          "base_uri": "https://localhost:8080/",
          "height": 35
        },
        "id": "kD0Z6Vk6zcV4",
        "outputId": "ffbef967-4ca9-45bd-adc8-301b0ec5a51d"
      },
      "source": [
        "import numpy as np\n",
        "import numpy.random as random\n",
        "import scipy as sp\n",
        "\n",
        "import matplotlib.pyplot as plt\n",
        "import matplotlib as mpl\n",
        "%matplotlib inline\n",
        "%precision 3"
      ],
      "execution_count": 96,
      "outputs": [
        {
          "output_type": "execute_result",
          "data": {
            "application/vnd.google.colaboratory.intrinsic+json": {
              "type": "string"
            },
            "text/plain": [
              "'%.3f'"
            ]
          },
          "metadata": {
            "tags": []
          },
          "execution_count": 96
        }
      ]
    },
    {
      "cell_type": "markdown",
      "metadata": {
        "id": "qgKmEoqWy2rB"
      },
      "source": [
        "## 5.2 넘파이를 이용한 계산 방법"
      ]
    },
    {
      "cell_type": "markdown",
      "metadata": {
        "id": "drGwqC7oz1I2"
      },
      "source": [
        "### 5.2.1 인덱스 참조"
      ]
    },
    {
      "cell_type": "markdown",
      "metadata": {
        "id": "AAZD3x2d0q6g"
      },
      "source": [
        "데이터 참조"
      ]
    },
    {
      "cell_type": "code",
      "metadata": {
        "colab": {
          "base_uri": "https://localhost:8080/"
        },
        "id": "7Vu0nn2lz4Ch",
        "outputId": "aa8f15b2-7bdd-4dfa-ce3c-9257a386ce8a"
      },
      "source": [
        "sample_array = np.arange(10)\n",
        "print('sample_array', sample_array)"
      ],
      "execution_count": 97,
      "outputs": [
        {
          "output_type": "stream",
          "text": [
            "sample_array [0 1 2 3 4 5 6 7 8 9]\n"
          ],
          "name": "stdout"
        }
      ]
    },
    {
      "cell_type": "code",
      "metadata": {
        "colab": {
          "base_uri": "https://localhost:8080/"
        },
        "id": "aECw_jni0AEV",
        "outputId": "b9161aa5-1e9f-4ebf-eac9-275a6946c78f"
      },
      "source": [
        "print(sample_array)\n",
        "sample_array_slice = sample_array[0:5]\n",
        "print(sample_array_slice)"
      ],
      "execution_count": 98,
      "outputs": [
        {
          "output_type": "stream",
          "text": [
            "[0 1 2 3 4 5 6 7 8 9]\n",
            "[0 1 2 3 4]\n"
          ],
          "name": "stdout"
        }
      ]
    },
    {
      "cell_type": "code",
      "metadata": {
        "colab": {
          "base_uri": "https://localhost:8080/"
        },
        "id": "kl6baz540J7T",
        "outputId": "38058b58-c60a-4fea-8e94-c5f4b765e034"
      },
      "source": [
        "sample_array_slice[0:3] = 10\n",
        "print(sample_array_slice)\n",
        "print(sample_array)\n",
        "\n",
        "# 슬라이싱은 원본 리스트의 원소 값도 변경한다는 점에 주의\n",
        "# 원래 변수 값도 바뀌는 이유는 복사가 아니라 참조하기 때문"
      ],
      "execution_count": 99,
      "outputs": [
        {
          "output_type": "stream",
          "text": [
            "[10 10 10  3  4]\n",
            "[10 10 10  3  4  5  6  7  8  9]\n"
          ],
          "name": "stdout"
        }
      ]
    },
    {
      "cell_type": "markdown",
      "metadata": {
        "id": "ZoGxd6T70ff1"
      },
      "source": [
        "데이터 복사"
      ]
    },
    {
      "cell_type": "code",
      "metadata": {
        "colab": {
          "base_uri": "https://localhost:8080/"
        },
        "id": "VOhJwtoh0fE6",
        "outputId": "a35948cb-7921-410e-ce42-bad2d14ba455"
      },
      "source": [
        "sample_array_copy = np.copy(sample_array)\n",
        "print(sample_array_copy)\n",
        "\n",
        "sample_array_copy[0:3] = 20\n",
        "print(sample_array_copy)\n",
        "\n",
        "print(sample_array)\n",
        "# copy해서 다른 object를 생성하면 원본 리스트의 원소는 변경되지 않음"
      ],
      "execution_count": 100,
      "outputs": [
        {
          "output_type": "stream",
          "text": [
            "[10 10 10  3  4  5  6  7  8  9]\n",
            "[20 20 20  3  4  5  6  7  8  9]\n",
            "[10 10 10  3  4  5  6  7  8  9]\n"
          ],
          "name": "stdout"
        }
      ]
    },
    {
      "cell_type": "markdown",
      "metadata": {
        "id": "-FinDHPJ1PAh"
      },
      "source": [
        "불(boolean) 인덱스 참조"
      ]
    },
    {
      "cell_type": "code",
      "metadata": {
        "colab": {
          "base_uri": "https://localhost:8080/"
        },
        "id": "3AR_pXfH1U3r",
        "outputId": "b258a28b-a52d-4781-cdf6-fca443fdb499"
      },
      "source": [
        "sample_names = np.array(['a', 'b', 'c', 'd', 'a'])\n",
        "random.seed(0)\n",
        "data = random.randn(5, 5)\n",
        "\n",
        "print(sample_names)\n",
        "print(data)"
      ],
      "execution_count": 101,
      "outputs": [
        {
          "output_type": "stream",
          "text": [
            "['a' 'b' 'c' 'd' 'a']\n",
            "[[ 1.764  0.4    0.979  2.241  1.868]\n",
            " [-0.977  0.95  -0.151 -0.103  0.411]\n",
            " [ 0.144  1.454  0.761  0.122  0.444]\n",
            " [ 0.334  1.494 -0.205  0.313 -0.854]\n",
            " [-2.553  0.654  0.864 -0.742  2.27 ]]\n"
          ],
          "name": "stdout"
        }
      ]
    },
    {
      "cell_type": "code",
      "metadata": {
        "colab": {
          "base_uri": "https://localhost:8080/"
        },
        "id": "D_3BlJsL1ryH",
        "outputId": "286817e0-ee75-4e90-940d-9e0f9531f41f"
      },
      "source": [
        "sample_names == 'a'"
      ],
      "execution_count": 102,
      "outputs": [
        {
          "output_type": "execute_result",
          "data": {
            "text/plain": [
              "array([ True, False, False, False,  True])"
            ]
          },
          "metadata": {
            "tags": []
          },
          "execution_count": 102
        }
      ]
    },
    {
      "cell_type": "code",
      "metadata": {
        "colab": {
          "base_uri": "https://localhost:8080/"
        },
        "id": "dwSSWSF_1vmk",
        "outputId": "ebd6f458-2fd0-4be8-8482-5ea158afdbe7"
      },
      "source": [
        "data[sample_names == 'a']\n",
        "# 2차원 배열이므로 0번째와 네 번째 열이 추출"
      ],
      "execution_count": 103,
      "outputs": [
        {
          "output_type": "execute_result",
          "data": {
            "text/plain": [
              "array([[ 1.764,  0.4  ,  0.979,  2.241,  1.868],\n",
              "       [-2.553,  0.654,  0.864, -0.742,  2.27 ]])"
            ]
          },
          "metadata": {
            "tags": []
          },
          "execution_count": 103
        }
      ]
    },
    {
      "cell_type": "markdown",
      "metadata": {
        "id": "2Kd2o9iv1-KR"
      },
      "source": [
        "조건 제어\n",
        "\n",
        "* numpy.where(조건 배열, X 데이터, Y 데이터)"
      ]
    },
    {
      "cell_type": "code",
      "metadata": {
        "colab": {
          "base_uri": "https://localhost:8080/"
        },
        "id": "6IqA6nPp1_Fd",
        "outputId": "2eac76e0-cfbd-4305-c674-ab7cb446bea5"
      },
      "source": [
        "cond_data = np.array([True, True, False, False, True])\n",
        "x_array = np.array([1, 2, 3, 4, 5])\n",
        "y_array = np.array([100, 200, 300, 400, 500])\n",
        "print(np.where(cond_data, x_array, y_array))"
      ],
      "execution_count": 104,
      "outputs": [
        {
          "output_type": "stream",
          "text": [
            "[  1   2 300 400   5]\n"
          ],
          "name": "stdout"
        }
      ]
    },
    {
      "cell_type": "markdown",
      "metadata": {
        "id": "KtdMaMV12lBn"
      },
      "source": [
        "연습문제"
      ]
    },
    {
      "cell_type": "code",
      "metadata": {
        "id": "oSMvTaLe2p1k"
      },
      "source": [
        "# 5-1"
      ],
      "execution_count": 105,
      "outputs": []
    },
    {
      "cell_type": "code",
      "metadata": {
        "id": "Ey2wIgEH2ps2"
      },
      "source": [
        "# 5-2"
      ],
      "execution_count": 106,
      "outputs": []
    },
    {
      "cell_type": "code",
      "metadata": {
        "id": "E-isaRyN2pJq"
      },
      "source": [
        "# 5-3"
      ],
      "execution_count": 107,
      "outputs": []
    },
    {
      "cell_type": "markdown",
      "metadata": {
        "id": "mkuaI93t2qg7"
      },
      "source": [
        "### 5.2.2 넘파이를 이용한 연산 작업"
      ]
    },
    {
      "cell_type": "markdown",
      "metadata": {
        "id": "vNprmQXU21KS"
      },
      "source": [
        "중복 삭제"
      ]
    },
    {
      "cell_type": "code",
      "metadata": {
        "colab": {
          "base_uri": "https://localhost:8080/"
        },
        "id": "d3C6gkSi22vU",
        "outputId": "84b71f5b-6fc7-47ef-e82b-b901c607cf17"
      },
      "source": [
        "cond_data = np.array([True, True, False, False, True])\n",
        "\n",
        "print(cond_data)\n",
        "print(np.unique(cond_data))\n",
        "print(cond_data) # inplace 안됨"
      ],
      "execution_count": 108,
      "outputs": [
        {
          "output_type": "stream",
          "text": [
            "[ True  True False False  True]\n",
            "[False  True]\n",
            "[ True  True False False  True]\n"
          ],
          "name": "stdout"
        }
      ]
    },
    {
      "cell_type": "markdown",
      "metadata": {
        "id": "Q-qUdmdI3JwK"
      },
      "source": [
        "범용 함수\n",
        "\n",
        ": 모든 원소에 함수를 적용할 수 있는 기능\n",
        "\n"
      ]
    },
    {
      "cell_type": "code",
      "metadata": {
        "colab": {
          "base_uri": "https://localhost:8080/"
        },
        "id": "WlaSd7vq3JVA",
        "outputId": "3adb11af-1e7f-4af3-a364-0a1ce78b1934"
      },
      "source": [
        "sample_data = np.arange(10)\n",
        "print('원본 데이터 \\t\\t:', sample_data)\n",
        "print('모든 원소의 제곱근 \\t\\t:', np.sqrt(sample_data))\n",
        "print('모든 원소의 자연상수 지수함수 \\t:', np.exp(sample_data))"
      ],
      "execution_count": 109,
      "outputs": [
        {
          "output_type": "stream",
          "text": [
            "원본 데이터 \t\t: [0 1 2 3 4 5 6 7 8 9]\n",
            "모든 원소의 제곱근 \t\t: [0.    1.    1.414 1.732 2.    2.236 2.449 2.646 2.828 3.   ]\n",
            "모든 원소의 자연상수 지수함수 \t: [1.000e+00 2.718e+00 7.389e+00 2.009e+01 5.460e+01 1.484e+02 4.034e+02\n",
            " 1.097e+03 2.981e+03 8.103e+03]\n"
          ],
          "name": "stdout"
        }
      ]
    },
    {
      "cell_type": "markdown",
      "metadata": {
        "id": "8WxBwGhm38ne"
      },
      "source": [
        "최소, 최대, 평균, 합계 계산"
      ]
    },
    {
      "cell_type": "code",
      "metadata": {
        "colab": {
          "base_uri": "https://localhost:8080/"
        },
        "id": "Df-Dncab33VU",
        "outputId": "0f7aaae5-5ca5-4eea-880e-7e77574d5266"
      },
      "source": [
        "sample_multi_array_data1 = np.arange(9).reshape(3, 3)\n",
        "print(sample_multi_array_data1)"
      ],
      "execution_count": 110,
      "outputs": [
        {
          "output_type": "stream",
          "text": [
            "[[0 1 2]\n",
            " [3 4 5]\n",
            " [6 7 8]]\n"
          ],
          "name": "stdout"
        }
      ]
    },
    {
      "cell_type": "code",
      "metadata": {
        "colab": {
          "base_uri": "https://localhost:8080/"
        },
        "id": "UHnrcQtD3JJ1",
        "outputId": "c826f836-8349-4822-f506-6c96e81eaed9"
      },
      "source": [
        "print('최소값\\t:', sample_multi_array_data1.min())\n",
        "print('최대값\\t:', sample_multi_array_data1.max())\n",
        "print('평균\\t:', sample_multi_array_data1.mean())\n",
        "print('합계\\t:', sample_multi_array_data1.sum())\n",
        "\n",
        "print('행 합계\\t:', sample_multi_array_data1.sum(axis = 1))\n",
        "print('열 합계\\t:', sample_multi_array_data1.sum(axis = 0))"
      ],
      "execution_count": 111,
      "outputs": [
        {
          "output_type": "stream",
          "text": [
            "최소값\t: 0\n",
            "최대값\t: 8\n",
            "평균\t: 4.0\n",
            "합계\t: 36\n",
            "행 합계\t: [ 3 12 21]\n",
            "열 합계\t: [ 9 12 15]\n"
          ],
          "name": "stdout"
        }
      ]
    },
    {
      "cell_type": "markdown",
      "metadata": {
        "id": "QWU1VZqc8ie9"
      },
      "source": [
        "진릿값 판정"
      ]
    },
    {
      "cell_type": "code",
      "metadata": {
        "id": "VH8J3Xu03JCp",
        "colab": {
          "base_uri": "https://localhost:8080/"
        },
        "outputId": "94ff3587-cc8e-43a3-8f43-99a74547f285"
      },
      "source": [
        "cond_data = np.array([ True,  True, False, False,  True])\n",
        "\n",
        "print('True가 하나라도 있는가\\t:', cond_data.any())\n",
        "print('모두 True인가\\t\\t:', cond_data.all())"
      ],
      "execution_count": 112,
      "outputs": [
        {
          "output_type": "stream",
          "text": [
            "True가 하나라도 있는가\t: True\n",
            "모두 True인가\t\t: False\n"
          ],
          "name": "stdout"
        }
      ]
    },
    {
      "cell_type": "code",
      "metadata": {
        "colab": {
          "base_uri": "https://localhost:8080/"
        },
        "id": "bh7iz4pn8--X",
        "outputId": "16724d62-185c-40e1-d831-706fc90d5443"
      },
      "source": [
        "sample_multi_array_data1 = np.arange(9).reshape(3, 3)\n",
        "print(sample_multi_array_data1)\n",
        "print('5보다 큰 숫자가 몇 개인가:', (sample_multi_array_data1 > 5).sum())"
      ],
      "execution_count": 113,
      "outputs": [
        {
          "output_type": "stream",
          "text": [
            "[[0 1 2]\n",
            " [3 4 5]\n",
            " [6 7 8]]\n",
            "5보다 큰 숫자가 몇 개인가: 3\n"
          ],
          "name": "stdout"
        }
      ]
    },
    {
      "cell_type": "markdown",
      "metadata": {
        "id": "X_-h6EmK9VT3"
      },
      "source": [
        "대각성분 계산"
      ]
    },
    {
      "cell_type": "code",
      "metadata": {
        "colab": {
          "base_uri": "https://localhost:8080/"
        },
        "id": "fobqUufm9XI8",
        "outputId": "30d53d88-3b29-4af3-8709-554e23d95692"
      },
      "source": [
        "sample_multi_array_data1 = np.arange(9).reshape(3, 3)\n",
        "print(sample_multi_array_data1)\n",
        "\n",
        "print('대각성분\\t\\t:', np.diag(sample_multi_array_data1))\n",
        "print('대각성분의 합\\t:', np.trace(sample_multi_array_data1))"
      ],
      "execution_count": 114,
      "outputs": [
        {
          "output_type": "stream",
          "text": [
            "[[0 1 2]\n",
            " [3 4 5]\n",
            " [6 7 8]]\n",
            "대각성분\t\t: [0 4 8]\n",
            "대각성분의 합\t: 12\n"
          ],
          "name": "stdout"
        }
      ]
    },
    {
      "cell_type": "markdown",
      "metadata": {
        "id": "HJ5n1Km9-D9w"
      },
      "source": [
        "연습문제"
      ]
    },
    {
      "cell_type": "code",
      "metadata": {
        "id": "OewpJcCF-Dqa"
      },
      "source": [
        "# 5-4"
      ],
      "execution_count": 115,
      "outputs": []
    },
    {
      "cell_type": "code",
      "metadata": {
        "id": "ygHLBEgC-Df7"
      },
      "source": [
        "# 5-5"
      ],
      "execution_count": 116,
      "outputs": []
    },
    {
      "cell_type": "code",
      "metadata": {
        "id": "i6Kxq9sK-DDW"
      },
      "source": [
        "# 5-6"
      ],
      "execution_count": 117,
      "outputs": []
    },
    {
      "cell_type": "markdown",
      "metadata": {
        "id": "UauCmafN-LYz"
      },
      "source": [
        "### 5.2.3 배열의 조작과 브로드캐스트"
      ]
    },
    {
      "cell_type": "markdown",
      "metadata": {
        "id": "XSJzK0B8-PjK"
      },
      "source": [
        "재배열(reshape)"
      ]
    },
    {
      "cell_type": "code",
      "metadata": {
        "colab": {
          "base_uri": "https://localhost:8080/"
        },
        "id": "_YrCssJa-TbX",
        "outputId": "38f4ad63-e46f-4ce7-ce38-1543b56511b3"
      },
      "source": [
        "sample_array = np.arange(10)\n",
        "sample_array"
      ],
      "execution_count": 118,
      "outputs": [
        {
          "output_type": "execute_result",
          "data": {
            "text/plain": [
              "array([0, 1, 2, 3, 4, 5, 6, 7, 8, 9])"
            ]
          },
          "metadata": {
            "tags": []
          },
          "execution_count": 118
        }
      ]
    },
    {
      "cell_type": "code",
      "metadata": {
        "colab": {
          "base_uri": "https://localhost:8080/"
        },
        "id": "o6ZBTIsq-ZWu",
        "outputId": "6f3a373d-4718-4505-98b7-950c9d811b7c"
      },
      "source": [
        "sample_array2 = sample_array.reshape(2, 5)\n",
        "sample_array2"
      ],
      "execution_count": 119,
      "outputs": [
        {
          "output_type": "execute_result",
          "data": {
            "text/plain": [
              "array([[0, 1, 2, 3, 4],\n",
              "       [5, 6, 7, 8, 9]])"
            ]
          },
          "metadata": {
            "tags": []
          },
          "execution_count": 119
        }
      ]
    },
    {
      "cell_type": "code",
      "metadata": {
        "colab": {
          "base_uri": "https://localhost:8080/"
        },
        "id": "1-T8xr4O-lXo",
        "outputId": "5f5d6507-53ff-407e-9f66-2ab8c2572fec"
      },
      "source": [
        "sample_array2.reshape(5, 2)"
      ],
      "execution_count": 120,
      "outputs": [
        {
          "output_type": "execute_result",
          "data": {
            "text/plain": [
              "array([[0, 1],\n",
              "       [2, 3],\n",
              "       [4, 5],\n",
              "       [6, 7],\n",
              "       [8, 9]])"
            ]
          },
          "metadata": {
            "tags": []
          },
          "execution_count": 120
        }
      ]
    },
    {
      "cell_type": "markdown",
      "metadata": {
        "id": "1wt5dbEE-SMP"
      },
      "source": [
        "데이터 결합 - 수직 방향 결합"
      ]
    },
    {
      "cell_type": "code",
      "metadata": {
        "colab": {
          "base_uri": "https://localhost:8080/"
        },
        "id": "jpKFlDVp-SDp",
        "outputId": "b75c6dcd-3434-4505-acdb-a97c23505442"
      },
      "source": [
        "sample_array3 = np.array([[1, 2, 3], [4, 5, 6]])\n",
        "sample_array4 = np.array([[7, 8, 9], [10, 11, 12]])\n",
        "print(sample_array3)\n",
        "print(sample_array4)"
      ],
      "execution_count": 121,
      "outputs": [
        {
          "output_type": "stream",
          "text": [
            "[[1 2 3]\n",
            " [4 5 6]]\n",
            "[[ 7  8  9]\n",
            " [10 11 12]]\n"
          ],
          "name": "stdout"
        }
      ]
    },
    {
      "cell_type": "code",
      "metadata": {
        "colab": {
          "base_uri": "https://localhost:8080/"
        },
        "id": "wOW_u2k4-_QA",
        "outputId": "b18295ee-d9a6-484f-833a-c12966053e4c"
      },
      "source": [
        "np.concatenate([sample_array3, sample_array4], axis = 0)"
      ],
      "execution_count": 122,
      "outputs": [
        {
          "output_type": "execute_result",
          "data": {
            "text/plain": [
              "array([[ 1,  2,  3],\n",
              "       [ 4,  5,  6],\n",
              "       [ 7,  8,  9],\n",
              "       [10, 11, 12]])"
            ]
          },
          "metadata": {
            "tags": []
          },
          "execution_count": 122
        }
      ]
    },
    {
      "cell_type": "code",
      "metadata": {
        "colab": {
          "base_uri": "https://localhost:8080/"
        },
        "id": "WcAcFisS_ION",
        "outputId": "afb162d2-8690-401e-d840-ae78b6650fb7"
      },
      "source": [
        "np.vstack([sample_array3, sample_array4])"
      ],
      "execution_count": 123,
      "outputs": [
        {
          "output_type": "execute_result",
          "data": {
            "text/plain": [
              "array([[ 1,  2,  3],\n",
              "       [ 4,  5,  6],\n",
              "       [ 7,  8,  9],\n",
              "       [10, 11, 12]])"
            ]
          },
          "metadata": {
            "tags": []
          },
          "execution_count": 123
        }
      ]
    },
    {
      "cell_type": "markdown",
      "metadata": {
        "id": "LZCDkRhu_WM5"
      },
      "source": [
        "데이터 결합 - 수평 방향 결합"
      ]
    },
    {
      "cell_type": "code",
      "metadata": {
        "colab": {
          "base_uri": "https://localhost:8080/"
        },
        "id": "SNLZaLHX_E-0",
        "outputId": "31847b57-6fbd-4aa3-ac8a-3ec891c4fc35"
      },
      "source": [
        "np.concatenate([sample_array3, sample_array4], axis = 1)"
      ],
      "execution_count": 124,
      "outputs": [
        {
          "output_type": "execute_result",
          "data": {
            "text/plain": [
              "array([[ 1,  2,  3,  7,  8,  9],\n",
              "       [ 4,  5,  6, 10, 11, 12]])"
            ]
          },
          "metadata": {
            "tags": []
          },
          "execution_count": 124
        }
      ]
    },
    {
      "cell_type": "code",
      "metadata": {
        "colab": {
          "base_uri": "https://localhost:8080/"
        },
        "id": "_6WI87Yy_ZvN",
        "outputId": "35a5ff1e-28c5-488f-98ea-68926085afbb"
      },
      "source": [
        "np.hstack([sample_array3, sample_array4])"
      ],
      "execution_count": 125,
      "outputs": [
        {
          "output_type": "execute_result",
          "data": {
            "text/plain": [
              "array([[ 1,  2,  3,  7,  8,  9],\n",
              "       [ 4,  5,  6, 10, 11, 12]])"
            ]
          },
          "metadata": {
            "tags": []
          },
          "execution_count": 125
        }
      ]
    },
    {
      "cell_type": "markdown",
      "metadata": {
        "id": "StsEP2-G-R3n"
      },
      "source": [
        "배열 분할"
      ]
    },
    {
      "cell_type": "code",
      "metadata": {
        "colab": {
          "base_uri": "https://localhost:8080/"
        },
        "id": "9a6gUTin-Rr3",
        "outputId": "91e944f1-a15a-4dc9-ae24-076960f14f7d"
      },
      "source": [
        "sample_array3 = np.array([[1, 2, 3], [4, 5, 6]])\n",
        "sample_array4 = np.array([[7, 8, 9], [10, 11, 12]])\n",
        "sample_array_vstack = np.vstack([sample_array3, sample_array4])\n",
        "sample_array_vstack"
      ],
      "execution_count": 126,
      "outputs": [
        {
          "output_type": "execute_result",
          "data": {
            "text/plain": [
              "array([[ 1,  2,  3],\n",
              "       [ 4,  5,  6],\n",
              "       [ 7,  8,  9],\n",
              "       [10, 11, 12]])"
            ]
          },
          "metadata": {
            "tags": []
          },
          "execution_count": 126
        }
      ]
    },
    {
      "cell_type": "code",
      "metadata": {
        "colab": {
          "base_uri": "https://localhost:8080/"
        },
        "id": "Qyoa51u5_qn8",
        "outputId": "97922ad1-20c9-4606-ae92-1617c405355a"
      },
      "source": [
        "first, second, third = np.split(sample_array_vstack, [1, 3])\n",
        "# ~1 / 1~3 / 3~ 으로 분할 >>> 0 / 1, 2 / 3\n",
        "\n",
        "print(\"first\\n\", first)\n",
        "print(\"second\\n\", second)\n",
        "print(\"second[0]\\n\", second[0])\n",
        "print(\"third\\n\", third)"
      ],
      "execution_count": 127,
      "outputs": [
        {
          "output_type": "stream",
          "text": [
            "first\n",
            " [[1 2 3]]\n",
            "second\n",
            " [[4 5 6]\n",
            " [7 8 9]]\n",
            "second[0]\n",
            " [4 5 6]\n",
            "third\n",
            " [[10 11 12]]\n"
          ],
          "name": "stdout"
        }
      ]
    },
    {
      "cell_type": "code",
      "metadata": {
        "colab": {
          "base_uri": "https://localhost:8080/"
        },
        "id": "_7gdx8XG_qgP",
        "outputId": "27e644a3-20fa-42e5-b096-042317ccbd0a"
      },
      "source": [
        "sample_array5 = np.array(np.arange(13, 22)).reshape(3, 3)\n",
        "sample_array_vstack2 = np.vstack([sample_array3, sample_array4, sample_array5])\n",
        "sample_array_vstack2"
      ],
      "execution_count": 128,
      "outputs": [
        {
          "output_type": "execute_result",
          "data": {
            "text/plain": [
              "array([[ 1,  2,  3],\n",
              "       [ 4,  5,  6],\n",
              "       [ 7,  8,  9],\n",
              "       [10, 11, 12],\n",
              "       [13, 14, 15],\n",
              "       [16, 17, 18],\n",
              "       [19, 20, 21]])"
            ]
          },
          "metadata": {
            "tags": []
          },
          "execution_count": 128
        }
      ]
    },
    {
      "cell_type": "code",
      "metadata": {
        "colab": {
          "base_uri": "https://localhost:8080/"
        },
        "id": "UhZLg34zA8Ja",
        "outputId": "d88c34c0-2a2c-4ba8-a4f9-0ac73b4422f0"
      },
      "source": [
        "first, second, third, forth = np.split(sample_array_vstack2, [2, 3, 5])\n",
        "# ~2, 2~3, 3~5, 5 으로 분할 >>> 0, 1 / 2 / 3, 4 / 5\n",
        "\n",
        "print(\"first\\n\", first)\n",
        "print(\"first[0]\\n\", first[0])\n",
        "print(\"first[1]\\n\", first[1])\n",
        "print(\"second\\n\", second)\n",
        "print(\"third\\n\", third)\n",
        "print(\"forth\\n\", forth)"
      ],
      "execution_count": 129,
      "outputs": [
        {
          "output_type": "stream",
          "text": [
            "first\n",
            " [[1 2 3]\n",
            " [4 5 6]]\n",
            "first[0]\n",
            " [1 2 3]\n",
            "first[1]\n",
            " [4 5 6]\n",
            "second\n",
            " [[7 8 9]]\n",
            "third\n",
            " [[10 11 12]\n",
            " [13 14 15]]\n",
            "forth\n",
            " [[16 17 18]\n",
            " [19 20 21]]\n"
          ],
          "name": "stdout"
        }
      ]
    },
    {
      "cell_type": "markdown",
      "metadata": {
        "id": "L4Ms-lIKBhJD"
      },
      "source": [
        "반복 작업"
      ]
    },
    {
      "cell_type": "code",
      "metadata": {
        "colab": {
          "base_uri": "https://localhost:8080/"
        },
        "id": "6On6C9u1BjiX",
        "outputId": "da2ba5da-cd07-4157-916a-f5f934e8e606"
      },
      "source": [
        "print(first)\n",
        "print(first.repeat(5))"
      ],
      "execution_count": 130,
      "outputs": [
        {
          "output_type": "stream",
          "text": [
            "[[1 2 3]\n",
            " [4 5 6]]\n",
            "[1 1 1 1 1 2 2 2 2 2 3 3 3 3 3 4 4 4 4 4 5 5 5 5 5 6 6 6 6 6]\n"
          ],
          "name": "stdout"
        }
      ]
    },
    {
      "cell_type": "markdown",
      "metadata": {
        "id": "lwvMhpB_BxvC"
      },
      "source": [
        "브로드캐스트"
      ]
    },
    {
      "cell_type": "code",
      "metadata": {
        "colab": {
          "base_uri": "https://localhost:8080/"
        },
        "id": "oMM9ZyH8Bxdn",
        "outputId": "bab11d25-936a-46a6-f7ad-9cc608ae8820"
      },
      "source": [
        "sample_array = np.arange(10)\n",
        "print(sample_array)"
      ],
      "execution_count": 131,
      "outputs": [
        {
          "output_type": "stream",
          "text": [
            "[0 1 2 3 4 5 6 7 8 9]\n"
          ],
          "name": "stdout"
        }
      ]
    },
    {
      "cell_type": "code",
      "metadata": {
        "colab": {
          "base_uri": "https://localhost:8080/"
        },
        "id": "_Bpl5JjfCBYW",
        "outputId": "e9062227-cdce-4ec7-eb6d-f83f65026f4c"
      },
      "source": [
        "sample_array+3"
      ],
      "execution_count": 132,
      "outputs": [
        {
          "output_type": "execute_result",
          "data": {
            "text/plain": [
              "array([ 3,  4,  5,  6,  7,  8,  9, 10, 11, 12])"
            ]
          },
          "metadata": {
            "tags": []
          },
          "execution_count": 132
        }
      ]
    },
    {
      "cell_type": "markdown",
      "metadata": {
        "id": "TZ966qpxBz6Y"
      },
      "source": [
        "연습문제"
      ]
    },
    {
      "cell_type": "code",
      "metadata": {
        "id": "Ee4wqFZrB1Me"
      },
      "source": [
        "# 5-7"
      ],
      "execution_count": 133,
      "outputs": []
    },
    {
      "cell_type": "code",
      "metadata": {
        "id": "M1le-htlB2vI"
      },
      "source": [
        "# 5-8"
      ],
      "execution_count": 134,
      "outputs": []
    },
    {
      "cell_type": "code",
      "metadata": {
        "id": "YsdO1BX9B2hP"
      },
      "source": [
        "# 5-9"
      ],
      "execution_count": 135,
      "outputs": []
    },
    {
      "cell_type": "markdown",
      "metadata": {
        "id": "E7pLg99Ny-sS"
      },
      "source": [
        "## 5.3 사이파이 응용"
      ]
    },
    {
      "cell_type": "markdown",
      "metadata": {
        "id": "JO_ABEPyCL0o"
      },
      "source": [
        "### 5.3.1 보간법"
      ]
    },
    {
      "cell_type": "code",
      "metadata": {
        "colab": {
          "base_uri": "https://localhost:8080/",
          "height": 265
        },
        "id": "GUf1ccoxF02_",
        "outputId": "bc8cd522-409b-4970-be77-a6c0615e4f30"
      },
      "source": [
        "x = np.linspace(0, 10, num = 11, endpoint = True)\n",
        "y = np.cos(-x**2/5.0)\n",
        "plt.plot(x, y, 'o')\n",
        "plt.grid(True)"
      ],
      "execution_count": 136,
      "outputs": [
        {
          "output_type": "display_data",
          "data": {
            "image/png": "[encoded data removed]",
            "text/plain": [
              "<Figure size 432x288 with 1 Axes>"
            ]
          },
          "metadata": {
            "tags": [],
            "needs_background": "light"
          }
        }
      ]
    },
    {
      "cell_type": "markdown",
      "metadata": {
        "id": "NptVvyweCOHY"
      },
      "source": [
        "선형 보간법"
      ]
    },
    {
      "cell_type": "code",
      "metadata": {
        "colab": {
          "base_uri": "https://localhost:8080/",
          "height": 265
        },
        "id": "ZdmRQMXCFy_V",
        "outputId": "160b21d7-4634-4433-e05d-c7430038876f"
      },
      "source": [
        "from scipy import interpolate\n",
        "\n",
        "f = interpolate.interp1d(x, y, 'linear')\n",
        "plt.plot(x, f(x), '-')\n",
        "plt.grid(True)"
      ],
      "execution_count": 137,
      "outputs": [
        {
          "output_type": "display_data",
          "data": {
            "image/png": "[encoded data removed]",
            "text/plain": [
              "<Figure size 432x288 with 1 Axes>"
            ]
          },
          "metadata": {
            "tags": [],
            "needs_background": "light"
          }
        }
      ]
    },
    {
      "cell_type": "markdown",
      "metadata": {
        "id": "ud2QGskkCSHo"
      },
      "source": [
        "스플라인 3차 보간법"
      ]
    },
    {
      "cell_type": "code",
      "metadata": {
        "id": "i3EIS2_NybkC",
        "colab": {
          "base_uri": "https://localhost:8080/",
          "height": 265
        },
        "outputId": "2504aab9-4971-4d52-ae28-5eb325a7b763"
      },
      "source": [
        "f2 = interpolate.interp1d(x, y , 'cubic')\n",
        "xnew = np.linspace(0, 10, num = 100, endpoint = True)\n",
        "plt.plot(x, y, 'o', xnew, f(xnew), '-', xnew, f2(xnew), '--')\n",
        "plt.legend(['data', 'linear', 'cubic'], loc = 'best')\n",
        "plt.grid(True)"
      ],
      "execution_count": 138,
      "outputs": [
        {
          "output_type": "display_data",
          "data": {
            "image/png": "[encoded data removed]",
            "text/plain": [
              "<Figure size 432x288 with 1 Axes>"
            ]
          },
          "metadata": {
            "tags": [],
            "needs_background": "light"
          }
        }
      ]
    },
    {
      "cell_type": "markdown",
      "metadata": {
        "id": "yugIk-txHW2w"
      },
      "source": [
        "연습문제"
      ]
    },
    {
      "cell_type": "code",
      "metadata": {
        "id": "sNysfXrpG54l"
      },
      "source": [
        "# 5-10"
      ],
      "execution_count": 139,
      "outputs": []
    },
    {
      "cell_type": "code",
      "metadata": {
        "id": "eDGVpu8dHax0"
      },
      "source": [
        "# 5-11"
      ],
      "execution_count": 140,
      "outputs": []
    },
    {
      "cell_type": "code",
      "metadata": {
        "id": "wTPYEYI6HcEz"
      },
      "source": [
        "# 5-12"
      ],
      "execution_count": 141,
      "outputs": []
    },
    {
      "cell_type": "markdown",
      "metadata": {
        "id": "tYTPK6bzHgRU"
      },
      "source": [
        "### 5.3.2 선형대수: 행렬 분해"
      ]
    },
    {
      "cell_type": "markdown",
      "metadata": {
        "id": "55uwZn8EHmVs"
      },
      "source": [
        "특잇값 분해"
      ]
    },
    {
      "cell_type": "code",
      "metadata": {
        "colab": {
          "base_uri": "https://localhost:8080/"
        },
        "id": "hmQAyCFmHeLe",
        "outputId": "163a0e07-1273-4ad3-d9b1-0028aa5c5049"
      },
      "source": [
        "A = np.array([[1, 2, 3, 4, 5], [6, 7, 8, 9, 10]])\n",
        "U, s, Vs = sp.linalg.svd(A)\n",
        "m, n = A.shape\n",
        "\n",
        "S = sp.linalg.diagsvd(s, m, n)\n",
        "print('U.S.V* = \\n', U@S@Vs)\n",
        "print(\"U\\n\", U)\n",
        "print(\"S\\n\", S)\n",
        "print(\"Vs\\n\", Vs)"
      ],
      "execution_count": 142,
      "outputs": [
        {
          "output_type": "stream",
          "text": [
            "U.S.V* = \n",
            " [[ 1.  2.  3.  4.  5.]\n",
            " [ 6.  7.  8.  9. 10.]]\n",
            "U\n",
            " [[-0.37  -0.929]\n",
            " [-0.929  0.37 ]]\n",
            "S\n",
            " [[19.538  0.     0.     0.     0.   ]\n",
            " [ 0.     1.81   0.     0.     0.   ]]\n",
            "Vs\n",
            " [[-0.304 -0.371 -0.437 -0.504 -0.57 ]\n",
            " [ 0.712  0.403  0.094 -0.215 -0.524]\n",
            " [-0.374 -0.008  0.862 -0.206 -0.274]\n",
            " [-0.365  0.371 -0.159  0.665 -0.512]\n",
            " [-0.357  0.75  -0.179 -0.464  0.251]]\n"
          ],
          "name": "stdout"
        }
      ]
    },
    {
      "cell_type": "markdown",
      "metadata": {
        "id": "MiAoVifqIa2H"
      },
      "source": [
        "LU 분해"
      ]
    },
    {
      "cell_type": "code",
      "metadata": {
        "colab": {
          "base_uri": "https://localhost:8080/"
        },
        "id": "I4ghFP3eH7vj",
        "outputId": "7d27cd67-198d-4c15-8b94-60e723af6300"
      },
      "source": [
        "A = np.identity(5)\n",
        "A[0, :] = 1\n",
        "A[:, 0] = 1\n",
        "A[0, 0] = 5\n",
        "b = np.ones(5)\n",
        "\n",
        "(LU, piv) = sp.linalg.lu_factor(A)\n",
        "L = np.identity(5) + np.tril(LU, -1)\n",
        "U = np.triu(LU)\n",
        "P = np.identity(5)[piv]\n",
        "\n",
        "x = sp.linalg.lu_solve((LU, piv), b)\n",
        "x\n"
      ],
      "execution_count": 143,
      "outputs": [
        {
          "output_type": "execute_result",
          "data": {
            "text/plain": [
              "array([-3.,  4.,  4.,  4.,  4.])"
            ]
          },
          "metadata": {
            "tags": []
          },
          "execution_count": 143
        }
      ]
    },
    {
      "cell_type": "markdown",
      "metadata": {
        "id": "cywcoTndJTj6"
      },
      "source": [
        "숄레스키 분해"
      ]
    },
    {
      "cell_type": "code",
      "metadata": {
        "colab": {
          "base_uri": "https://localhost:8080/"
        },
        "id": "CtdaJz0BI4vR",
        "outputId": "db5d00a6-3a0c-4fd3-bf18-c2a297c31a45"
      },
      "source": [
        "A = np.array([[7, -1, 0, 1],\n",
        "             [-1, 9, -2, 2],\n",
        "             [0, -2, 8, -3],\n",
        "             [1, 2, -3, 10]])\n",
        "b = np.array([5, 20, 0, 20])\n",
        "L = sp.linalg.cholesky(A)\n",
        "\n",
        "t = sp.linalg.solve(L.T.conj(), b)\n",
        "x = sp.linalg.solve(L, t)\n",
        "\n",
        "print(x)"
      ],
      "execution_count": 144,
      "outputs": [
        {
          "output_type": "stream",
          "text": [
            "[0.758 2.168 1.241 1.863]\n"
          ],
          "name": "stdout"
        }
      ]
    },
    {
      "cell_type": "code",
      "metadata": {
        "colab": {
          "base_uri": "https://localhost:8080/"
        },
        "id": "d8Okj8K9Khr-",
        "outputId": "f29bf963-2b0e-4246-9d0b-19776a05ee78"
      },
      "source": [
        "np.dot(A, x)"
      ],
      "execution_count": 145,
      "outputs": [
        {
          "output_type": "execute_result",
          "data": {
            "text/plain": [
              "array([5.000e+00, 2.000e+01, 3.553e-15, 2.000e+01])"
            ]
          },
          "metadata": {
            "tags": []
          },
          "execution_count": 145
        }
      ]
    },
    {
      "cell_type": "markdown",
      "metadata": {
        "id": "owZullhBKp3P"
      },
      "source": [
        "음수미포함행렬분해 Non-negative Matrix Factorization(NMF)"
      ]
    },
    {
      "cell_type": "code",
      "metadata": {
        "colab": {
          "base_uri": "https://localhost:8080/"
        },
        "id": "THX4zWUaKyC4",
        "outputId": "273ee211-44b8-497c-8eeb-bfb458ab3258"
      },
      "source": [
        "from sklearn.decomposition import NMF\n",
        "\n",
        "X = np.array([[1, 1, 1], [2, 2, 2], [3, 3, 3], [4, 4, 4]])\n",
        "model = NMF(n_components = 2, init = 'random', random_state = 0)\n",
        "\n",
        "W = model.fit_transform(X)\n",
        "H = model.components_\n",
        "W"
      ],
      "execution_count": 146,
      "outputs": [
        {
          "output_type": "execute_result",
          "data": {
            "text/plain": [
              "array([[0.425, 0.222],\n",
              "       [0.698, 0.537],\n",
              "       [0.039, 1.434],\n",
              "       [2.377, 0.463]])"
            ]
          },
          "metadata": {
            "tags": []
          },
          "execution_count": 146
        }
      ]
    },
    {
      "cell_type": "code",
      "metadata": {
        "colab": {
          "base_uri": "https://localhost:8080/"
        },
        "id": "m8Lc-Z64LOIi",
        "outputId": "b17d532a-2f7a-4192-c5d3-8bf6476a01d6"
      },
      "source": [
        "H"
      ],
      "execution_count": 147,
      "outputs": [
        {
          "output_type": "execute_result",
          "data": {
            "text/plain": [
              "array([[1.281, 1.281, 1.282],\n",
              "       [2.058, 2.058, 2.058]])"
            ]
          },
          "metadata": {
            "tags": []
          },
          "execution_count": 147
        }
      ]
    },
    {
      "cell_type": "code",
      "metadata": {
        "colab": {
          "base_uri": "https://localhost:8080/"
        },
        "id": "dYbEcqveLPXi",
        "outputId": "580ab156-c1d1-4104-ad10-f29ee905ecd9"
      },
      "source": [
        "np.dot(W, H)"
      ],
      "execution_count": 148,
      "outputs": [
        {
          "output_type": "execute_result",
          "data": {
            "text/plain": [
              "array([[1., 1., 1.],\n",
              "       [2., 2., 2.],\n",
              "       [3., 3., 3.],\n",
              "       [4., 4., 4.]])"
            ]
          },
          "metadata": {
            "tags": []
          },
          "execution_count": 148
        }
      ]
    },
    {
      "cell_type": "code",
      "metadata": {
        "colab": {
          "base_uri": "https://localhost:8080/"
        },
        "id": "Gh9xSyeeLRZf",
        "outputId": "24465f7d-36e8-4b4a-f5bc-cf7aeacbff50"
      },
      "source": [
        "W@H"
      ],
      "execution_count": 149,
      "outputs": [
        {
          "output_type": "execute_result",
          "data": {
            "text/plain": [
              "array([[1., 1., 1.],\n",
              "       [2., 2., 2.],\n",
              "       [3., 3., 3.],\n",
              "       [4., 4., 4.]])"
            ]
          },
          "metadata": {
            "tags": []
          },
          "execution_count": 149
        }
      ]
    },
    {
      "cell_type": "markdown",
      "metadata": {
        "id": "IhdmfAS4JW35"
      },
      "source": [
        "연습문제"
      ]
    },
    {
      "cell_type": "code",
      "metadata": {
        "id": "A6UY1XiCJXiu"
      },
      "source": [
        "# 5-13"
      ],
      "execution_count": 150,
      "outputs": []
    },
    {
      "cell_type": "markdown",
      "metadata": {
        "id": "zph14FNcJZQJ"
      },
      "source": [
        "### 5.3.3 적분과 미분방적식"
      ]
    },
    {
      "cell_type": "markdown",
      "metadata": {
        "id": "OEqF1PKRJdFi"
      },
      "source": [
        "적분"
      ]
    },
    {
      "cell_type": "code",
      "metadata": {
        "id": "0GTYcNJ8JfhS"
      },
      "source": [
        "from scipy import integrate\n",
        "import math"
      ],
      "execution_count": 151,
      "outputs": []
    },
    {
      "cell_type": "code",
      "metadata": {
        "id": "ywcxLwPKLb6q"
      },
      "source": [
        "def calcPi(x):\n",
        "    return 4/(1+x**2)"
      ],
      "execution_count": 152,
      "outputs": []
    },
    {
      "cell_type": "code",
      "metadata": {
        "colab": {
          "base_uri": "https://localhost:8080/"
        },
        "id": "7ld87UmuLb3s",
        "outputId": "61bd1ff5-10e7-4889-982d-87f0f746e077"
      },
      "source": [
        "integrate.quad(calcPi, 0, 1)"
      ],
      "execution_count": 153,
      "outputs": [
        {
          "output_type": "execute_result",
          "data": {
            "text/plain": [
              "(3.142, 0.000)"
            ]
          },
          "metadata": {
            "tags": []
          },
          "execution_count": 153
        }
      ]
    },
    {
      "cell_type": "code",
      "metadata": {
        "colab": {
          "base_uri": "https://localhost:8080/"
        },
        "id": "bz9xSJriLb0q",
        "outputId": "ee07bca6-0df7-4c57-aed4-007af826e877"
      },
      "source": [
        "integrate.quad(lambda x: 4/(1+x**2), 0, 1)"
      ],
      "execution_count": 154,
      "outputs": [
        {
          "output_type": "execute_result",
          "data": {
            "text/plain": [
              "(3.142, 0.000)"
            ]
          },
          "metadata": {
            "tags": []
          },
          "execution_count": 154
        }
      ]
    },
    {
      "cell_type": "code",
      "metadata": {
        "id": "5giQBEZfL1d0"
      },
      "source": [
        "# Questions 식이 주어지지 않고 점들만 주어진다면 그 아래 면적 적분을 어떻게 해야할까"
      ],
      "execution_count": 155,
      "outputs": []
    },
    {
      "cell_type": "markdown",
      "metadata": {
        "id": "vkjmHZvVJe61"
      },
      "source": [
        "sin 함수를 구하는 예"
      ]
    },
    {
      "cell_type": "code",
      "metadata": {
        "id": "SMy2NfaGJYkf",
        "colab": {
          "base_uri": "https://localhost:8080/"
        },
        "outputId": "a9c386ea-a038-47ab-d3b9-b7d63339fc54"
      },
      "source": [
        "from numpy import sin\n",
        "integrate.quad(sin, 0, math.pi/1)"
      ],
      "execution_count": 156,
      "outputs": [
        {
          "output_type": "execute_result",
          "data": {
            "text/plain": [
              "(2.000, 0.000)"
            ]
          },
          "metadata": {
            "tags": []
          },
          "execution_count": 156
        }
      ]
    },
    {
      "cell_type": "code",
      "metadata": {
        "id": "qse6D9rHLy7B",
        "colab": {
          "base_uri": "https://localhost:8080/"
        },
        "outputId": "c9cf34f6-ec9a-4005-d755-06fcab59b9a3"
      },
      "source": [
        "def I(n):\n",
        "    return integrate.dblquad(lambda t, x: np.exp(-x*t)/t**n, 0, np.inf, lambda x: 1, lambda x: np.inf)\n",
        "print('n=1일 때', I(1))\n",
        "print('n=2일 때', I(2))\n",
        "print('n=3일 때', I(3))\n",
        "print('n=4일 때', I(4))"
      ],
      "execution_count": 157,
      "outputs": [
        {
          "output_type": "stream",
          "text": [
            "n=1일 때 (1.0000000000048965, 6.360750360104306e-08)\n",
            "n=2일 때 (0.4999999999985751, 1.3894083651858995e-08)\n",
            "n=3일 때 (0.33333333325010883, 1.3888461883425516e-08)\n",
            "n=4일 때 (0.2500000000043577, 1.2983033469368098e-08)\n"
          ],
          "name": "stdout"
        }
      ]
    },
    {
      "cell_type": "markdown",
      "metadata": {
        "id": "5L9QgiprJjDI"
      },
      "source": [
        "미분방적식 계산"
      ]
    },
    {
      "cell_type": "code",
      "metadata": {
        "id": "-vxYWJecJkV4"
      },
      "source": [
        "import numpy as np\n",
        "from scipy.integrate import odeint\n",
        "import matplotlib.pyplot as plt\n",
        "from mpl_toolkits.mplot3d import Axes3D\n",
        "\n",
        "def lorenz_func(v, t, p, r, b):\n",
        "    return [-p*v[0]+p*v[1], -v[0]*v[2]+r*v[0]-v[1], v[0]*v[1]-b*v[2]]"
      ],
      "execution_count": 158,
      "outputs": []
    },
    {
      "cell_type": "code",
      "metadata": {
        "colab": {
          "base_uri": "https://localhost:8080/",
          "height": 248
        },
        "id": "GnkLuDD-SWsq",
        "outputId": "2155b856-ca8f-47ef-d5a3-b0124a92552f"
      },
      "source": [
        "p = 10\n",
        "r = 28\n",
        "b = 8/3\n",
        "v0 = [0.1, 0.1, 0.1]\n",
        "t = np.arange(0, 100, 0.01)\n",
        "\n",
        "v = odeint(lorenz_func, v0, t, args = (p, r, b))\n",
        "\n",
        "fig = plt.figure()\n",
        "ax = fig.gca(projection = '3d')\n",
        "ax.plot(v[:, 0], v[:, 1], v[:, 2])\n",
        "plt.title('Lorenz')\n",
        "plt.grid(True)"
      ],
      "execution_count": 159,
      "outputs": [
        {
          "output_type": "display_data",
          "data": {
            "image/png": "[encoded data removed]",
            "text/plain": [
              "<Figure size 432x288 with 1 Axes>"
            ]
          },
          "metadata": {
            "tags": [],
            "needs_background": "light"
          }
        }
      ]
    },
    {
      "cell_type": "markdown",
      "metadata": {
        "id": "CocBVqmiJlji"
      },
      "source": [
        "연습문제"
      ]
    },
    {
      "cell_type": "code",
      "metadata": {
        "id": "BcwmisE2Jm0Z"
      },
      "source": [
        "# 5-15"
      ],
      "execution_count": 160,
      "outputs": []
    },
    {
      "cell_type": "code",
      "metadata": {
        "id": "fKyJ7AgXJoEc"
      },
      "source": [
        "# 5-16"
      ],
      "execution_count": 161,
      "outputs": []
    },
    {
      "cell_type": "markdown",
      "metadata": {
        "id": "clgkoTA9JrtN"
      },
      "source": [
        "### 5.2.4 최적화"
      ]
    },
    {
      "cell_type": "code",
      "metadata": {
        "id": "XKU-iRjIJpOK"
      },
      "source": [
        "from scipy.optimize import fsolve"
      ],
      "execution_count": 162,
      "outputs": []
    },
    {
      "cell_type": "markdown",
      "metadata": {
        "id": "5f0F6Ip2JvSE"
      },
      "source": [
        "2차원 함수의 최적화"
      ]
    },
    {
      "cell_type": "code",
      "metadata": {
        "id": "d6DIQmieJwX0"
      },
      "source": [
        "def f(x):\n",
        "    y = 2*x**2 + 2*x + -10\n",
        "    return y"
      ],
      "execution_count": 163,
      "outputs": []
    },
    {
      "cell_type": "code",
      "metadata": {
        "colab": {
          "base_uri": "https://localhost:8080/",
          "height": 265
        },
        "id": "sN6YODYRVFVy",
        "outputId": "8c70fb79-e402-4b3d-8043-838b935b9a21"
      },
      "source": [
        "x = np.linspace(-4, 4)\n",
        "plt.plot(x, f(x))\n",
        "plt.plot(x, np.zeros(len(x)))\n",
        "plt.grid(True)"
      ],
      "execution_count": 164,
      "outputs": [
        {
          "output_type": "display_data",
          "data": {
            "image/png": "[encoded data removed]",
            "text/plain": [
              "<Figure size 432x288 with 1 Axes>"
            ]
          },
          "metadata": {
            "tags": [],
            "needs_background": "light"
          }
        }
      ]
    },
    {
      "cell_type": "code",
      "metadata": {
        "colab": {
          "base_uri": "https://localhost:8080/"
        },
        "id": "bZXXLrl4VFMS",
        "outputId": "16395b26-1825-4b64-f0f1-9eb0af16de95"
      },
      "source": [
        "x = fsolve(f, 2)\n",
        "print(x)"
      ],
      "execution_count": 165,
      "outputs": [
        {
          "output_type": "stream",
          "text": [
            "[1.791]\n"
          ],
          "name": "stdout"
        }
      ]
    },
    {
      "cell_type": "code",
      "metadata": {
        "colab": {
          "base_uri": "https://localhost:8080/"
        },
        "id": "bEAtjJ3zVg89",
        "outputId": "22f7efcb-60ab-4dd3-c268-a94e39ca4d12"
      },
      "source": [
        "x = fsolve(f, -3)\n",
        "print(x)"
      ],
      "execution_count": 166,
      "outputs": [
        {
          "output_type": "stream",
          "text": [
            "[-2.791]\n"
          ],
          "name": "stdout"
        }
      ]
    },
    {
      "cell_type": "markdown",
      "metadata": {
        "id": "n4RQjnHjJxYF"
      },
      "source": [
        "최적화 문제 풀기"
      ]
    },
    {
      "cell_type": "code",
      "metadata": {
        "id": "xTPyelc7JyMj"
      },
      "source": [
        "from scipy.optimize import minimize"
      ],
      "execution_count": 167,
      "outputs": []
    },
    {
      "cell_type": "code",
      "metadata": {
        "id": "OCXaePB7VoQI"
      },
      "source": [
        "def objective(x):\n",
        "    x1 = x[0]\n",
        "    x2 = x[1]\n",
        "    x3 = x[2]\n",
        "    x4 = x[3]\n",
        "    return x1*x4*(x1+x2+x3)+x3"
      ],
      "execution_count": 168,
      "outputs": []
    },
    {
      "cell_type": "code",
      "metadata": {
        "colab": {
          "base_uri": "https://localhost:8080/"
        },
        "id": "hvpl8HAwV5C3",
        "outputId": "e9636df0-a811-4d2d-88c5-ad0e287dbb79"
      },
      "source": [
        "def constraint1(x):\n",
        "    return x[0]*x[1]*x[2]*x[3]-25.0\n",
        "\n",
        "def constraint2(x):\n",
        "    sum_sq = 40\n",
        "    for i in range(4):\n",
        "        sum_sq = sum_sq - x[i]**2\n",
        "    return sum_sq\n",
        "\n",
        "x0 = [1, 5, 5, 1]\n",
        "print(objective(x0))\n"
      ],
      "execution_count": 169,
      "outputs": [
        {
          "output_type": "stream",
          "text": [
            "16\n"
          ],
          "name": "stdout"
        }
      ]
    },
    {
      "cell_type": "code",
      "metadata": {
        "id": "sj6WVqjvWTSi"
      },
      "source": [
        "b = (1.0, 5.0)\n",
        "bnds = (b, b, b, b)\n",
        "con1 = {'type':'ineq', 'fun':constraint1}\n",
        "con2 = {'type':'ineq', 'fun':constraint2}\n",
        "cons = [con1, con2]"
      ],
      "execution_count": 170,
      "outputs": []
    },
    {
      "cell_type": "code",
      "metadata": {
        "colab": {
          "base_uri": "https://localhost:8080/"
        },
        "id": "1kRDbR5AWhjl",
        "outputId": "3901e77c-e505-4688-c0f4-5840671fe703"
      },
      "source": [
        "sol = minimize(objective, x0, method = 'SLSQP', bounds = bnds, constraints = cons)\n",
        "print(sol)"
      ],
      "execution_count": 171,
      "outputs": [
        {
          "output_type": "stream",
          "text": [
            "     fun: 17.014017245446883\n",
            "     jac: array([14.572,  1.379,  2.379,  9.564])\n",
            " message: 'Optimization terminated successfully.'\n",
            "    nfev: 30\n",
            "     nit: 5\n",
            "    njev: 5\n",
            "  status: 0\n",
            " success: True\n",
            "       x: array([1.   , 4.743, 3.821, 1.379])\n"
          ],
          "name": "stdout"
        }
      ]
    },
    {
      "cell_type": "code",
      "metadata": {
        "colab": {
          "base_uri": "https://localhost:8080/"
        },
        "id": "tnE6kPl4Wtmd",
        "outputId": "9d27ee7a-abde-43ca-8800-d3c00878669c"
      },
      "source": [
        "print('Y:', sol.fun)\n",
        "print('X:', sol.x)"
      ],
      "execution_count": 172,
      "outputs": [
        {
          "output_type": "stream",
          "text": [
            "Y: 17.014017245446883\n",
            "X: [1.    4.743 3.821 1.379]\n"
          ],
          "name": "stdout"
        }
      ]
    },
    {
      "cell_type": "markdown",
      "metadata": {
        "id": "h2u_5NnOJzUf"
      },
      "source": [
        "연습문제"
      ]
    },
    {
      "cell_type": "code",
      "metadata": {
        "id": "zgOk8iPBJ0Sp"
      },
      "source": [
        "# 5-17"
      ],
      "execution_count": 173,
      "outputs": []
    },
    {
      "cell_type": "markdown",
      "metadata": {
        "id": "V75AcfPYJ2nq"
      },
      "source": [
        "## 종합문제"
      ]
    },
    {
      "cell_type": "code",
      "metadata": {
        "id": "On1NeGovJ1OG"
      },
      "source": [
        "# 5-1"
      ],
      "execution_count": 174,
      "outputs": []
    },
    {
      "cell_type": "code",
      "metadata": {
        "id": "F90Xe8dEJ9XI"
      },
      "source": [
        "# 5-2"
      ],
      "execution_count": 175,
      "outputs": []
    },
    {
      "cell_type": "code",
      "metadata": {
        "id": "61sdd5XgJ-iA"
      },
      "source": [
        "# 5-3"
      ],
      "execution_count": 176,
      "outputs": []
    },
    {
      "cell_type": "code",
      "metadata": {
        "id": "JNbky49CJ_fv"
      },
      "source": [
        ""
      ],
      "execution_count": 176,
      "outputs": []
    }
  ]
}