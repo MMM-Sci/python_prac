{
  "nbformat": 4,
  "nbformat_minor": 0,
  "metadata": {
    "colab": {
      "name": "CH5_Numpy",
      "provenance": [],
      "collapsed_sections": [],
      "authorship_tag": "ABX9TyNjWCOjaNsjgKwbSWiCtZ1T"
    },
    "kernelspec": {
      "name": "python3",
      "display_name": "Python 3"
    },
    "language_info": {
      "name": "python"
    }
  },
  "cells": [
    {
      "cell_type": "markdown",
      "metadata": {
        "id": "bh20C74JymFZ"
      },
      "source": [
        "# 5. 파이썬을 이용한 과학 계산"
      ]
    },
    {
      "cell_type": "markdown",
      "metadata": {
        "id": "qPiwNu9XyxjA"
      },
      "source": [
        "## 5.1 개요와 사전준비"
      ]
    },
    {
      "cell_type": "markdown",
      "metadata": {
        "id": "BdRC96gHzTJ1"
      },
      "source": [
        "### 5.1.1 개요"
      ]
    },
    {
      "cell_type": "markdown",
      "metadata": {
        "id": "UvouC5UyzVaK"
      },
      "source": [
        "### 5.1.2 라이브러리 임포트"
      ]
    },
    {
      "cell_type": "code",
      "metadata": {
        "colab": {
          "base_uri": "https://localhost:8080/",
          "height": 35
        },
        "id": "kD0Z6Vk6zcV4",
        "outputId": "95a838f5-6b06-49c2-8993-8a8a43163714"
      },
      "source": [
        "import numpy as np\n",
        "import numpy.random as random\n",
        "import scipy as sp\n",
        "\n",
        "import matplotlib.pyplot as plt\n",
        "import matplotlib as mpl\n",
        "%matplotlib inline\n",
        "%precision 3"
      ],
      "execution_count": 1,
      "outputs": [
        {
          "output_type": "execute_result",
          "data": {
            "application/vnd.google.colaboratory.intrinsic+json": {
              "type": "string"
            },
            "text/plain": [
              "'%.3f'"
            ]
          },
          "metadata": {
            "tags": []
          },
          "execution_count": 1
        }
      ]
    },
    {
      "cell_type": "markdown",
      "metadata": {
        "id": "qgKmEoqWy2rB"
      },
      "source": [
        "## 5.2 넘파이를 이용한 계산 방법"
      ]
    },
    {
      "cell_type": "markdown",
      "metadata": {
        "id": "drGwqC7oz1I2"
      },
      "source": [
        "### 5.2.1 인덱스 참조"
      ]
    },
    {
      "cell_type": "markdown",
      "metadata": {
        "id": "AAZD3x2d0q6g"
      },
      "source": [
        "데이터 참조"
      ]
    },
    {
      "cell_type": "code",
      "metadata": {
        "colab": {
          "base_uri": "https://localhost:8080/"
        },
        "id": "7Vu0nn2lz4Ch",
        "outputId": "bf1d5b8e-8914-49fd-dc7c-fa34913f002a"
      },
      "source": [
        "sample_array = np.arange(10)\n",
        "print('sample_array', sample_array)"
      ],
      "execution_count": 2,
      "outputs": [
        {
          "output_type": "stream",
          "text": [
            "sample_array [0 1 2 3 4 5 6 7 8 9]\n"
          ],
          "name": "stdout"
        }
      ]
    },
    {
      "cell_type": "code",
      "metadata": {
        "colab": {
          "base_uri": "https://localhost:8080/"
        },
        "id": "aECw_jni0AEV",
        "outputId": "6b32b6e6-3b10-40ea-bdd0-454b4ba0f1c2"
      },
      "source": [
        "print(sample_array)\n",
        "sample_array_slice = sample_array[0:5]\n",
        "print(sample_array_slice)"
      ],
      "execution_count": 3,
      "outputs": [
        {
          "output_type": "stream",
          "text": [
            "[0 1 2 3 4 5 6 7 8 9]\n",
            "[0 1 2 3 4]\n"
          ],
          "name": "stdout"
        }
      ]
    },
    {
      "cell_type": "code",
      "metadata": {
        "colab": {
          "base_uri": "https://localhost:8080/"
        },
        "id": "kl6baz540J7T",
        "outputId": "d286a053-fae9-4780-b330-13018f467634"
      },
      "source": [
        "sample_array_slice[0:3] = 10\n",
        "print(sample_array_slice)\n",
        "print(sample_array)\n",
        "\n",
        "# 슬라이싱은 원본 리스트의 원소 값도 변경한다는 점에 주의\n",
        "# 원래 변수 값도 바뀌는 이유는 복사가 아니라 참조하기 때문"
      ],
      "execution_count": 4,
      "outputs": [
        {
          "output_type": "stream",
          "text": [
            "[10 10 10  3  4]\n",
            "[10 10 10  3  4  5  6  7  8  9]\n"
          ],
          "name": "stdout"
        }
      ]
    },
    {
      "cell_type": "markdown",
      "metadata": {
        "id": "ZoGxd6T70ff1"
      },
      "source": [
        "데이터 복사"
      ]
    },
    {
      "cell_type": "code",
      "metadata": {
        "colab": {
          "base_uri": "https://localhost:8080/"
        },
        "id": "VOhJwtoh0fE6",
        "outputId": "3b01b84a-119c-4738-8484-02214216477c"
      },
      "source": [
        "sample_array_copy = np.copy(sample_array) ###\n",
        "print(sample_array_copy)\n",
        "\n",
        "sample_array_copy[0:3] = 20\n",
        "print(sample_array_copy)\n",
        "\n",
        "print(sample_array)\n",
        "# copy해서 다른 object를 생성하면 원본 리스트의 원소는 변경되지 않음"
      ],
      "execution_count": 5,
      "outputs": [
        {
          "output_type": "stream",
          "text": [
            "[10 10 10  3  4  5  6  7  8  9]\n",
            "[20 20 20  3  4  5  6  7  8  9]\n",
            "[10 10 10  3  4  5  6  7  8  9]\n"
          ],
          "name": "stdout"
        }
      ]
    },
    {
      "cell_type": "markdown",
      "metadata": {
        "id": "-FinDHPJ1PAh"
      },
      "source": [
        "불(boolean) 인덱스 참조"
      ]
    },
    {
      "cell_type": "code",
      "metadata": {
        "colab": {
          "base_uri": "https://localhost:8080/"
        },
        "id": "3AR_pXfH1U3r",
        "outputId": "848f3c61-5948-4a28-c7d1-a56bc8b1237d"
      },
      "source": [
        "sample_names = np.array(['a', 'b', 'c', 'd', 'a'])\n",
        "random.seed(0)\n",
        "data = random.randn(5, 5)\n",
        "\n",
        "print(sample_names)\n",
        "print(data)"
      ],
      "execution_count": 6,
      "outputs": [
        {
          "output_type": "stream",
          "text": [
            "['a' 'b' 'c' 'd' 'a']\n",
            "[[ 1.764  0.4    0.979  2.241  1.868]\n",
            " [-0.977  0.95  -0.151 -0.103  0.411]\n",
            " [ 0.144  1.454  0.761  0.122  0.444]\n",
            " [ 0.334  1.494 -0.205  0.313 -0.854]\n",
            " [-2.553  0.654  0.864 -0.742  2.27 ]]\n"
          ],
          "name": "stdout"
        }
      ]
    },
    {
      "cell_type": "code",
      "metadata": {
        "colab": {
          "base_uri": "https://localhost:8080/"
        },
        "id": "D_3BlJsL1ryH",
        "outputId": "9527b7dd-b7c4-4e2d-a9ee-65ed470c9b17"
      },
      "source": [
        "sample_names == 'a'"
      ],
      "execution_count": 7,
      "outputs": [
        {
          "output_type": "execute_result",
          "data": {
            "text/plain": [
              "array([ True, False, False, False,  True])"
            ]
          },
          "metadata": {
            "tags": []
          },
          "execution_count": 7
        }
      ]
    },
    {
      "cell_type": "code",
      "metadata": {
        "colab": {
          "base_uri": "https://localhost:8080/"
        },
        "id": "dwSSWSF_1vmk",
        "outputId": "f1c0c293-199a-4a49-ff3f-d74d1d58e3e6"
      },
      "source": [
        "data[sample_names == 'a']\n",
        "# 2차원 배열이므로 0번째와 네 번째 열이 추출"
      ],
      "execution_count": 8,
      "outputs": [
        {
          "output_type": "execute_result",
          "data": {
            "text/plain": [
              "array([[ 1.764,  0.4  ,  0.979,  2.241,  1.868],\n",
              "       [-2.553,  0.654,  0.864, -0.742,  2.27 ]])"
            ]
          },
          "metadata": {
            "tags": []
          },
          "execution_count": 8
        }
      ]
    },
    {
      "cell_type": "markdown",
      "metadata": {
        "id": "2Kd2o9iv1-KR"
      },
      "source": [
        "조건 제어\n",
        "\n",
        "* numpy.where(조건 배열, (True 일때) X 데이터, (False 일 때) Y 데이터)"
      ]
    },
    {
      "cell_type": "code",
      "metadata": {
        "colab": {
          "base_uri": "https://localhost:8080/"
        },
        "id": "6IqA6nPp1_Fd",
        "outputId": "66f981dd-18bb-44d9-ec10-4a5835c27e90"
      },
      "source": [
        "cond_data = np.array([True, True, False, False, True])\n",
        "x_array = np.array([1, 2, 3, 4, 5])\n",
        "y_array = np.array([100, 200, 300, 400, 500])\n",
        "print(np.where(cond_data, x_array, y_array))"
      ],
      "execution_count": 9,
      "outputs": [
        {
          "output_type": "stream",
          "text": [
            "[  1   2 300 400   5]\n"
          ],
          "name": "stdout"
        }
      ]
    },
    {
      "cell_type": "markdown",
      "metadata": {
        "id": "KtdMaMV12lBn"
      },
      "source": [
        "연습문제"
      ]
    },
    {
      "cell_type": "code",
      "metadata": {
        "id": "oSMvTaLe2p1k",
        "colab": {
          "base_uri": "https://localhost:8080/"
        },
        "outputId": "c732ab35-c663-42e7-bf1e-af794a6a9f3a"
      },
      "source": [
        "sample_names = np.array(['a', 'b', 'c', 'd', 'a'])\n",
        "random.seed(0)\n",
        "data = random.rand(5, 5)\n",
        "\n",
        "print(sample_names)\n",
        "print(data)\n",
        "\n",
        "\n",
        "# 5-1\n",
        "\n",
        "data[sample_names=='b']"
      ],
      "execution_count": 10,
      "outputs": [
        {
          "output_type": "stream",
          "text": [
            "['a' 'b' 'c' 'd' 'a']\n",
            "[[0.549 0.715 0.603 0.545 0.424]\n",
            " [0.646 0.438 0.892 0.964 0.383]\n",
            " [0.792 0.529 0.568 0.926 0.071]\n",
            " [0.087 0.02  0.833 0.778 0.87 ]\n",
            " [0.979 0.799 0.461 0.781 0.118]]\n"
          ],
          "name": "stdout"
        },
        {
          "output_type": "execute_result",
          "data": {
            "text/plain": [
              "array([[0.646, 0.438, 0.892, 0.964, 0.383]])"
            ]
          },
          "metadata": {
            "tags": []
          },
          "execution_count": 10
        }
      ]
    },
    {
      "cell_type": "code",
      "metadata": {
        "id": "Ey2wIgEH2ps2",
        "colab": {
          "base_uri": "https://localhost:8080/"
        },
        "outputId": "5ac92933-aa1a-4eb3-f2a8-83735decb11c"
      },
      "source": [
        "# 5-2\n",
        "\n",
        "data[sample_names!='c']"
      ],
      "execution_count": 11,
      "outputs": [
        {
          "output_type": "execute_result",
          "data": {
            "text/plain": [
              "array([[0.549, 0.715, 0.603, 0.545, 0.424],\n",
              "       [0.646, 0.438, 0.892, 0.964, 0.383],\n",
              "       [0.087, 0.02 , 0.833, 0.778, 0.87 ],\n",
              "       [0.979, 0.799, 0.461, 0.781, 0.118]])"
            ]
          },
          "metadata": {
            "tags": []
          },
          "execution_count": 11
        }
      ]
    },
    {
      "cell_type": "code",
      "metadata": {
        "id": "E-isaRyN2pJq",
        "colab": {
          "base_uri": "https://localhost:8080/"
        },
        "outputId": "7595860f-c8c5-4ebf-ecf0-b0370459ad00"
      },
      "source": [
        "# 5-3\n",
        "\n",
        "x_array = np.array([1,2,3,4,5])\n",
        "y_array = np.array([6,7,8,9,10])\n",
        "\n",
        "np.where([False, False, True, True, False], x_array, y_array)"
      ],
      "execution_count": 12,
      "outputs": [
        {
          "output_type": "execute_result",
          "data": {
            "text/plain": [
              "array([ 6,  7,  3,  4, 10])"
            ]
          },
          "metadata": {
            "tags": []
          },
          "execution_count": 12
        }
      ]
    },
    {
      "cell_type": "markdown",
      "metadata": {
        "id": "mkuaI93t2qg7"
      },
      "source": [
        "### 5.2.2 넘파이를 이용한 연산 작업"
      ]
    },
    {
      "cell_type": "markdown",
      "metadata": {
        "id": "vNprmQXU21KS"
      },
      "source": [
        "중복 삭제"
      ]
    },
    {
      "cell_type": "code",
      "metadata": {
        "colab": {
          "base_uri": "https://localhost:8080/"
        },
        "id": "d3C6gkSi22vU",
        "outputId": "3a63911f-8d1e-4963-d466-6ec93957c179"
      },
      "source": [
        "cond_data = np.array([True, True, False, False, True])\n",
        "\n",
        "print(cond_data)\n",
        "print(np.unique(cond_data))\n",
        "print(cond_data) # inplace 안됨"
      ],
      "execution_count": 13,
      "outputs": [
        {
          "output_type": "stream",
          "text": [
            "[ True  True False False  True]\n",
            "[False  True]\n",
            "[ True  True False False  True]\n"
          ],
          "name": "stdout"
        }
      ]
    },
    {
      "cell_type": "markdown",
      "metadata": {
        "id": "Q-qUdmdI3JwK"
      },
      "source": [
        "범용 함수\n",
        "\n",
        ": 모든 원소에 함수를 적용할 수 있는 기능\n",
        "\n"
      ]
    },
    {
      "cell_type": "code",
      "metadata": {
        "colab": {
          "base_uri": "https://localhost:8080/"
        },
        "id": "WlaSd7vq3JVA",
        "outputId": "c270f3a4-fa4f-487d-cee2-44e19206e59b"
      },
      "source": [
        "sample_data = np.arange(10)\n",
        "print('원본 데이터 \\t\\t:', sample_data)\n",
        "print('모든 원소의 제곱근 \\t\\t:', np.sqrt(sample_data))\n",
        "print('모든 원소의 자연상수 지수함수 \\t:', np.exp(sample_data))"
      ],
      "execution_count": 14,
      "outputs": [
        {
          "output_type": "stream",
          "text": [
            "원본 데이터 \t\t: [0 1 2 3 4 5 6 7 8 9]\n",
            "모든 원소의 제곱근 \t\t: [0.    1.    1.414 1.732 2.    2.236 2.449 2.646 2.828 3.   ]\n",
            "모든 원소의 자연상수 지수함수 \t: [1.000e+00 2.718e+00 7.389e+00 2.009e+01 5.460e+01 1.484e+02 4.034e+02\n",
            " 1.097e+03 2.981e+03 8.103e+03]\n"
          ],
          "name": "stdout"
        }
      ]
    },
    {
      "cell_type": "markdown",
      "metadata": {
        "id": "8WxBwGhm38ne"
      },
      "source": [
        "최소, 최대, 평균, 합계 계산"
      ]
    },
    {
      "cell_type": "code",
      "metadata": {
        "colab": {
          "base_uri": "https://localhost:8080/"
        },
        "id": "Df-Dncab33VU",
        "outputId": "bf7c5b28-bf93-47c2-e367-9f0c2dbb50d3"
      },
      "source": [
        "sample_multi_array_data1 = np.arange(9).reshape(3, 3)\n",
        "print(sample_multi_array_data1)"
      ],
      "execution_count": 15,
      "outputs": [
        {
          "output_type": "stream",
          "text": [
            "[[0 1 2]\n",
            " [3 4 5]\n",
            " [6 7 8]]\n"
          ],
          "name": "stdout"
        }
      ]
    },
    {
      "cell_type": "code",
      "metadata": {
        "colab": {
          "base_uri": "https://localhost:8080/"
        },
        "id": "UHnrcQtD3JJ1",
        "outputId": "c357ed05-9e76-4e08-d967-cf2a49cc4850"
      },
      "source": [
        "print('최소값\\t:', sample_multi_array_data1.min())\n",
        "print('최대값\\t:', sample_multi_array_data1.max())\n",
        "print('평균\\t:', sample_multi_array_data1.mean())\n",
        "print('합계\\t:', sample_multi_array_data1.sum())\n",
        "\n",
        "print('행 합계\\t:', sample_multi_array_data1.sum(axis = 1))\n",
        "print('열 합계\\t:', sample_multi_array_data1.sum(axis = 0))"
      ],
      "execution_count": 16,
      "outputs": [
        {
          "output_type": "stream",
          "text": [
            "최소값\t: 0\n",
            "최대값\t: 8\n",
            "평균\t: 4.0\n",
            "합계\t: 36\n",
            "행 합계\t: [ 3 12 21]\n",
            "열 합계\t: [ 9 12 15]\n"
          ],
          "name": "stdout"
        }
      ]
    },
    {
      "cell_type": "markdown",
      "metadata": {
        "id": "QWU1VZqc8ie9"
      },
      "source": [
        "진릿값 판정"
      ]
    },
    {
      "cell_type": "code",
      "metadata": {
        "id": "VH8J3Xu03JCp",
        "colab": {
          "base_uri": "https://localhost:8080/"
        },
        "outputId": "03c98384-98a3-40d6-f1bd-0849d8a2a31e"
      },
      "source": [
        "cond_data = np.array([ True,  True, False, False,  True])\n",
        "\n",
        "print('True가 하나라도 있는가\\t:', cond_data.any())\n",
        "print('모두 True인가\\t\\t:', cond_data.all())"
      ],
      "execution_count": 17,
      "outputs": [
        {
          "output_type": "stream",
          "text": [
            "True가 하나라도 있는가\t: True\n",
            "모두 True인가\t\t: False\n"
          ],
          "name": "stdout"
        }
      ]
    },
    {
      "cell_type": "code",
      "metadata": {
        "colab": {
          "base_uri": "https://localhost:8080/"
        },
        "id": "bh7iz4pn8--X",
        "outputId": "18e770fd-713d-4615-cb33-ebc1a31487a3"
      },
      "source": [
        "sample_multi_array_data1 = np.arange(9).reshape(3, 3)\n",
        "print(sample_multi_array_data1)\n",
        "print('5보다 큰 숫자가 몇 개인가:', (sample_multi_array_data1 > 5).sum())"
      ],
      "execution_count": 18,
      "outputs": [
        {
          "output_type": "stream",
          "text": [
            "[[0 1 2]\n",
            " [3 4 5]\n",
            " [6 7 8]]\n",
            "5보다 큰 숫자가 몇 개인가: 3\n"
          ],
          "name": "stdout"
        }
      ]
    },
    {
      "cell_type": "markdown",
      "metadata": {
        "id": "X_-h6EmK9VT3"
      },
      "source": [
        "대각성분 계산"
      ]
    },
    {
      "cell_type": "code",
      "metadata": {
        "colab": {
          "base_uri": "https://localhost:8080/"
        },
        "id": "fobqUufm9XI8",
        "outputId": "fa5d1961-fcb4-4193-ed9e-9dff71f84af8"
      },
      "source": [
        "sample_multi_array_data1 = np.arange(9).reshape(3, 3)\n",
        "print(sample_multi_array_data1)\n",
        "\n",
        "print('대각성분\\t\\t:', np.diag(sample_multi_array_data1))\n",
        "print('대각성분의 합\\t:', np.trace(sample_multi_array_data1))"
      ],
      "execution_count": 19,
      "outputs": [
        {
          "output_type": "stream",
          "text": [
            "[[0 1 2]\n",
            " [3 4 5]\n",
            " [6 7 8]]\n",
            "대각성분\t\t: [0 4 8]\n",
            "대각성분의 합\t: 12\n"
          ],
          "name": "stdout"
        }
      ]
    },
    {
      "cell_type": "markdown",
      "metadata": {
        "id": "HJ5n1Km9-D9w"
      },
      "source": [
        "연습문제"
      ]
    },
    {
      "cell_type": "code",
      "metadata": {
        "id": "OewpJcCF-Dqa",
        "colab": {
          "base_uri": "https://localhost:8080/"
        },
        "outputId": "b010a261-2726-49d6-d5d7-e3c6eda94be2"
      },
      "source": [
        "sample_multi_array_data2 = np.arange(16).reshape(4, 4)\n",
        "\n",
        "# 5-4\n",
        "np.sqrt(sample_multi_array_data2)"
      ],
      "execution_count": 23,
      "outputs": [
        {
          "output_type": "execute_result",
          "data": {
            "text/plain": [
              "array([[0.   , 1.   , 1.414, 1.732],\n",
              "       [2.   , 2.236, 2.449, 2.646],\n",
              "       [2.828, 3.   , 3.162, 3.317],\n",
              "       [3.464, 3.606, 3.742, 3.873]])"
            ]
          },
          "metadata": {
            "tags": []
          },
          "execution_count": 23
        }
      ]
    },
    {
      "cell_type": "code",
      "metadata": {
        "id": "ygHLBEgC-Df7",
        "colab": {
          "base_uri": "https://localhost:8080/"
        },
        "outputId": "f59a12f6-2516-40f2-e85b-b6d81138c0b6"
      },
      "source": [
        "# 5-5\n",
        "\n",
        "print(\"최대값\\t\", sample_multi_array_data2.max())\n",
        "print(\"최소값\\t\", sample_multi_array_data2.min())\n",
        "print(\"합계\\t\", sample_multi_array_data2.sum())\n",
        "print(\"평균값\\t\", sample_multi_array_data2.mean())"
      ],
      "execution_count": 25,
      "outputs": [
        {
          "output_type": "stream",
          "text": [
            "최대값\t 15\n",
            "최소값\t 0\n",
            "합계\t 120\n",
            "평균값\t 7.5\n"
          ],
          "name": "stdout"
        }
      ]
    },
    {
      "cell_type": "code",
      "metadata": {
        "id": "i6Kxq9sK-DDW",
        "colab": {
          "base_uri": "https://localhost:8080/"
        },
        "outputId": "39ffc255-b4ac-487c-fcd2-09bb6b6ebbb0"
      },
      "source": [
        "# 5-6\n",
        "\n",
        "print('대각성분\\t\\t:', np.diag(sample_multi_array_data2))\n",
        "print('대각성분의 합\\t:', np.trace(sample_multi_array_data2))"
      ],
      "execution_count": 26,
      "outputs": [
        {
          "output_type": "stream",
          "text": [
            "대각성분\t\t: [ 0  5 10 15]\n",
            "대각성분의 합\t: 30\n"
          ],
          "name": "stdout"
        }
      ]
    },
    {
      "cell_type": "markdown",
      "metadata": {
        "id": "UauCmafN-LYz"
      },
      "source": [
        "### 5.2.3 배열의 조작과 브로드캐스트"
      ]
    },
    {
      "cell_type": "markdown",
      "metadata": {
        "id": "XSJzK0B8-PjK"
      },
      "source": [
        "재배열(reshape)"
      ]
    },
    {
      "cell_type": "code",
      "metadata": {
        "id": "_YrCssJa-TbX"
      },
      "source": [
        "sample_array = np.arange(10)\n",
        "sample_array"
      ],
      "execution_count": null,
      "outputs": []
    },
    {
      "cell_type": "code",
      "metadata": {
        "id": "o6ZBTIsq-ZWu"
      },
      "source": [
        "sample_array2 = sample_array.reshape(2, 5)\n",
        "sample_array2"
      ],
      "execution_count": null,
      "outputs": []
    },
    {
      "cell_type": "code",
      "metadata": {
        "id": "1-T8xr4O-lXo"
      },
      "source": [
        "sample_array2.reshape(5, 2)"
      ],
      "execution_count": null,
      "outputs": []
    },
    {
      "cell_type": "markdown",
      "metadata": {
        "id": "1wt5dbEE-SMP"
      },
      "source": [
        "데이터 결합 - 수직 방향 결합"
      ]
    },
    {
      "cell_type": "code",
      "metadata": {
        "id": "jpKFlDVp-SDp"
      },
      "source": [
        "sample_array3 = np.array([[1, 2, 3], [4, 5, 6]])\n",
        "sample_array4 = np.array([[7, 8, 9], [10, 11, 12]])\n",
        "print(sample_array3)\n",
        "print(sample_array4)"
      ],
      "execution_count": null,
      "outputs": []
    },
    {
      "cell_type": "code",
      "metadata": {
        "id": "wOW_u2k4-_QA"
      },
      "source": [
        "np.concatenate([sample_array3, sample_array4], axis = 0)"
      ],
      "execution_count": null,
      "outputs": []
    },
    {
      "cell_type": "code",
      "metadata": {
        "id": "WcAcFisS_ION"
      },
      "source": [
        "np.vstack([sample_array3, sample_array4])"
      ],
      "execution_count": null,
      "outputs": []
    },
    {
      "cell_type": "markdown",
      "metadata": {
        "id": "LZCDkRhu_WM5"
      },
      "source": [
        "데이터 결합 - 수평 방향 결합"
      ]
    },
    {
      "cell_type": "code",
      "metadata": {
        "id": "SNLZaLHX_E-0"
      },
      "source": [
        "np.concatenate([sample_array3, sample_array4], axis = 1)"
      ],
      "execution_count": null,
      "outputs": []
    },
    {
      "cell_type": "code",
      "metadata": {
        "id": "_6WI87Yy_ZvN"
      },
      "source": [
        "np.hstack([sample_array3, sample_array4])"
      ],
      "execution_count": null,
      "outputs": []
    },
    {
      "cell_type": "markdown",
      "metadata": {
        "id": "StsEP2-G-R3n"
      },
      "source": [
        "배열 분할"
      ]
    },
    {
      "cell_type": "code",
      "metadata": {
        "id": "9a6gUTin-Rr3"
      },
      "source": [
        "sample_array3 = np.array([[1, 2, 3], [4, 5, 6]])\n",
        "sample_array4 = np.array([[7, 8, 9], [10, 11, 12]])\n",
        "sample_array_vstack = np.vstack([sample_array3, sample_array4])\n",
        "sample_array_vstack"
      ],
      "execution_count": null,
      "outputs": []
    },
    {
      "cell_type": "code",
      "metadata": {
        "id": "Qyoa51u5_qn8"
      },
      "source": [
        "first, second, third = np.split(sample_array_vstack, [1, 3])\n",
        "# ~1 / 1~3 / 3~ 으로 분할 >>> 0 / 1, 2 / 3\n",
        "\n",
        "print(\"first\\n\", first)\n",
        "print(\"second\\n\", second)\n",
        "print(\"second[0]\\n\", second[0])\n",
        "print(\"third\\n\", third)"
      ],
      "execution_count": null,
      "outputs": []
    },
    {
      "cell_type": "code",
      "metadata": {
        "id": "_7gdx8XG_qgP"
      },
      "source": [
        "sample_array5 = np.array(np.arange(13, 22)).reshape(3, 3)\n",
        "sample_array_vstack2 = np.vstack([sample_array3, sample_array4, sample_array5])\n",
        "sample_array_vstack2"
      ],
      "execution_count": null,
      "outputs": []
    },
    {
      "cell_type": "code",
      "metadata": {
        "id": "UhZLg34zA8Ja"
      },
      "source": [
        "first, second, third, forth = np.split(sample_array_vstack2, [2, 3, 5])\n",
        "# ~2, 2~3, 3~5, 5 으로 분할 >>> 0, 1 / 2 / 3, 4 / 5\n",
        "\n",
        "print(\"first\\n\", first)\n",
        "print(\"first[0]\\n\", first[0])\n",
        "print(\"first[1]\\n\", first[1])\n",
        "print(\"second\\n\", second)\n",
        "print(\"third\\n\", third)\n",
        "print(\"forth\\n\", forth)"
      ],
      "execution_count": null,
      "outputs": []
    },
    {
      "cell_type": "markdown",
      "metadata": {
        "id": "L4Ms-lIKBhJD"
      },
      "source": [
        "반복 작업"
      ]
    },
    {
      "cell_type": "code",
      "metadata": {
        "id": "6On6C9u1BjiX"
      },
      "source": [
        "print(first)\n",
        "print(first.repeat(5))"
      ],
      "execution_count": null,
      "outputs": []
    },
    {
      "cell_type": "markdown",
      "metadata": {
        "id": "lwvMhpB_BxvC"
      },
      "source": [
        "브로드캐스트"
      ]
    },
    {
      "cell_type": "code",
      "metadata": {
        "id": "oMM9ZyH8Bxdn"
      },
      "source": [
        "sample_array = np.arange(10)\n",
        "print(sample_array)"
      ],
      "execution_count": null,
      "outputs": []
    },
    {
      "cell_type": "code",
      "metadata": {
        "id": "_Bpl5JjfCBYW"
      },
      "source": [
        "sample_array+3"
      ],
      "execution_count": null,
      "outputs": []
    },
    {
      "cell_type": "markdown",
      "metadata": {
        "id": "TZ966qpxBz6Y"
      },
      "source": [
        "연습문제"
      ]
    },
    {
      "cell_type": "code",
      "metadata": {
        "id": "Ee4wqFZrB1Me"
      },
      "source": [
        "# 5-7"
      ],
      "execution_count": null,
      "outputs": []
    },
    {
      "cell_type": "code",
      "metadata": {
        "id": "M1le-htlB2vI"
      },
      "source": [
        "# 5-8"
      ],
      "execution_count": null,
      "outputs": []
    },
    {
      "cell_type": "code",
      "metadata": {
        "id": "YsdO1BX9B2hP"
      },
      "source": [
        "# 5-9"
      ],
      "execution_count": null,
      "outputs": []
    },
    {
      "cell_type": "markdown",
      "metadata": {
        "id": "E7pLg99Ny-sS"
      },
      "source": [
        "## 5.3 사이파이 응용"
      ]
    },
    {
      "cell_type": "markdown",
      "metadata": {
        "id": "JO_ABEPyCL0o"
      },
      "source": [
        "### 5.3.1 보간법"
      ]
    },
    {
      "cell_type": "code",
      "metadata": {
        "id": "GUf1ccoxF02_"
      },
      "source": [
        "x = np.linspace(0, 10, num = 11, endpoint = True)\n",
        "y = np.cos(-x**2/5.0)\n",
        "plt.plot(x, y, 'o')\n",
        "plt.grid(True)"
      ],
      "execution_count": null,
      "outputs": []
    },
    {
      "cell_type": "markdown",
      "metadata": {
        "id": "NptVvyweCOHY"
      },
      "source": [
        "선형 보간법"
      ]
    },
    {
      "cell_type": "code",
      "metadata": {
        "id": "ZdmRQMXCFy_V"
      },
      "source": [
        "from scipy import interpolate\n",
        "\n",
        "f = interpolate.interp1d(x, y, 'linear')\n",
        "plt.plot(x, f(x), '-')\n",
        "plt.grid(True)"
      ],
      "execution_count": null,
      "outputs": []
    },
    {
      "cell_type": "markdown",
      "metadata": {
        "id": "ud2QGskkCSHo"
      },
      "source": [
        "스플라인 3차 보간법"
      ]
    },
    {
      "cell_type": "code",
      "metadata": {
        "id": "i3EIS2_NybkC"
      },
      "source": [
        "f2 = interpolate.interp1d(x, y , 'cubic')\n",
        "xnew = np.linspace(0, 10, num = 100, endpoint = True)\n",
        "plt.plot(x, y, 'o', xnew, f(xnew), '-', xnew, f2(xnew), '--')\n",
        "plt.legend(['data', 'linear', 'cubic'], loc = 'best')\n",
        "plt.grid(True)"
      ],
      "execution_count": null,
      "outputs": []
    },
    {
      "cell_type": "markdown",
      "metadata": {
        "id": "yugIk-txHW2w"
      },
      "source": [
        "연습문제"
      ]
    },
    {
      "cell_type": "code",
      "metadata": {
        "id": "sNysfXrpG54l"
      },
      "source": [
        "# 5-10"
      ],
      "execution_count": null,
      "outputs": []
    },
    {
      "cell_type": "code",
      "metadata": {
        "id": "eDGVpu8dHax0"
      },
      "source": [
        "# 5-11"
      ],
      "execution_count": null,
      "outputs": []
    },
    {
      "cell_type": "code",
      "metadata": {
        "id": "wTPYEYI6HcEz"
      },
      "source": [
        "# 5-12"
      ],
      "execution_count": null,
      "outputs": []
    },
    {
      "cell_type": "markdown",
      "metadata": {
        "id": "tYTPK6bzHgRU"
      },
      "source": [
        "### 5.3.2 선형대수: 행렬 분해"
      ]
    },
    {
      "cell_type": "markdown",
      "metadata": {
        "id": "55uwZn8EHmVs"
      },
      "source": [
        "특잇값 분해"
      ]
    },
    {
      "cell_type": "code",
      "metadata": {
        "id": "hmQAyCFmHeLe"
      },
      "source": [
        "A = np.array([[1, 2, 3, 4, 5], [6, 7, 8, 9, 10]])\n",
        "U, s, Vs = sp.linalg.svd(A)\n",
        "m, n = A.shape\n",
        "\n",
        "S = sp.linalg.diagsvd(s, m, n)\n",
        "print('U.S.V* = \\n', U@S@Vs)\n",
        "print(\"U\\n\", U)\n",
        "print(\"S\\n\", S)\n",
        "print(\"Vs\\n\", Vs)"
      ],
      "execution_count": null,
      "outputs": []
    },
    {
      "cell_type": "markdown",
      "metadata": {
        "id": "MiAoVifqIa2H"
      },
      "source": [
        "LU 분해"
      ]
    },
    {
      "cell_type": "code",
      "metadata": {
        "id": "I4ghFP3eH7vj"
      },
      "source": [
        "A = np.identity(5)\n",
        "A[0, :] = 1\n",
        "A[:, 0] = 1\n",
        "A[0, 0] = 5\n",
        "b = np.ones(5)\n",
        "\n",
        "(LU, piv) = sp.linalg.lu_factor(A)\n",
        "L = np.identity(5) + np.tril(LU, -1)\n",
        "U = np.triu(LU)\n",
        "P = np.identity(5)[piv]\n",
        "\n",
        "x = sp.linalg.lu_solve((LU, piv), b)\n",
        "x\n"
      ],
      "execution_count": null,
      "outputs": []
    },
    {
      "cell_type": "markdown",
      "metadata": {
        "id": "cywcoTndJTj6"
      },
      "source": [
        "숄레스키 분해"
      ]
    },
    {
      "cell_type": "code",
      "metadata": {
        "id": "CtdaJz0BI4vR"
      },
      "source": [
        "A = np.array([[7, -1, 0, 1],\n",
        "             [-1, 9, -2, 2],\n",
        "             [0, -2, 8, -3],\n",
        "             [1, 2, -3, 10]])\n",
        "b = np.array([5, 20, 0, 20])\n",
        "L = sp.linalg.cholesky(A)\n",
        "\n",
        "t = sp.linalg.solve(L.T.conj(), b)\n",
        "x = sp.linalg.solve(L, t)\n",
        "\n",
        "print(x)"
      ],
      "execution_count": null,
      "outputs": []
    },
    {
      "cell_type": "code",
      "metadata": {
        "id": "d8Okj8K9Khr-"
      },
      "source": [
        "np.dot(A, x)"
      ],
      "execution_count": null,
      "outputs": []
    },
    {
      "cell_type": "markdown",
      "metadata": {
        "id": "owZullhBKp3P"
      },
      "source": [
        "음수미포함행렬분해 Non-negative Matrix Factorization(NMF)"
      ]
    },
    {
      "cell_type": "code",
      "metadata": {
        "id": "THX4zWUaKyC4"
      },
      "source": [
        "from sklearn.decomposition import NMF\n",
        "\n",
        "X = np.array([[1, 1, 1], [2, 2, 2], [3, 3, 3], [4, 4, 4]])\n",
        "model = NMF(n_components = 2, init = 'random', random_state = 0)\n",
        "\n",
        "W = model.fit_transform(X)\n",
        "H = model.components_\n",
        "W"
      ],
      "execution_count": null,
      "outputs": []
    },
    {
      "cell_type": "code",
      "metadata": {
        "id": "m8Lc-Z64LOIi"
      },
      "source": [
        "H"
      ],
      "execution_count": null,
      "outputs": []
    },
    {
      "cell_type": "code",
      "metadata": {
        "id": "dYbEcqveLPXi"
      },
      "source": [
        "np.dot(W, H)"
      ],
      "execution_count": null,
      "outputs": []
    },
    {
      "cell_type": "code",
      "metadata": {
        "id": "Gh9xSyeeLRZf"
      },
      "source": [
        "W@H"
      ],
      "execution_count": null,
      "outputs": []
    },
    {
      "cell_type": "markdown",
      "metadata": {
        "id": "IhdmfAS4JW35"
      },
      "source": [
        "연습문제"
      ]
    },
    {
      "cell_type": "code",
      "metadata": {
        "id": "A6UY1XiCJXiu"
      },
      "source": [
        "# 5-13"
      ],
      "execution_count": null,
      "outputs": []
    },
    {
      "cell_type": "markdown",
      "metadata": {
        "id": "zph14FNcJZQJ"
      },
      "source": [
        "### 5.3.3 적분과 미분방적식"
      ]
    },
    {
      "cell_type": "markdown",
      "metadata": {
        "id": "OEqF1PKRJdFi"
      },
      "source": [
        "적분"
      ]
    },
    {
      "cell_type": "code",
      "metadata": {
        "id": "0GTYcNJ8JfhS"
      },
      "source": [
        "from scipy import integrate\n",
        "import math"
      ],
      "execution_count": null,
      "outputs": []
    },
    {
      "cell_type": "code",
      "metadata": {
        "id": "ywcxLwPKLb6q"
      },
      "source": [
        "def calcPi(x):\n",
        "    return 4/(1+x**2)"
      ],
      "execution_count": null,
      "outputs": []
    },
    {
      "cell_type": "code",
      "metadata": {
        "id": "7ld87UmuLb3s"
      },
      "source": [
        "integrate.quad(calcPi, 0, 1)"
      ],
      "execution_count": null,
      "outputs": []
    },
    {
      "cell_type": "code",
      "metadata": {
        "id": "bz9xSJriLb0q"
      },
      "source": [
        "integrate.quad(lambda x: 4/(1+x**2), 0, 1)"
      ],
      "execution_count": null,
      "outputs": []
    },
    {
      "cell_type": "code",
      "metadata": {
        "id": "5giQBEZfL1d0"
      },
      "source": [
        "# Questions 식이 주어지지 않고 점들만 주어진다면 그 아래 면적 적분을 어떻게 해야할까"
      ],
      "execution_count": null,
      "outputs": []
    },
    {
      "cell_type": "markdown",
      "metadata": {
        "id": "vkjmHZvVJe61"
      },
      "source": [
        "sin 함수를 구하는 예"
      ]
    },
    {
      "cell_type": "code",
      "metadata": {
        "id": "SMy2NfaGJYkf"
      },
      "source": [
        "from numpy import sin\n",
        "integrate.quad(sin, 0, math.pi/1)"
      ],
      "execution_count": null,
      "outputs": []
    },
    {
      "cell_type": "code",
      "metadata": {
        "id": "qse6D9rHLy7B"
      },
      "source": [
        "def I(n):\n",
        "    return integrate.dblquad(lambda t, x: np.exp(-x*t)/t**n, 0, np.inf, lambda x: 1, lambda x: np.inf)\n",
        "print('n=1일 때', I(1))\n",
        "print('n=2일 때', I(2))\n",
        "print('n=3일 때', I(3))\n",
        "print('n=4일 때', I(4))"
      ],
      "execution_count": null,
      "outputs": []
    },
    {
      "cell_type": "markdown",
      "metadata": {
        "id": "5L9QgiprJjDI"
      },
      "source": [
        "미분방적식 계산"
      ]
    },
    {
      "cell_type": "code",
      "metadata": {
        "id": "-vxYWJecJkV4"
      },
      "source": [
        "import numpy as np\n",
        "from scipy.integrate import odeint\n",
        "import matplotlib.pyplot as plt\n",
        "from mpl_toolkits.mplot3d import Axes3D\n",
        "\n",
        "def lorenz_func(v, t, p, r, b):\n",
        "    return [-p*v[0]+p*v[1], -v[0]*v[2]+r*v[0]-v[1], v[0]*v[1]-b*v[2]]"
      ],
      "execution_count": null,
      "outputs": []
    },
    {
      "cell_type": "code",
      "metadata": {
        "id": "GnkLuDD-SWsq"
      },
      "source": [
        "p = 10\n",
        "r = 28\n",
        "b = 8/3\n",
        "v0 = [0.1, 0.1, 0.1]\n",
        "t = np.arange(0, 100, 0.01)\n",
        "\n",
        "v = odeint(lorenz_func, v0, t, args = (p, r, b))\n",
        "\n",
        "fig = plt.figure()\n",
        "ax = fig.gca(projection = '3d')\n",
        "ax.plot(v[:, 0], v[:, 1], v[:, 2])\n",
        "plt.title('Lorenz')\n",
        "plt.grid(True)"
      ],
      "execution_count": null,
      "outputs": []
    },
    {
      "cell_type": "markdown",
      "metadata": {
        "id": "CocBVqmiJlji"
      },
      "source": [
        "연습문제"
      ]
    },
    {
      "cell_type": "code",
      "metadata": {
        "id": "BcwmisE2Jm0Z"
      },
      "source": [
        "# 5-15"
      ],
      "execution_count": null,
      "outputs": []
    },
    {
      "cell_type": "code",
      "metadata": {
        "id": "fKyJ7AgXJoEc"
      },
      "source": [
        "# 5-16"
      ],
      "execution_count": null,
      "outputs": []
    },
    {
      "cell_type": "markdown",
      "metadata": {
        "id": "clgkoTA9JrtN"
      },
      "source": [
        "### 5.2.4 최적화"
      ]
    },
    {
      "cell_type": "code",
      "metadata": {
        "id": "XKU-iRjIJpOK"
      },
      "source": [
        "from scipy.optimize import fsolve"
      ],
      "execution_count": null,
      "outputs": []
    },
    {
      "cell_type": "markdown",
      "metadata": {
        "id": "5f0F6Ip2JvSE"
      },
      "source": [
        "2차원 함수의 최적화"
      ]
    },
    {
      "cell_type": "code",
      "metadata": {
        "id": "d6DIQmieJwX0"
      },
      "source": [
        "def f(x):\n",
        "    y = 2*x**2 + 2*x + -10\n",
        "    return y"
      ],
      "execution_count": null,
      "outputs": []
    },
    {
      "cell_type": "code",
      "metadata": {
        "id": "sN6YODYRVFVy"
      },
      "source": [
        "x = np.linspace(-4, 4)\n",
        "plt.plot(x, f(x))\n",
        "plt.plot(x, np.zeros(len(x)))\n",
        "plt.grid(True)"
      ],
      "execution_count": null,
      "outputs": []
    },
    {
      "cell_type": "code",
      "metadata": {
        "id": "bZXXLrl4VFMS"
      },
      "source": [
        "x = fsolve(f, 2)\n",
        "print(x)"
      ],
      "execution_count": null,
      "outputs": []
    },
    {
      "cell_type": "code",
      "metadata": {
        "id": "bEAtjJ3zVg89"
      },
      "source": [
        "x = fsolve(f, -3)\n",
        "print(x)"
      ],
      "execution_count": null,
      "outputs": []
    },
    {
      "cell_type": "markdown",
      "metadata": {
        "id": "n4RQjnHjJxYF"
      },
      "source": [
        "최적화 문제 풀기"
      ]
    },
    {
      "cell_type": "code",
      "metadata": {
        "id": "xTPyelc7JyMj"
      },
      "source": [
        "from scipy.optimize import minimize"
      ],
      "execution_count": null,
      "outputs": []
    },
    {
      "cell_type": "code",
      "metadata": {
        "id": "OCXaePB7VoQI"
      },
      "source": [
        "def objective(x):\n",
        "    x1 = x[0]\n",
        "    x2 = x[1]\n",
        "    x3 = x[2]\n",
        "    x4 = x[3]\n",
        "    return x1*x4*(x1+x2+x3)+x3"
      ],
      "execution_count": null,
      "outputs": []
    },
    {
      "cell_type": "code",
      "metadata": {
        "id": "hvpl8HAwV5C3"
      },
      "source": [
        "def constraint1(x):\n",
        "    return x[0]*x[1]*x[2]*x[3]-25.0\n",
        "\n",
        "def constraint2(x):\n",
        "    sum_sq = 40\n",
        "    for i in range(4):\n",
        "        sum_sq = sum_sq - x[i]**2\n",
        "    return sum_sq\n",
        "\n",
        "x0 = [1, 5, 5, 1]\n",
        "print(objective(x0))\n"
      ],
      "execution_count": null,
      "outputs": []
    },
    {
      "cell_type": "code",
      "metadata": {
        "id": "sj6WVqjvWTSi"
      },
      "source": [
        "b = (1.0, 5.0)\n",
        "bnds = (b, b, b, b)\n",
        "con1 = {'type':'ineq', 'fun':constraint1}\n",
        "con2 = {'type':'ineq', 'fun':constraint2}\n",
        "cons = [con1, con2]"
      ],
      "execution_count": null,
      "outputs": []
    },
    {
      "cell_type": "code",
      "metadata": {
        "id": "1kRDbR5AWhjl"
      },
      "source": [
        "sol = minimize(objective, x0, method = 'SLSQP', bounds = bnds, constraints = cons)\n",
        "print(sol)"
      ],
      "execution_count": null,
      "outputs": []
    },
    {
      "cell_type": "code",
      "metadata": {
        "id": "tnE6kPl4Wtmd"
      },
      "source": [
        "print('Y:', sol.fun)\n",
        "print('X:', sol.x)"
      ],
      "execution_count": null,
      "outputs": []
    },
    {
      "cell_type": "markdown",
      "metadata": {
        "id": "h2u_5NnOJzUf"
      },
      "source": [
        "연습문제"
      ]
    },
    {
      "cell_type": "code",
      "metadata": {
        "id": "zgOk8iPBJ0Sp"
      },
      "source": [
        "# 5-17"
      ],
      "execution_count": null,
      "outputs": []
    },
    {
      "cell_type": "markdown",
      "metadata": {
        "id": "V75AcfPYJ2nq"
      },
      "source": [
        "## 종합문제"
      ]
    },
    {
      "cell_type": "code",
      "metadata": {
        "id": "On1NeGovJ1OG"
      },
      "source": [
        "# 5-1"
      ],
      "execution_count": null,
      "outputs": []
    },
    {
      "cell_type": "code",
      "metadata": {
        "id": "F90Xe8dEJ9XI"
      },
      "source": [
        "# 5-2"
      ],
      "execution_count": null,
      "outputs": []
    },
    {
      "cell_type": "code",
      "metadata": {
        "id": "61sdd5XgJ-iA"
      },
      "source": [
        "# 5-3"
      ],
      "execution_count": null,
      "outputs": []
    },
    {
      "cell_type": "code",
      "metadata": {
        "id": "JNbky49CJ_fv"
      },
      "source": [
        ""
      ],
      "execution_count": null,
      "outputs": []
    }
  ]
}