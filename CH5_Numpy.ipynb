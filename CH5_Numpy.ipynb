{
  "nbformat": 4,
  "nbformat_minor": 0,
  "metadata": {
    "colab": {
      "name": "CH5_Numpy",
      "provenance": [],
      "collapsed_sections": [],
      "authorship_tag": "ABX9TyPBmyri9smI6Uru1oFpFJ5Z"
    },
    "kernelspec": {
      "name": "python3",
      "display_name": "Python 3"
    },
    "language_info": {
      "name": "python"
    }
  },
  "cells": [
    {
      "cell_type": "markdown",
      "metadata": {
        "id": "bh20C74JymFZ"
      },
      "source": [
        "# 5. 파이썬을 이용한 과학 계산"
      ]
    },
    {
      "cell_type": "markdown",
      "metadata": {
        "id": "qPiwNu9XyxjA"
      },
      "source": [
        "## 5.1 개요와 사전준비"
      ]
    },
    {
      "cell_type": "markdown",
      "metadata": {
        "id": "BdRC96gHzTJ1"
      },
      "source": [
        "### 5.1.1 개요"
      ]
    },
    {
      "cell_type": "markdown",
      "metadata": {
        "id": "UvouC5UyzVaK"
      },
      "source": [
        "### 5.1.2 라이브러리 임포트"
      ]
    },
    {
      "cell_type": "code",
      "metadata": {
        "colab": {
          "base_uri": "https://localhost:8080/",
          "height": 35
        },
        "id": "kD0Z6Vk6zcV4",
        "outputId": "f0fdf067-d0dc-48af-be97-8a802fe74fe9"
      },
      "source": [
        "import numpy as np\n",
        "import numpy.random as random\n",
        "import scipy as sp\n",
        "\n",
        "import matplotlib.pyplot as plt\n",
        "import matplotlib as mpl\n",
        "%matplotlib inline\n",
        "%precision 3"
      ],
      "execution_count": 1,
      "outputs": [
        {
          "output_type": "execute_result",
          "data": {
            "application/vnd.google.colaboratory.intrinsic+json": {
              "type": "string"
            },
            "text/plain": [
              "'%.3f'"
            ]
          },
          "metadata": {},
          "execution_count": 1
        }
      ]
    },
    {
      "cell_type": "markdown",
      "metadata": {
        "id": "qgKmEoqWy2rB"
      },
      "source": [
        "## 5.2 넘파이를 이용한 계산 방법"
      ]
    },
    {
      "cell_type": "markdown",
      "metadata": {
        "id": "drGwqC7oz1I2"
      },
      "source": [
        "### 5.2.1 인덱스 참조"
      ]
    },
    {
      "cell_type": "markdown",
      "metadata": {
        "id": "AAZD3x2d0q6g"
      },
      "source": [
        "데이터 참조"
      ]
    },
    {
      "cell_type": "code",
      "metadata": {
        "colab": {
          "base_uri": "https://localhost:8080/"
        },
        "id": "7Vu0nn2lz4Ch",
        "outputId": "bfe2c001-8cd5-415a-e26c-bb4313931d6e"
      },
      "source": [
        "sample_array = np.arange(10)\n",
        "print('sample_array', sample_array)"
      ],
      "execution_count": 2,
      "outputs": [
        {
          "output_type": "stream",
          "text": [
            "sample_array [0 1 2 3 4 5 6 7 8 9]\n"
          ],
          "name": "stdout"
        }
      ]
    },
    {
      "cell_type": "code",
      "metadata": {
        "colab": {
          "base_uri": "https://localhost:8080/"
        },
        "id": "aECw_jni0AEV",
        "outputId": "1b7db966-2541-411e-d87f-c060d8392cf6"
      },
      "source": [
        "print(sample_array)\n",
        "sample_array_slice = sample_array[0:5]\n",
        "print(sample_array_slice)"
      ],
      "execution_count": 3,
      "outputs": [
        {
          "output_type": "stream",
          "text": [
            "[0 1 2 3 4 5 6 7 8 9]\n",
            "[0 1 2 3 4]\n"
          ],
          "name": "stdout"
        }
      ]
    },
    {
      "cell_type": "code",
      "metadata": {
        "colab": {
          "base_uri": "https://localhost:8080/"
        },
        "id": "kl6baz540J7T",
        "outputId": "4cc1bb88-8c30-4572-8730-080a9f59ef8d"
      },
      "source": [
        "sample_array_slice[0:3] = 10\n",
        "print(sample_array_slice)\n",
        "print(sample_array)\n",
        "\n",
        "# 슬라이싱은 원본 리스트의 원소 값도 변경한다는 점에 주의\n",
        "# 원래 변수 값도 바뀌는 이유는 복사가 아니라 참조하기 때문"
      ],
      "execution_count": 4,
      "outputs": [
        {
          "output_type": "stream",
          "text": [
            "[10 10 10  3  4]\n",
            "[10 10 10  3  4  5  6  7  8  9]\n"
          ],
          "name": "stdout"
        }
      ]
    },
    {
      "cell_type": "markdown",
      "metadata": {
        "id": "ZoGxd6T70ff1"
      },
      "source": [
        "데이터 복사"
      ]
    },
    {
      "cell_type": "code",
      "metadata": {
        "colab": {
          "base_uri": "https://localhost:8080/"
        },
        "id": "VOhJwtoh0fE6",
        "outputId": "f4538d7d-03b3-48f2-a0a4-63e48b2664fb"
      },
      "source": [
        "sample_array_copy = np.copy(sample_array) ###\n",
        "print(sample_array_copy)\n",
        "\n",
        "sample_array_copy[0:3] = 20\n",
        "print(sample_array_copy)\n",
        "\n",
        "print(sample_array)\n",
        "# copy해서 다른 object를 생성하면 원본 리스트의 원소는 변경되지 않음"
      ],
      "execution_count": 5,
      "outputs": [
        {
          "output_type": "stream",
          "text": [
            "[10 10 10  3  4  5  6  7  8  9]\n",
            "[20 20 20  3  4  5  6  7  8  9]\n",
            "[10 10 10  3  4  5  6  7  8  9]\n"
          ],
          "name": "stdout"
        }
      ]
    },
    {
      "cell_type": "markdown",
      "metadata": {
        "id": "-FinDHPJ1PAh"
      },
      "source": [
        "불(boolean) 인덱스 참조"
      ]
    },
    {
      "cell_type": "code",
      "metadata": {
        "colab": {
          "base_uri": "https://localhost:8080/"
        },
        "id": "3AR_pXfH1U3r",
        "outputId": "4ddf6868-42a0-43b6-ff73-892d343903ab"
      },
      "source": [
        "sample_names = np.array(['a', 'b', 'c', 'd', 'a'])\n",
        "random.seed(0)\n",
        "data = random.randn(5, 5)\n",
        "\n",
        "print(sample_names)\n",
        "print(data)"
      ],
      "execution_count": 6,
      "outputs": [
        {
          "output_type": "stream",
          "text": [
            "['a' 'b' 'c' 'd' 'a']\n",
            "[[ 1.764  0.4    0.979  2.241  1.868]\n",
            " [-0.977  0.95  -0.151 -0.103  0.411]\n",
            " [ 0.144  1.454  0.761  0.122  0.444]\n",
            " [ 0.334  1.494 -0.205  0.313 -0.854]\n",
            " [-2.553  0.654  0.864 -0.742  2.27 ]]\n"
          ],
          "name": "stdout"
        }
      ]
    },
    {
      "cell_type": "code",
      "metadata": {
        "colab": {
          "base_uri": "https://localhost:8080/"
        },
        "id": "D_3BlJsL1ryH",
        "outputId": "c8752b7e-35bb-4e5b-eda2-8d5262dc1927"
      },
      "source": [
        "sample_names == 'a'"
      ],
      "execution_count": 7,
      "outputs": [
        {
          "output_type": "execute_result",
          "data": {
            "text/plain": [
              "array([ True, False, False, False,  True])"
            ]
          },
          "metadata": {},
          "execution_count": 7
        }
      ]
    },
    {
      "cell_type": "code",
      "metadata": {
        "colab": {
          "base_uri": "https://localhost:8080/"
        },
        "id": "dwSSWSF_1vmk",
        "outputId": "0ae7e534-c901-4e50-e447-dc61f0ed7478"
      },
      "source": [
        "data[sample_names == 'a']\n",
        "# 2차원 배열이므로 0번째와 네 번째 열이 추출"
      ],
      "execution_count": 8,
      "outputs": [
        {
          "output_type": "execute_result",
          "data": {
            "text/plain": [
              "array([[ 1.764,  0.4  ,  0.979,  2.241,  1.868],\n",
              "       [-2.553,  0.654,  0.864, -0.742,  2.27 ]])"
            ]
          },
          "metadata": {},
          "execution_count": 8
        }
      ]
    },
    {
      "cell_type": "markdown",
      "metadata": {
        "id": "2Kd2o9iv1-KR"
      },
      "source": [
        "조건 제어\n",
        "\n",
        "* numpy.where(조건 배열, (True 일때) X 데이터, (False 일 때) Y 데이터)"
      ]
    },
    {
      "cell_type": "code",
      "metadata": {
        "colab": {
          "base_uri": "https://localhost:8080/"
        },
        "id": "6IqA6nPp1_Fd",
        "outputId": "c599e9c9-7d23-4e0c-f58c-d7f769322821"
      },
      "source": [
        "cond_data = np.array([True, True, False, False, True])\n",
        "x_array = np.array([1, 2, 3, 4, 5])\n",
        "y_array = np.array([100, 200, 300, 400, 500])\n",
        "print(np.where(cond_data, x_array, y_array))"
      ],
      "execution_count": 9,
      "outputs": [
        {
          "output_type": "stream",
          "text": [
            "[  1   2 300 400   5]\n"
          ],
          "name": "stdout"
        }
      ]
    },
    {
      "cell_type": "markdown",
      "metadata": {
        "id": "KtdMaMV12lBn"
      },
      "source": [
        "연습문제"
      ]
    },
    {
      "cell_type": "code",
      "metadata": {
        "id": "oSMvTaLe2p1k",
        "colab": {
          "base_uri": "https://localhost:8080/"
        },
        "outputId": "273bd87d-9c1f-420b-e5dc-897f8b5e2d54"
      },
      "source": [
        "sample_names = np.array(['a', 'b', 'c', 'd', 'a'])\n",
        "random.seed(0)\n",
        "data = random.rand(5, 5)\n",
        "\n",
        "print(sample_names)\n",
        "print(data)\n",
        "\n",
        "\n",
        "# 5-1\n",
        "\n",
        "data[sample_names=='b']"
      ],
      "execution_count": 10,
      "outputs": [
        {
          "output_type": "stream",
          "text": [
            "['a' 'b' 'c' 'd' 'a']\n",
            "[[0.549 0.715 0.603 0.545 0.424]\n",
            " [0.646 0.438 0.892 0.964 0.383]\n",
            " [0.792 0.529 0.568 0.926 0.071]\n",
            " [0.087 0.02  0.833 0.778 0.87 ]\n",
            " [0.979 0.799 0.461 0.781 0.118]]\n"
          ],
          "name": "stdout"
        },
        {
          "output_type": "execute_result",
          "data": {
            "text/plain": [
              "array([[0.646, 0.438, 0.892, 0.964, 0.383]])"
            ]
          },
          "metadata": {},
          "execution_count": 10
        }
      ]
    },
    {
      "cell_type": "code",
      "metadata": {
        "id": "Ey2wIgEH2ps2",
        "colab": {
          "base_uri": "https://localhost:8080/"
        },
        "outputId": "b62bb88c-6e3f-4750-c055-d2bc70315146"
      },
      "source": [
        "# 5-2\n",
        "\n",
        "data[sample_names!='c']"
      ],
      "execution_count": 11,
      "outputs": [
        {
          "output_type": "execute_result",
          "data": {
            "text/plain": [
              "array([[0.549, 0.715, 0.603, 0.545, 0.424],\n",
              "       [0.646, 0.438, 0.892, 0.964, 0.383],\n",
              "       [0.087, 0.02 , 0.833, 0.778, 0.87 ],\n",
              "       [0.979, 0.799, 0.461, 0.781, 0.118]])"
            ]
          },
          "metadata": {},
          "execution_count": 11
        }
      ]
    },
    {
      "cell_type": "code",
      "metadata": {
        "id": "E-isaRyN2pJq",
        "colab": {
          "base_uri": "https://localhost:8080/"
        },
        "outputId": "d4fade81-69f4-45b8-a8ac-d365a3645c7a"
      },
      "source": [
        "# 5-3\n",
        "\n",
        "x_array = np.array([1,2,3,4,5])\n",
        "y_array = np.array([6,7,8,9,10])\n",
        "\n",
        "np.where([False, False, True, True, False], x_array, y_array)"
      ],
      "execution_count": 12,
      "outputs": [
        {
          "output_type": "execute_result",
          "data": {
            "text/plain": [
              "array([ 6,  7,  3,  4, 10])"
            ]
          },
          "metadata": {},
          "execution_count": 12
        }
      ]
    },
    {
      "cell_type": "markdown",
      "metadata": {
        "id": "mkuaI93t2qg7"
      },
      "source": [
        "### 5.2.2 넘파이를 이용한 연산 작업"
      ]
    },
    {
      "cell_type": "markdown",
      "metadata": {
        "id": "vNprmQXU21KS"
      },
      "source": [
        "중복 삭제"
      ]
    },
    {
      "cell_type": "code",
      "metadata": {
        "colab": {
          "base_uri": "https://localhost:8080/"
        },
        "id": "d3C6gkSi22vU",
        "outputId": "a5a8e08e-aae3-43f2-bfba-8d8708b58396"
      },
      "source": [
        "cond_data = np.array([True, True, False, False, True])\n",
        "\n",
        "print(cond_data)\n",
        "print(np.unique(cond_data))\n",
        "print(cond_data) # inplace 안됨"
      ],
      "execution_count": 13,
      "outputs": [
        {
          "output_type": "stream",
          "text": [
            "[ True  True False False  True]\n",
            "[False  True]\n",
            "[ True  True False False  True]\n"
          ],
          "name": "stdout"
        }
      ]
    },
    {
      "cell_type": "markdown",
      "metadata": {
        "id": "Q-qUdmdI3JwK"
      },
      "source": [
        "범용 함수\n",
        "\n",
        ": 모든 원소에 함수를 적용할 수 있는 기능\n",
        "\n"
      ]
    },
    {
      "cell_type": "code",
      "metadata": {
        "colab": {
          "base_uri": "https://localhost:8080/"
        },
        "id": "WlaSd7vq3JVA",
        "outputId": "8168a986-a405-4ca1-83d5-9beb5f5e52cd"
      },
      "source": [
        "sample_data = np.arange(10)\n",
        "print('원본 데이터 \\t\\t:', sample_data)\n",
        "print('모든 원소의 제곱근 \\t\\t:', np.sqrt(sample_data))\n",
        "print('모든 원소의 자연상수 지수함수 \\t:', np.exp(sample_data))"
      ],
      "execution_count": 14,
      "outputs": [
        {
          "output_type": "stream",
          "text": [
            "원본 데이터 \t\t: [0 1 2 3 4 5 6 7 8 9]\n",
            "모든 원소의 제곱근 \t\t: [0.    1.    1.414 1.732 2.    2.236 2.449 2.646 2.828 3.   ]\n",
            "모든 원소의 자연상수 지수함수 \t: [1.000e+00 2.718e+00 7.389e+00 2.009e+01 5.460e+01 1.484e+02 4.034e+02\n",
            " 1.097e+03 2.981e+03 8.103e+03]\n"
          ],
          "name": "stdout"
        }
      ]
    },
    {
      "cell_type": "markdown",
      "metadata": {
        "id": "8WxBwGhm38ne"
      },
      "source": [
        "최소, 최대, 평균, 합계 계산"
      ]
    },
    {
      "cell_type": "code",
      "metadata": {
        "colab": {
          "base_uri": "https://localhost:8080/"
        },
        "id": "Df-Dncab33VU",
        "outputId": "cb8cc2d2-3524-42c6-d354-747c35855692"
      },
      "source": [
        "sample_multi_array_data1 = np.arange(9).reshape(3, 3)\n",
        "print(sample_multi_array_data1)"
      ],
      "execution_count": 15,
      "outputs": [
        {
          "output_type": "stream",
          "text": [
            "[[0 1 2]\n",
            " [3 4 5]\n",
            " [6 7 8]]\n"
          ],
          "name": "stdout"
        }
      ]
    },
    {
      "cell_type": "code",
      "metadata": {
        "colab": {
          "base_uri": "https://localhost:8080/"
        },
        "id": "UHnrcQtD3JJ1",
        "outputId": "c9ea5e2b-b719-46ee-8abc-c865acc814c0"
      },
      "source": [
        "print('최소값\\t:', sample_multi_array_data1.min())\n",
        "print('최대값\\t:', sample_multi_array_data1.max())\n",
        "print('평균\\t:', sample_multi_array_data1.mean())\n",
        "print('합계\\t:', sample_multi_array_data1.sum())\n",
        "\n",
        "print('행 합계\\t:', sample_multi_array_data1.sum(axis = 1))\n",
        "print('열 합계\\t:', sample_multi_array_data1.sum(axis = 0))"
      ],
      "execution_count": 16,
      "outputs": [
        {
          "output_type": "stream",
          "text": [
            "최소값\t: 0\n",
            "최대값\t: 8\n",
            "평균\t: 4.0\n",
            "합계\t: 36\n",
            "행 합계\t: [ 3 12 21]\n",
            "열 합계\t: [ 9 12 15]\n"
          ],
          "name": "stdout"
        }
      ]
    },
    {
      "cell_type": "markdown",
      "metadata": {
        "id": "QWU1VZqc8ie9"
      },
      "source": [
        "진릿값 판정"
      ]
    },
    {
      "cell_type": "code",
      "metadata": {
        "id": "VH8J3Xu03JCp",
        "colab": {
          "base_uri": "https://localhost:8080/"
        },
        "outputId": "ddef78c0-0c7a-4fc5-ee6e-b06eaa4a725e"
      },
      "source": [
        "cond_data = np.array([ True,  True, False, False,  True])\n",
        "\n",
        "print('True가 하나라도 있는가\\t:', cond_data.any())\n",
        "print('모두 True인가\\t\\t:', cond_data.all())"
      ],
      "execution_count": 17,
      "outputs": [
        {
          "output_type": "stream",
          "text": [
            "True가 하나라도 있는가\t: True\n",
            "모두 True인가\t\t: False\n"
          ],
          "name": "stdout"
        }
      ]
    },
    {
      "cell_type": "code",
      "metadata": {
        "colab": {
          "base_uri": "https://localhost:8080/"
        },
        "id": "bh7iz4pn8--X",
        "outputId": "eebed36c-9bcd-407f-e3c0-c2079ab69132"
      },
      "source": [
        "sample_multi_array_data1 = np.arange(9).reshape(3, 3)\n",
        "print(sample_multi_array_data1)\n",
        "print('5보다 큰 숫자가 몇 개인가:', (sample_multi_array_data1 > 5).sum())"
      ],
      "execution_count": 18,
      "outputs": [
        {
          "output_type": "stream",
          "text": [
            "[[0 1 2]\n",
            " [3 4 5]\n",
            " [6 7 8]]\n",
            "5보다 큰 숫자가 몇 개인가: 3\n"
          ],
          "name": "stdout"
        }
      ]
    },
    {
      "cell_type": "markdown",
      "metadata": {
        "id": "X_-h6EmK9VT3"
      },
      "source": [
        "대각성분 계산"
      ]
    },
    {
      "cell_type": "code",
      "metadata": {
        "colab": {
          "base_uri": "https://localhost:8080/"
        },
        "id": "fobqUufm9XI8",
        "outputId": "0f64e98e-8adf-4f44-bcc4-0e9dbe8e772b"
      },
      "source": [
        "sample_multi_array_data1 = np.arange(9).reshape(3, 3)\n",
        "print(sample_multi_array_data1)\n",
        "\n",
        "print('대각성분\\t\\t:', np.diag(sample_multi_array_data1))\n",
        "print('대각성분의 합\\t:', np.trace(sample_multi_array_data1))"
      ],
      "execution_count": 19,
      "outputs": [
        {
          "output_type": "stream",
          "text": [
            "[[0 1 2]\n",
            " [3 4 5]\n",
            " [6 7 8]]\n",
            "대각성분\t\t: [0 4 8]\n",
            "대각성분의 합\t: 12\n"
          ],
          "name": "stdout"
        }
      ]
    },
    {
      "cell_type": "markdown",
      "metadata": {
        "id": "HJ5n1Km9-D9w"
      },
      "source": [
        "연습문제"
      ]
    },
    {
      "cell_type": "code",
      "metadata": {
        "id": "OewpJcCF-Dqa",
        "colab": {
          "base_uri": "https://localhost:8080/"
        },
        "outputId": "bff95204-46c1-4183-f890-4575448c90dc"
      },
      "source": [
        "sample_multi_array_data2 = np.arange(16).reshape(4, 4)\n",
        "\n",
        "# 5-4\n",
        "np.sqrt(sample_multi_array_data2)"
      ],
      "execution_count": 20,
      "outputs": [
        {
          "output_type": "execute_result",
          "data": {
            "text/plain": [
              "array([[0.   , 1.   , 1.414, 1.732],\n",
              "       [2.   , 2.236, 2.449, 2.646],\n",
              "       [2.828, 3.   , 3.162, 3.317],\n",
              "       [3.464, 3.606, 3.742, 3.873]])"
            ]
          },
          "metadata": {},
          "execution_count": 20
        }
      ]
    },
    {
      "cell_type": "code",
      "metadata": {
        "id": "ygHLBEgC-Df7",
        "colab": {
          "base_uri": "https://localhost:8080/"
        },
        "outputId": "4e19852f-3d2e-486c-ea41-342acaef9aeb"
      },
      "source": [
        "# 5-5\n",
        "\n",
        "print(\"최대값\\t:\", sample_multi_array_data2.max())\n",
        "print(\"최소값\\t:\", sample_multi_array_data2.min())\n",
        "print(\"합계\\t:\", sample_multi_array_data2.sum())\n",
        "print(\"평균값\\t:\", sample_multi_array_data2.mean())"
      ],
      "execution_count": 21,
      "outputs": [
        {
          "output_type": "stream",
          "text": [
            "최대값\t: 15\n",
            "최소값\t: 0\n",
            "합계\t: 120\n",
            "평균값\t: 7.5\n"
          ],
          "name": "stdout"
        }
      ]
    },
    {
      "cell_type": "code",
      "metadata": {
        "id": "i6Kxq9sK-DDW",
        "colab": {
          "base_uri": "https://localhost:8080/"
        },
        "outputId": "1b4d4130-3f62-41b8-8414-be52482a045e"
      },
      "source": [
        "# 5-6\n",
        "\n",
        "print('대각성분\\t\\t:', np.diag(sample_multi_array_data2))\n",
        "print('대각성분의 합\\t:', np.trace(sample_multi_array_data2))"
      ],
      "execution_count": 22,
      "outputs": [
        {
          "output_type": "stream",
          "text": [
            "대각성분\t\t: [ 0  5 10 15]\n",
            "대각성분의 합\t: 30\n"
          ],
          "name": "stdout"
        }
      ]
    },
    {
      "cell_type": "markdown",
      "metadata": {
        "id": "UauCmafN-LYz"
      },
      "source": [
        "### 5.2.3 배열의 조작과 브로드캐스트"
      ]
    },
    {
      "cell_type": "markdown",
      "metadata": {
        "id": "XSJzK0B8-PjK"
      },
      "source": [
        "재배열(reshape)"
      ]
    },
    {
      "cell_type": "code",
      "metadata": {
        "id": "_YrCssJa-TbX",
        "colab": {
          "base_uri": "https://localhost:8080/"
        },
        "outputId": "0579af42-2fde-4a8e-a594-cc0db14bf920"
      },
      "source": [
        "sample_array = np.arange(10)\n",
        "sample_array"
      ],
      "execution_count": 23,
      "outputs": [
        {
          "output_type": "execute_result",
          "data": {
            "text/plain": [
              "array([0, 1, 2, 3, 4, 5, 6, 7, 8, 9])"
            ]
          },
          "metadata": {},
          "execution_count": 23
        }
      ]
    },
    {
      "cell_type": "code",
      "metadata": {
        "id": "o6ZBTIsq-ZWu",
        "colab": {
          "base_uri": "https://localhost:8080/"
        },
        "outputId": "11802bc4-906b-4d6a-d8b9-f56d9e00b7a7"
      },
      "source": [
        "sample_array2 = sample_array.reshape(2, 5)\n",
        "sample_array2"
      ],
      "execution_count": 24,
      "outputs": [
        {
          "output_type": "execute_result",
          "data": {
            "text/plain": [
              "array([[0, 1, 2, 3, 4],\n",
              "       [5, 6, 7, 8, 9]])"
            ]
          },
          "metadata": {},
          "execution_count": 24
        }
      ]
    },
    {
      "cell_type": "code",
      "metadata": {
        "id": "1-T8xr4O-lXo",
        "colab": {
          "base_uri": "https://localhost:8080/"
        },
        "outputId": "bb28c370-fa1b-4638-955a-16ef9a3239b1"
      },
      "source": [
        "sample_array2.reshape(5, 2)"
      ],
      "execution_count": 25,
      "outputs": [
        {
          "output_type": "execute_result",
          "data": {
            "text/plain": [
              "array([[0, 1],\n",
              "       [2, 3],\n",
              "       [4, 5],\n",
              "       [6, 7],\n",
              "       [8, 9]])"
            ]
          },
          "metadata": {},
          "execution_count": 25
        }
      ]
    },
    {
      "cell_type": "markdown",
      "metadata": {
        "id": "1wt5dbEE-SMP"
      },
      "source": [
        "데이터 결합 - 수직 방향 결합"
      ]
    },
    {
      "cell_type": "code",
      "metadata": {
        "id": "jpKFlDVp-SDp",
        "colab": {
          "base_uri": "https://localhost:8080/"
        },
        "outputId": "427c9b98-5abb-49db-e5b4-30e023e5e44b"
      },
      "source": [
        "sample_array3 = np.array([[1, 2, 3], [4, 5, 6]])\n",
        "sample_array4 = np.array([[7, 8, 9], [10, 11, 12]])\n",
        "print(sample_array3)\n",
        "print(sample_array4)"
      ],
      "execution_count": 26,
      "outputs": [
        {
          "output_type": "stream",
          "text": [
            "[[1 2 3]\n",
            " [4 5 6]]\n",
            "[[ 7  8  9]\n",
            " [10 11 12]]\n"
          ],
          "name": "stdout"
        }
      ]
    },
    {
      "cell_type": "code",
      "metadata": {
        "id": "wOW_u2k4-_QA",
        "colab": {
          "base_uri": "https://localhost:8080/"
        },
        "outputId": "dde649b2-8852-4acc-ad8f-caeeae500ef5"
      },
      "source": [
        "np.concatenate([sample_array3, sample_array4], axis = 0)"
      ],
      "execution_count": 27,
      "outputs": [
        {
          "output_type": "execute_result",
          "data": {
            "text/plain": [
              "array([[ 1,  2,  3],\n",
              "       [ 4,  5,  6],\n",
              "       [ 7,  8,  9],\n",
              "       [10, 11, 12]])"
            ]
          },
          "metadata": {},
          "execution_count": 27
        }
      ]
    },
    {
      "cell_type": "code",
      "metadata": {
        "id": "WcAcFisS_ION",
        "colab": {
          "base_uri": "https://localhost:8080/"
        },
        "outputId": "e3a1f79d-5081-45e3-f213-6acef116edec"
      },
      "source": [
        "np.vstack([sample_array3, sample_array4])"
      ],
      "execution_count": 28,
      "outputs": [
        {
          "output_type": "execute_result",
          "data": {
            "text/plain": [
              "array([[ 1,  2,  3],\n",
              "       [ 4,  5,  6],\n",
              "       [ 7,  8,  9],\n",
              "       [10, 11, 12]])"
            ]
          },
          "metadata": {},
          "execution_count": 28
        }
      ]
    },
    {
      "cell_type": "markdown",
      "metadata": {
        "id": "LZCDkRhu_WM5"
      },
      "source": [
        "데이터 결합 - 수평 방향 결합"
      ]
    },
    {
      "cell_type": "code",
      "metadata": {
        "id": "SNLZaLHX_E-0",
        "colab": {
          "base_uri": "https://localhost:8080/"
        },
        "outputId": "8a87077f-1eb3-4f96-a355-f4366be691a0"
      },
      "source": [
        "np.concatenate([sample_array3, sample_array4], axis = 1)"
      ],
      "execution_count": 29,
      "outputs": [
        {
          "output_type": "execute_result",
          "data": {
            "text/plain": [
              "array([[ 1,  2,  3,  7,  8,  9],\n",
              "       [ 4,  5,  6, 10, 11, 12]])"
            ]
          },
          "metadata": {},
          "execution_count": 29
        }
      ]
    },
    {
      "cell_type": "code",
      "metadata": {
        "id": "_6WI87Yy_ZvN",
        "colab": {
          "base_uri": "https://localhost:8080/"
        },
        "outputId": "e221fa82-233e-48c6-ff3a-d98fe0c3970f"
      },
      "source": [
        "np.hstack([sample_array3, sample_array4])"
      ],
      "execution_count": 30,
      "outputs": [
        {
          "output_type": "execute_result",
          "data": {
            "text/plain": [
              "array([[ 1,  2,  3,  7,  8,  9],\n",
              "       [ 4,  5,  6, 10, 11, 12]])"
            ]
          },
          "metadata": {},
          "execution_count": 30
        }
      ]
    },
    {
      "cell_type": "markdown",
      "metadata": {
        "id": "StsEP2-G-R3n"
      },
      "source": [
        "배열 분할"
      ]
    },
    {
      "cell_type": "code",
      "metadata": {
        "id": "9a6gUTin-Rr3",
        "colab": {
          "base_uri": "https://localhost:8080/"
        },
        "outputId": "66b661e6-64f2-41ec-ed78-9128e980ed9f"
      },
      "source": [
        "sample_array3 = np.array([[1, 2, 3], [4, 5, 6]])\n",
        "sample_array4 = np.array([[7, 8, 9], [10, 11, 12]])\n",
        "sample_array_vstack = np.vstack([sample_array3, sample_array4])\n",
        "sample_array_vstack"
      ],
      "execution_count": 31,
      "outputs": [
        {
          "output_type": "execute_result",
          "data": {
            "text/plain": [
              "array([[ 1,  2,  3],\n",
              "       [ 4,  5,  6],\n",
              "       [ 7,  8,  9],\n",
              "       [10, 11, 12]])"
            ]
          },
          "metadata": {},
          "execution_count": 31
        }
      ]
    },
    {
      "cell_type": "code",
      "metadata": {
        "id": "Qyoa51u5_qn8",
        "colab": {
          "base_uri": "https://localhost:8080/"
        },
        "outputId": "f1ecdec9-19ad-4338-cdaf-9c9b51d2e588"
      },
      "source": [
        "first, second, third = np.split(sample_array_vstack, [1, 3])\n",
        "# ~1 / 1~3 / 3~ 으로 분할 >>> 0 / 1, 2 / 3\n",
        "\n",
        "print(\"first\\n\", first)\n",
        "print(\"second\\n\", second)\n",
        "print(\"second[0]\\n\", second[0])\n",
        "print(\"third\\n\", third)"
      ],
      "execution_count": 32,
      "outputs": [
        {
          "output_type": "stream",
          "text": [
            "first\n",
            " [[1 2 3]]\n",
            "second\n",
            " [[4 5 6]\n",
            " [7 8 9]]\n",
            "second[0]\n",
            " [4 5 6]\n",
            "third\n",
            " [[10 11 12]]\n"
          ],
          "name": "stdout"
        }
      ]
    },
    {
      "cell_type": "code",
      "metadata": {
        "id": "_7gdx8XG_qgP",
        "colab": {
          "base_uri": "https://localhost:8080/"
        },
        "outputId": "ed123037-16f6-44ca-d329-00b0a5b4f4d9"
      },
      "source": [
        "sample_array5 = np.array(np.arange(13, 22)).reshape(3, 3)\n",
        "sample_array_vstack2 = np.vstack([sample_array3, sample_array4, sample_array5])\n",
        "sample_array_vstack2"
      ],
      "execution_count": 33,
      "outputs": [
        {
          "output_type": "execute_result",
          "data": {
            "text/plain": [
              "array([[ 1,  2,  3],\n",
              "       [ 4,  5,  6],\n",
              "       [ 7,  8,  9],\n",
              "       [10, 11, 12],\n",
              "       [13, 14, 15],\n",
              "       [16, 17, 18],\n",
              "       [19, 20, 21]])"
            ]
          },
          "metadata": {},
          "execution_count": 33
        }
      ]
    },
    {
      "cell_type": "code",
      "metadata": {
        "id": "UhZLg34zA8Ja",
        "colab": {
          "base_uri": "https://localhost:8080/"
        },
        "outputId": "c142fe8c-1da7-4894-a2d1-05ac22e39a8a"
      },
      "source": [
        "first, second, third, forth = np.split(sample_array_vstack2, [2, 3, 5])\n",
        "# ~2, 2~3, 3~5, 5 으로 분할 >>> 0, 1 / 2 / 3, 4 / 5\n",
        "\n",
        "print(\"first\\n\", first)\n",
        "print(\"first[0]\\n\", first[0])\n",
        "print(\"first[1]\\n\", first[1])\n",
        "print(\"second\\n\", second)\n",
        "print(\"third\\n\", third)\n",
        "print(\"forth\\n\", forth)"
      ],
      "execution_count": 34,
      "outputs": [
        {
          "output_type": "stream",
          "text": [
            "first\n",
            " [[1 2 3]\n",
            " [4 5 6]]\n",
            "first[0]\n",
            " [1 2 3]\n",
            "first[1]\n",
            " [4 5 6]\n",
            "second\n",
            " [[7 8 9]]\n",
            "third\n",
            " [[10 11 12]\n",
            " [13 14 15]]\n",
            "forth\n",
            " [[16 17 18]\n",
            " [19 20 21]]\n"
          ],
          "name": "stdout"
        }
      ]
    },
    {
      "cell_type": "markdown",
      "metadata": {
        "id": "L4Ms-lIKBhJD"
      },
      "source": [
        "반복 작업"
      ]
    },
    {
      "cell_type": "code",
      "metadata": {
        "id": "6On6C9u1BjiX",
        "colab": {
          "base_uri": "https://localhost:8080/"
        },
        "outputId": "a4bf6f08-041b-4322-835e-ff28aa2939d3"
      },
      "source": [
        "print(first)\n",
        "print(first.repeat(5))"
      ],
      "execution_count": 35,
      "outputs": [
        {
          "output_type": "stream",
          "text": [
            "[[1 2 3]\n",
            " [4 5 6]]\n",
            "[1 1 1 1 1 2 2 2 2 2 3 3 3 3 3 4 4 4 4 4 5 5 5 5 5 6 6 6 6 6]\n"
          ],
          "name": "stdout"
        }
      ]
    },
    {
      "cell_type": "markdown",
      "metadata": {
        "id": "lwvMhpB_BxvC"
      },
      "source": [
        "브로드캐스트"
      ]
    },
    {
      "cell_type": "code",
      "metadata": {
        "id": "oMM9ZyH8Bxdn",
        "colab": {
          "base_uri": "https://localhost:8080/"
        },
        "outputId": "be8f64e7-4fbb-4203-f967-9ad104c159ef"
      },
      "source": [
        "sample_array = np.arange(10)\n",
        "print(sample_array)"
      ],
      "execution_count": 36,
      "outputs": [
        {
          "output_type": "stream",
          "text": [
            "[0 1 2 3 4 5 6 7 8 9]\n"
          ],
          "name": "stdout"
        }
      ]
    },
    {
      "cell_type": "code",
      "metadata": {
        "id": "_Bpl5JjfCBYW",
        "colab": {
          "base_uri": "https://localhost:8080/"
        },
        "outputId": "e80d2388-a665-4b21-921d-eb821ad28903"
      },
      "source": [
        "sample_array+3"
      ],
      "execution_count": 37,
      "outputs": [
        {
          "output_type": "execute_result",
          "data": {
            "text/plain": [
              "array([ 3,  4,  5,  6,  7,  8,  9, 10, 11, 12])"
            ]
          },
          "metadata": {},
          "execution_count": 37
        }
      ]
    },
    {
      "cell_type": "markdown",
      "metadata": {
        "id": "TZ966qpxBz6Y"
      },
      "source": [
        "연습문제"
      ]
    },
    {
      "cell_type": "code",
      "metadata": {
        "id": "Ee4wqFZrB1Me",
        "colab": {
          "base_uri": "https://localhost:8080/"
        },
        "outputId": "c78eecfb-d6f1-46ce-f684-227a6eb94930"
      },
      "source": [
        "sample_array1 = np.arange(12).reshape(3, 4)\n",
        "sample_array2 = np.arange(12).reshape(3, 4)\n",
        "\n",
        "# 5-7\n",
        "print(np.hstack([sample_array1, sample_array2]))\n",
        "print(np.concatenate([sample_array1, sample_array2], axis = 1))"
      ],
      "execution_count": 87,
      "outputs": [
        {
          "output_type": "stream",
          "text": [
            "[[ 0  1  2  3  0  1  2  3]\n",
            " [ 4  5  6  7  4  5  6  7]\n",
            " [ 8  9 10 11  8  9 10 11]]\n",
            "[[ 0  1  2  3  0  1  2  3]\n",
            " [ 4  5  6  7  4  5  6  7]\n",
            " [ 8  9 10 11  8  9 10 11]]\n"
          ],
          "name": "stdout"
        }
      ]
    },
    {
      "cell_type": "code",
      "metadata": {
        "id": "M1le-htlB2vI",
        "colab": {
          "base_uri": "https://localhost:8080/"
        },
        "outputId": "b43770b0-523d-451c-a97c-85dde3d8c870"
      },
      "source": [
        "# 5-8\n",
        "print(np.vstack([sample_array1, sample_array2]))\n",
        "print(np.concatenate([sample_array1, sample_array2], axis = 0))"
      ],
      "execution_count": 88,
      "outputs": [
        {
          "output_type": "stream",
          "text": [
            "[[ 0  1  2  3]\n",
            " [ 4  5  6  7]\n",
            " [ 8  9 10 11]\n",
            " [ 0  1  2  3]\n",
            " [ 4  5  6  7]\n",
            " [ 8  9 10 11]]\n",
            "[[ 0  1  2  3]\n",
            " [ 4  5  6  7]\n",
            " [ 8  9 10 11]\n",
            " [ 0  1  2  3]\n",
            " [ 4  5  6  7]\n",
            " [ 8  9 10 11]]\n"
          ],
          "name": "stdout"
        }
      ]
    },
    {
      "cell_type": "code",
      "metadata": {
        "id": "YsdO1BX9B2hP",
        "colab": {
          "base_uri": "https://localhost:8080/"
        },
        "outputId": "8c141314-b811-4e1a-9658-ad755ad060ec"
      },
      "source": [
        "# 5-9\n",
        "sample_list = [1, 2, 3, 4, 5]\n",
        "print(sample_list)\n",
        "print(np.array(sample_list))\n",
        "print(np.array(sample_list)+3)"
      ],
      "execution_count": 101,
      "outputs": [
        {
          "output_type": "stream",
          "text": [
            "[1, 2, 3, 4, 5]\n",
            "[1 2 3 4 5]\n",
            "[4 5 6 7 8]\n"
          ],
          "name": "stdout"
        }
      ]
    },
    {
      "cell_type": "markdown",
      "metadata": {
        "id": "E7pLg99Ny-sS"
      },
      "source": [
        "## 5.3 사이파이 응용"
      ]
    },
    {
      "cell_type": "markdown",
      "metadata": {
        "id": "JO_ABEPyCL0o"
      },
      "source": [
        "### 5.3.1 보간법"
      ]
    },
    {
      "cell_type": "code",
      "metadata": {
        "id": "GUf1ccoxF02_",
        "colab": {
          "base_uri": "https://localhost:8080/",
          "height": 265
        },
        "outputId": "69e16bee-1ae3-476a-f62d-55022b70a0c1"
      },
      "source": [
        "x = np.linspace(0, 10, num = 11, endpoint = True)\n",
        "y = np.cos(-x**2/5.0)\n",
        "plt.plot(x, y, 'o')\n",
        "plt.grid(True)"
      ],
      "execution_count": 41,
      "outputs": [
        {
          "output_type": "display_data",
          "data": {
            "image/png": "[encoded data removed]",
            "text/plain": [
              "<Figure size 432x288 with 1 Axes>"
            ]
          },
          "metadata": {
            "needs_background": "light"
          }
        }
      ]
    },
    {
      "cell_type": "markdown",
      "metadata": {
        "id": "NptVvyweCOHY"
      },
      "source": [
        "선형 보간법"
      ]
    },
    {
      "cell_type": "code",
      "metadata": {
        "id": "ZdmRQMXCFy_V",
        "colab": {
          "base_uri": "https://localhost:8080/",
          "height": 265
        },
        "outputId": "8e000a6c-c32d-4763-b1a4-a988fb30a7e1"
      },
      "source": [
        "from scipy import interpolate\n",
        "\n",
        "f = interpolate.interp1d(x, y, 'linear')\n",
        "plt.plot(x, f(x), '-')\n",
        "plt.grid(True)"
      ],
      "execution_count": 42,
      "outputs": [
        {
          "output_type": "display_data",
          "data": {
            "image/png": "[encoded data removed]",
            "text/plain": [
              "<Figure size 432x288 with 1 Axes>"
            ]
          },
          "metadata": {
            "needs_background": "light"
          }
        }
      ]
    },
    {
      "cell_type": "markdown",
      "metadata": {
        "id": "ud2QGskkCSHo"
      },
      "source": [
        "스플라인 3차 보간법"
      ]
    },
    {
      "cell_type": "code",
      "metadata": {
        "id": "i3EIS2_NybkC",
        "colab": {
          "base_uri": "https://localhost:8080/",
          "height": 265
        },
        "outputId": "9aef44a6-8f7c-444a-aadc-2cbfe9c1e32e"
      },
      "source": [
        "f2 = interpolate.interp1d(x, y , 'cubic')\n",
        "xnew = np.linspace(0, 10, num = 100, endpoint = True)\n",
        "plt.plot(x, y, 'o', xnew, f(xnew), '-', xnew, f2(xnew), '--')\n",
        "plt.legend(['data', 'linear', 'cubic'], loc = 'best')\n",
        "plt.grid(True)"
      ],
      "execution_count": 43,
      "outputs": [
        {
          "output_type": "display_data",
          "data": {
            "image/png": "[encoded data removed]",
            "text/plain": [
              "<Figure size 432x288 with 1 Axes>"
            ]
          },
          "metadata": {
            "needs_background": "light"
          }
        }
      ]
    },
    {
      "cell_type": "markdown",
      "metadata": {
        "id": "yugIk-txHW2w"
      },
      "source": [
        "연습문제"
      ]
    },
    {
      "cell_type": "code",
      "metadata": {
        "colab": {
          "base_uri": "https://localhost:8080/",
          "height": 265
        },
        "id": "7iGZju3NW4Vm",
        "outputId": "ba63e77b-4686-4209-f780-5b09123c1c07"
      },
      "source": [
        "x = np.linspace(0, 10, num = 11, endpoint = True)\n",
        "y = np.sin(x**2/5.0)\n",
        "plt.plot(x, y, 'o')\n",
        "plt.grid(True)"
      ],
      "execution_count": 102,
      "outputs": [
        {
          "output_type": "display_data",
          "data": {
            "image/png": "[encoded data removed]",
            "text/plain": [
              "<Figure size 432x288 with 1 Axes>"
            ]
          },
          "metadata": {
            "needs_background": "light"
          }
        }
      ]
    },
    {
      "cell_type": "code",
      "metadata": {
        "id": "sNysfXrpG54l",
        "colab": {
          "base_uri": "https://localhost:8080/",
          "height": 265
        },
        "outputId": "54b6ed2a-842f-4a31-c6ef-011ad7d26114"
      },
      "source": [
        "# 5-10\n",
        "f = interpolate.interp1d(x, y, 'linear')\n",
        "plt.plot(x, y, 'o', x, f(x), '-')\n",
        "plt.grid(True)"
      ],
      "execution_count": 104,
      "outputs": [
        {
          "output_type": "display_data",
          "data": {
            "image/png": "[encoded data removed]",
            "text/plain": [
              "<Figure size 432x288 with 1 Axes>"
            ]
          },
          "metadata": {
            "needs_background": "light"
          }
        }
      ]
    },
    {
      "cell_type": "code",
      "metadata": {
        "id": "eDGVpu8dHax0",
        "colab": {
          "base_uri": "https://localhost:8080/",
          "height": 265
        },
        "outputId": "71bfacd7-63ac-4114-be0e-c35f9e3e8b97"
      },
      "source": [
        "# 5-11\n",
        "f2 = interpolate.interp1d(x, y, 'quadratic')\n",
        "x_new = np.linspace(0, 10, num = 1000, endpoint = True)\n",
        "plt.plot(x, y, 'o', x_new, f2(x_new), '-')\n",
        "plt.grid(True)"
      ],
      "execution_count": 109,
      "outputs": [
        {
          "output_type": "display_data",
          "data": {
            "image/png": "[encoded data removed]",
            "text/plain": [
              "<Figure size 432x288 with 1 Axes>"
            ]
          },
          "metadata": {
            "needs_background": "light"
          }
        }
      ]
    },
    {
      "cell_type": "code",
      "metadata": {
        "id": "wTPYEYI6HcEz",
        "colab": {
          "base_uri": "https://localhost:8080/",
          "height": 265
        },
        "outputId": "c9848433-8592-4e1c-bc90-5ce6511f8ebd"
      },
      "source": [
        "# 5-12\n",
        "f3 = interpolate.interp1d(x, y, 'cubic')\n",
        "plt.plot(x, y, 'o', x, f(x), '-', x_new, f2(x_new), '-', x_new, f3(x_new), '--')\n",
        "plt.legend(['data', 'linear', 'quadratic', 'cubic'], loc = 'best')\n",
        "plt.grid(True)"
      ],
      "execution_count": 113,
      "outputs": [
        {
          "output_type": "display_data",
          "data": {
            "image/png": "[encoded data removed]",
            "text/plain": [
              "<Figure size 432x288 with 1 Axes>"
            ]
          },
          "metadata": {
            "needs_background": "light"
          }
        }
      ]
    },
    {
      "cell_type": "markdown",
      "metadata": {
        "id": "tYTPK6bzHgRU"
      },
      "source": [
        "### 5.3.2 선형대수: 행렬 분해"
      ]
    },
    {
      "cell_type": "markdown",
      "metadata": {
        "id": "55uwZn8EHmVs"
      },
      "source": [
        "특잇값 분해"
      ]
    },
    {
      "cell_type": "code",
      "metadata": {
        "id": "hmQAyCFmHeLe",
        "colab": {
          "base_uri": "https://localhost:8080/"
        },
        "outputId": "94c393f5-a2f4-4054-e1c7-2770c2f08d4a"
      },
      "source": [
        "A = np.array([[1, 2, 3, 4, 5], [6, 7, 8, 9, 10]])\n",
        "U, s, Vs = sp.linalg.svd(A)\n",
        "m, n = A.shape\n",
        "\n",
        "S = sp.linalg.diagsvd(s, m, n)\n",
        "print('U.S.V* = \\n', U@S@Vs)\n",
        "print(\"U\\n\", U)\n",
        "print(\"S\\n\", S)\n",
        "print(\"Vs\\n\", Vs)"
      ],
      "execution_count": 47,
      "outputs": [
        {
          "output_type": "stream",
          "text": [
            "U.S.V* = \n",
            " [[ 1.  2.  3.  4.  5.]\n",
            " [ 6.  7.  8.  9. 10.]]\n",
            "U\n",
            " [[-0.37  -0.929]\n",
            " [-0.929  0.37 ]]\n",
            "S\n",
            " [[19.538  0.     0.     0.     0.   ]\n",
            " [ 0.     1.81   0.     0.     0.   ]]\n",
            "Vs\n",
            " [[-0.304 -0.371 -0.437 -0.504 -0.57 ]\n",
            " [ 0.712  0.403  0.094 -0.215 -0.524]\n",
            " [-0.374 -0.008  0.862 -0.206 -0.274]\n",
            " [-0.365  0.371 -0.159  0.665 -0.512]\n",
            " [-0.357  0.75  -0.179 -0.464  0.251]]\n"
          ],
          "name": "stdout"
        }
      ]
    },
    {
      "cell_type": "markdown",
      "metadata": {
        "id": "MiAoVifqIa2H"
      },
      "source": [
        "LU 분해"
      ]
    },
    {
      "cell_type": "code",
      "metadata": {
        "id": "I4ghFP3eH7vj",
        "colab": {
          "base_uri": "https://localhost:8080/"
        },
        "outputId": "3c2f00cc-3af7-43c5-a760-c27cfd1ed94d"
      },
      "source": [
        "A = np.identity(5)\n",
        "A[0, :] = 1\n",
        "A[:, 0] = 1\n",
        "A[0, 0] = 5\n",
        "print(\"A\\n\", A)\n",
        "b = np.ones(5)\n",
        "print(\"b\\n\", b)\n",
        "\n",
        "(LU, piv) = sp.linalg.lu_factor(A)\n",
        "L = np.identity(5) + np.tril(LU, -1)\n",
        "U = np.triu(LU)\n",
        "P = np.identity(5)[piv]\n",
        "\n",
        "x = sp.linalg.lu_solve((LU, piv), b)\n",
        "\n",
        "print(\"L\\n\", L)\n",
        "print(\"U\\n\", U)\n",
        "print(\"P\\n\", P)\n",
        "print(\"x\\n\", x)\n",
        "\n",
        "print(\"A@x = b\\n\", A@x)\n",
        "print(\"P@L@U@x = b\\n\", P@L@U@x)"
      ],
      "execution_count": 125,
      "outputs": [
        {
          "output_type": "stream",
          "text": [
            "A\n",
            " [[5. 1. 1. 1. 1.]\n",
            " [1. 1. 0. 0. 0.]\n",
            " [1. 0. 1. 0. 0.]\n",
            " [1. 0. 0. 1. 0.]\n",
            " [1. 0. 0. 0. 1.]]\n",
            "b\n",
            " [1. 1. 1. 1. 1.]\n",
            "L\n",
            " [[ 1.     0.     0.     0.     0.   ]\n",
            " [ 0.2    1.     0.     0.     0.   ]\n",
            " [ 0.2   -0.25   1.     0.     0.   ]\n",
            " [ 0.2   -0.25  -0.333  1.     0.   ]\n",
            " [ 0.2   -0.25  -0.333 -0.5    1.   ]]\n",
            "U\n",
            " [[ 5.     1.     1.     1.     1.   ]\n",
            " [ 0.     0.8   -0.2   -0.2   -0.2  ]\n",
            " [ 0.     0.     0.75  -0.25  -0.25 ]\n",
            " [ 0.     0.     0.     0.667 -0.333]\n",
            " [ 0.     0.     0.     0.     0.5  ]]\n",
            "P\n",
            " [[1. 0. 0. 0. 0.]\n",
            " [0. 1. 0. 0. 0.]\n",
            " [0. 0. 1. 0. 0.]\n",
            " [0. 0. 0. 1. 0.]\n",
            " [0. 0. 0. 0. 1.]]\n",
            "x\n",
            " [-3.  4.  4.  4.  4.]\n",
            "A@x = b\n",
            " [1. 1. 1. 1. 1.]\n",
            "P@L@U@x = b\n",
            " [1. 1. 1. 1. 1.]\n"
          ],
          "name": "stdout"
        }
      ]
    },
    {
      "cell_type": "markdown",
      "metadata": {
        "id": "cywcoTndJTj6"
      },
      "source": [
        "숄레스키 분해"
      ]
    },
    {
      "cell_type": "code",
      "metadata": {
        "id": "CtdaJz0BI4vR",
        "colab": {
          "base_uri": "https://localhost:8080/"
        },
        "outputId": "0ff66303-eb07-45bd-8b34-de9e1f9f3b8e"
      },
      "source": [
        "A = np.array([[7, -1, 0, 1],\n",
        "             [-1, 9, -2, 2],\n",
        "             [0, -2, 8, -3],\n",
        "             [1, 2, -3, 10]])\n",
        "b = np.array([5, 20, 0, 20])\n",
        "L = sp.linalg.cholesky(A)\n",
        "\n",
        "t = sp.linalg.solve(L.T.conj(), b)\n",
        "x = sp.linalg.solve(L, t)\n",
        "\n",
        "print(x)"
      ],
      "execution_count": 126,
      "outputs": [
        {
          "output_type": "stream",
          "text": [
            "[0.758 2.168 1.241 1.863]\n"
          ],
          "name": "stdout"
        }
      ]
    },
    {
      "cell_type": "code",
      "metadata": {
        "id": "d8Okj8K9Khr-",
        "colab": {
          "base_uri": "https://localhost:8080/"
        },
        "outputId": "673d9022-b555-45c3-e2c1-d4f3745862b0"
      },
      "source": [
        "np.dot(A, x)"
      ],
      "execution_count": 50,
      "outputs": [
        {
          "output_type": "execute_result",
          "data": {
            "text/plain": [
              "array([5.000e+00, 2.000e+01, 3.553e-15, 2.000e+01])"
            ]
          },
          "metadata": {},
          "execution_count": 50
        }
      ]
    },
    {
      "cell_type": "markdown",
      "metadata": {
        "id": "owZullhBKp3P"
      },
      "source": [
        "음수미포함행렬분해 Non-negative Matrix Factorization(NMF)"
      ]
    },
    {
      "cell_type": "code",
      "metadata": {
        "id": "THX4zWUaKyC4",
        "colab": {
          "base_uri": "https://localhost:8080/"
        },
        "outputId": "8734e787-7ec7-4185-8ad0-8e30c332d5bd"
      },
      "source": [
        "from sklearn.decomposition import NMF\n",
        "\n",
        "X = np.array([[1, 1, 1], [2, 2, 2], [3, 3, 3], [4, 4, 4]])\n",
        "model = NMF(n_components = 2, init = 'random', random_state = 0)\n",
        "\n",
        "W = model.fit_transform(X)\n",
        "H = model.components_\n",
        "W"
      ],
      "execution_count": 51,
      "outputs": [
        {
          "output_type": "execute_result",
          "data": {
            "text/plain": [
              "array([[0.425, 0.222],\n",
              "       [0.698, 0.537],\n",
              "       [0.039, 1.434],\n",
              "       [2.377, 0.463]])"
            ]
          },
          "metadata": {},
          "execution_count": 51
        }
      ]
    },
    {
      "cell_type": "code",
      "metadata": {
        "id": "m8Lc-Z64LOIi",
        "colab": {
          "base_uri": "https://localhost:8080/"
        },
        "outputId": "d9605ed8-5ace-4dff-80c4-e0d433512996"
      },
      "source": [
        "H"
      ],
      "execution_count": 52,
      "outputs": [
        {
          "output_type": "execute_result",
          "data": {
            "text/plain": [
              "array([[1.281, 1.281, 1.282],\n",
              "       [2.058, 2.058, 2.058]])"
            ]
          },
          "metadata": {},
          "execution_count": 52
        }
      ]
    },
    {
      "cell_type": "code",
      "metadata": {
        "id": "dYbEcqveLPXi",
        "colab": {
          "base_uri": "https://localhost:8080/"
        },
        "outputId": "9a06428b-1328-4fc1-c171-88cc0c257e5c"
      },
      "source": [
        "np.dot(W, H)"
      ],
      "execution_count": 53,
      "outputs": [
        {
          "output_type": "execute_result",
          "data": {
            "text/plain": [
              "array([[1., 1., 1.],\n",
              "       [2., 2., 2.],\n",
              "       [3., 3., 3.],\n",
              "       [4., 4., 4.]])"
            ]
          },
          "metadata": {},
          "execution_count": 53
        }
      ]
    },
    {
      "cell_type": "code",
      "metadata": {
        "id": "Gh9xSyeeLRZf",
        "colab": {
          "base_uri": "https://localhost:8080/"
        },
        "outputId": "a391dfc1-137a-4e6e-838a-8e212e70d1ad"
      },
      "source": [
        "W@H"
      ],
      "execution_count": 54,
      "outputs": [
        {
          "output_type": "execute_result",
          "data": {
            "text/plain": [
              "array([[1., 1., 1.],\n",
              "       [2., 2., 2.],\n",
              "       [3., 3., 3.],\n",
              "       [4., 4., 4.]])"
            ]
          },
          "metadata": {},
          "execution_count": 54
        }
      ]
    },
    {
      "cell_type": "markdown",
      "metadata": {
        "id": "IhdmfAS4JW35"
      },
      "source": [
        "연습문제"
      ]
    },
    {
      "cell_type": "code",
      "metadata": {
        "id": "A6UY1XiCJXiu"
      },
      "source": [
        "# 5-13"
      ],
      "execution_count": 55,
      "outputs": []
    },
    {
      "cell_type": "markdown",
      "metadata": {
        "id": "zph14FNcJZQJ"
      },
      "source": [
        "### 5.3.3 적분과 미분방적식"
      ]
    },
    {
      "cell_type": "markdown",
      "metadata": {
        "id": "OEqF1PKRJdFi"
      },
      "source": [
        "적분"
      ]
    },
    {
      "cell_type": "code",
      "metadata": {
        "id": "0GTYcNJ8JfhS"
      },
      "source": [
        "from scipy import integrate\n",
        "import math"
      ],
      "execution_count": 56,
      "outputs": []
    },
    {
      "cell_type": "code",
      "metadata": {
        "id": "ywcxLwPKLb6q"
      },
      "source": [
        "def calcPi(x):\n",
        "    return 4/(1+x**2)"
      ],
      "execution_count": 57,
      "outputs": []
    },
    {
      "cell_type": "code",
      "metadata": {
        "id": "7ld87UmuLb3s",
        "colab": {
          "base_uri": "https://localhost:8080/"
        },
        "outputId": "525b2dad-fa26-415d-94dc-108abde2cef6"
      },
      "source": [
        "integrate.quad(calcPi, 0, 1)"
      ],
      "execution_count": 58,
      "outputs": [
        {
          "output_type": "execute_result",
          "data": {
            "text/plain": [
              "(3.142, 0.000)"
            ]
          },
          "metadata": {},
          "execution_count": 58
        }
      ]
    },
    {
      "cell_type": "code",
      "metadata": {
        "id": "bz9xSJriLb0q",
        "colab": {
          "base_uri": "https://localhost:8080/"
        },
        "outputId": "3b947bc8-9920-4498-c348-b5faae9948b5"
      },
      "source": [
        "integrate.quad(lambda x: 4/(1+x**2), 0, 1)"
      ],
      "execution_count": 59,
      "outputs": [
        {
          "output_type": "execute_result",
          "data": {
            "text/plain": [
              "(3.142, 0.000)"
            ]
          },
          "metadata": {},
          "execution_count": 59
        }
      ]
    },
    {
      "cell_type": "code",
      "metadata": {
        "id": "5giQBEZfL1d0"
      },
      "source": [
        "# Questions 식이 주어지지 않고 점들만 주어진다면 그 아래 면적 적분을 어떻게 해야할까"
      ],
      "execution_count": 60,
      "outputs": []
    },
    {
      "cell_type": "markdown",
      "metadata": {
        "id": "vkjmHZvVJe61"
      },
      "source": [
        "sin 함수를 구하는 예"
      ]
    },
    {
      "cell_type": "code",
      "metadata": {
        "id": "SMy2NfaGJYkf",
        "colab": {
          "base_uri": "https://localhost:8080/"
        },
        "outputId": "4cbcd3ce-10da-4ef0-c835-370c4839bcd3"
      },
      "source": [
        "from numpy import sin\n",
        "integrate.quad(sin, 0, math.pi/1)"
      ],
      "execution_count": 61,
      "outputs": [
        {
          "output_type": "execute_result",
          "data": {
            "text/plain": [
              "(2.000, 0.000)"
            ]
          },
          "metadata": {},
          "execution_count": 61
        }
      ]
    },
    {
      "cell_type": "code",
      "metadata": {
        "id": "qse6D9rHLy7B",
        "colab": {
          "base_uri": "https://localhost:8080/"
        },
        "outputId": "92ac7498-9f64-480b-b9cc-802ea36d49ca"
      },
      "source": [
        "def I(n):\n",
        "    return integrate.dblquad(lambda t, x: np.exp(-x*t)/t**n, 0, np.inf, lambda x: 1, lambda x: np.inf)\n",
        "print('n=1일 때', I(1))\n",
        "print('n=2일 때', I(2))\n",
        "print('n=3일 때', I(3))\n",
        "print('n=4일 때', I(4))"
      ],
      "execution_count": 62,
      "outputs": [
        {
          "output_type": "stream",
          "text": [
            "n=1일 때 (1.0000000000048965, 6.360750360104306e-08)\n",
            "n=2일 때 (0.4999999999985751, 1.3894083651858995e-08)\n",
            "n=3일 때 (0.33333333325010883, 1.3888461883425516e-08)\n",
            "n=4일 때 (0.2500000000043577, 1.2983033469368098e-08)\n"
          ],
          "name": "stdout"
        }
      ]
    },
    {
      "cell_type": "markdown",
      "metadata": {
        "id": "5L9QgiprJjDI"
      },
      "source": [
        "미분방적식 계산"
      ]
    },
    {
      "cell_type": "code",
      "metadata": {
        "id": "-vxYWJecJkV4"
      },
      "source": [
        "import numpy as np\n",
        "from scipy.integrate import odeint\n",
        "import matplotlib.pyplot as plt\n",
        "from mpl_toolkits.mplot3d import Axes3D\n",
        "\n",
        "def lorenz_func(v, t, p, r, b):\n",
        "    return [-p*v[0]+p*v[1], -v[0]*v[2]+r*v[0]-v[1], v[0]*v[1]-b*v[2]]"
      ],
      "execution_count": 63,
      "outputs": []
    },
    {
      "cell_type": "code",
      "metadata": {
        "id": "GnkLuDD-SWsq",
        "colab": {
          "base_uri": "https://localhost:8080/",
          "height": 248
        },
        "outputId": "023748bd-c830-46c7-81a7-ed5611771ad9"
      },
      "source": [
        "p = 10\n",
        "r = 28\n",
        "b = 8/3\n",
        "v0 = [0.1, 0.1, 0.1]\n",
        "t = np.arange(0, 100, 0.01)\n",
        "\n",
        "v = odeint(lorenz_func, v0, t, args = (p, r, b))\n",
        "\n",
        "fig = plt.figure()\n",
        "ax = fig.gca(projection = '3d')\n",
        "ax.plot(v[:, 0], v[:, 1], v[:, 2])\n",
        "plt.title('Lorenz')\n",
        "plt.grid(True)"
      ],
      "execution_count": 64,
      "outputs": [
        {
          "output_type": "display_data",
          "data": {
            "image/png": "[encoded data removed]",
            "text/plain": [
              "<Figure size 432x288 with 1 Axes>"
            ]
          },
          "metadata": {
            "needs_background": "light"
          }
        }
      ]
    },
    {
      "cell_type": "markdown",
      "metadata": {
        "id": "CocBVqmiJlji"
      },
      "source": [
        "연습문제"
      ]
    },
    {
      "cell_type": "code",
      "metadata": {
        "id": "BcwmisE2Jm0Z"
      },
      "source": [
        "# 5-15"
      ],
      "execution_count": 65,
      "outputs": []
    },
    {
      "cell_type": "code",
      "metadata": {
        "id": "fKyJ7AgXJoEc"
      },
      "source": [
        "# 5-16"
      ],
      "execution_count": 66,
      "outputs": []
    },
    {
      "cell_type": "markdown",
      "metadata": {
        "id": "clgkoTA9JrtN"
      },
      "source": [
        "### 5.2.4 최적화"
      ]
    },
    {
      "cell_type": "code",
      "metadata": {
        "id": "XKU-iRjIJpOK"
      },
      "source": [
        "from scipy.optimize import fsolve"
      ],
      "execution_count": 67,
      "outputs": []
    },
    {
      "cell_type": "markdown",
      "metadata": {
        "id": "5f0F6Ip2JvSE"
      },
      "source": [
        "2차원 함수의 최적화"
      ]
    },
    {
      "cell_type": "code",
      "metadata": {
        "id": "d6DIQmieJwX0"
      },
      "source": [
        "def f(x):\n",
        "    y = 2*x**2 + 2*x + -10\n",
        "    return y"
      ],
      "execution_count": 68,
      "outputs": []
    },
    {
      "cell_type": "code",
      "metadata": {
        "id": "sN6YODYRVFVy",
        "colab": {
          "base_uri": "https://localhost:8080/",
          "height": 265
        },
        "outputId": "df6b308d-d81c-43c3-efd9-50d6fd7f166b"
      },
      "source": [
        "x = np.linspace(-4, 4)\n",
        "plt.plot(x, f(x))\n",
        "plt.plot(x, np.zeros(len(x)))\n",
        "plt.grid(True)"
      ],
      "execution_count": 69,
      "outputs": [
        {
          "output_type": "display_data",
          "data": {
            "image/png": "[encoded data removed]",
            "text/plain": [
              "<Figure size 432x288 with 1 Axes>"
            ]
          },
          "metadata": {
            "needs_background": "light"
          }
        }
      ]
    },
    {
      "cell_type": "code",
      "metadata": {
        "id": "bZXXLrl4VFMS",
        "colab": {
          "base_uri": "https://localhost:8080/"
        },
        "outputId": "94f88e14-402f-454f-baae-8c36756264d8"
      },
      "source": [
        "x = fsolve(f, 2)\n",
        "print(x)"
      ],
      "execution_count": 70,
      "outputs": [
        {
          "output_type": "stream",
          "text": [
            "[1.791]\n"
          ],
          "name": "stdout"
        }
      ]
    },
    {
      "cell_type": "code",
      "metadata": {
        "id": "bEAtjJ3zVg89",
        "colab": {
          "base_uri": "https://localhost:8080/"
        },
        "outputId": "2071abac-1d69-4dda-fb6b-26aeea18536c"
      },
      "source": [
        "x = fsolve(f, -3)\n",
        "print(x)"
      ],
      "execution_count": 71,
      "outputs": [
        {
          "output_type": "stream",
          "text": [
            "[-2.791]\n"
          ],
          "name": "stdout"
        }
      ]
    },
    {
      "cell_type": "markdown",
      "metadata": {
        "id": "n4RQjnHjJxYF"
      },
      "source": [
        "최적화 문제 풀기"
      ]
    },
    {
      "cell_type": "code",
      "metadata": {
        "id": "xTPyelc7JyMj"
      },
      "source": [
        "from scipy.optimize import minimize"
      ],
      "execution_count": 72,
      "outputs": []
    },
    {
      "cell_type": "code",
      "metadata": {
        "id": "OCXaePB7VoQI"
      },
      "source": [
        "def objective(x):\n",
        "    x1 = x[0]\n",
        "    x2 = x[1]\n",
        "    x3 = x[2]\n",
        "    x4 = x[3]\n",
        "    return x1*x4*(x1+x2+x3)+x3"
      ],
      "execution_count": 73,
      "outputs": []
    },
    {
      "cell_type": "code",
      "metadata": {
        "id": "hvpl8HAwV5C3",
        "colab": {
          "base_uri": "https://localhost:8080/"
        },
        "outputId": "a41dda2d-bb92-4e71-8c4d-572f570bea70"
      },
      "source": [
        "def constraint1(x):\n",
        "    return x[0]*x[1]*x[2]*x[3]-25.0\n",
        "\n",
        "def constraint2(x):\n",
        "    sum_sq = 40\n",
        "    for i in range(4):\n",
        "        sum_sq = sum_sq - x[i]**2\n",
        "    return sum_sq\n",
        "\n",
        "x0 = [1, 5, 5, 1]\n",
        "print(objective(x0))\n"
      ],
      "execution_count": 74,
      "outputs": [
        {
          "output_type": "stream",
          "text": [
            "16\n"
          ],
          "name": "stdout"
        }
      ]
    },
    {
      "cell_type": "code",
      "metadata": {
        "id": "sj6WVqjvWTSi"
      },
      "source": [
        "b = (1.0, 5.0)\n",
        "bnds = (b, b, b, b)\n",
        "con1 = {'type':'ineq', 'fun':constraint1}\n",
        "con2 = {'type':'ineq', 'fun':constraint2}\n",
        "cons = [con1, con2]"
      ],
      "execution_count": 75,
      "outputs": []
    },
    {
      "cell_type": "code",
      "metadata": {
        "id": "1kRDbR5AWhjl",
        "colab": {
          "base_uri": "https://localhost:8080/"
        },
        "outputId": "563cc9f6-0cbe-4ce5-9725-640d873e9fb7"
      },
      "source": [
        "sol = minimize(objective, x0, method = 'SLSQP', bounds = bnds, constraints = cons)\n",
        "print(sol)"
      ],
      "execution_count": 76,
      "outputs": [
        {
          "output_type": "stream",
          "text": [
            "     fun: 17.014017245446883\n",
            "     jac: array([14.572,  1.379,  2.379,  9.564])\n",
            " message: 'Optimization terminated successfully.'\n",
            "    nfev: 30\n",
            "     nit: 5\n",
            "    njev: 5\n",
            "  status: 0\n",
            " success: True\n",
            "       x: array([1.   , 4.743, 3.821, 1.379])\n"
          ],
          "name": "stdout"
        }
      ]
    },
    {
      "cell_type": "code",
      "metadata": {
        "id": "tnE6kPl4Wtmd",
        "colab": {
          "base_uri": "https://localhost:8080/"
        },
        "outputId": "556b3103-d782-4f5a-f11d-9f3ec18f0054"
      },
      "source": [
        "print('Y:', sol.fun)\n",
        "print('X:', sol.x)"
      ],
      "execution_count": 77,
      "outputs": [
        {
          "output_type": "stream",
          "text": [
            "Y: 17.014017245446883\n",
            "X: [1.    4.743 3.821 1.379]\n"
          ],
          "name": "stdout"
        }
      ]
    },
    {
      "cell_type": "markdown",
      "metadata": {
        "id": "h2u_5NnOJzUf"
      },
      "source": [
        "연습문제"
      ]
    },
    {
      "cell_type": "code",
      "metadata": {
        "id": "zgOk8iPBJ0Sp"
      },
      "source": [
        "# 5-17"
      ],
      "execution_count": 78,
      "outputs": []
    },
    {
      "cell_type": "markdown",
      "metadata": {
        "id": "V75AcfPYJ2nq"
      },
      "source": [
        "## 종합문제"
      ]
    },
    {
      "cell_type": "code",
      "metadata": {
        "id": "On1NeGovJ1OG"
      },
      "source": [
        "# 5-1"
      ],
      "execution_count": 79,
      "outputs": []
    },
    {
      "cell_type": "code",
      "metadata": {
        "id": "F90Xe8dEJ9XI"
      },
      "source": [
        "# 5-2"
      ],
      "execution_count": 80,
      "outputs": []
    },
    {
      "cell_type": "code",
      "metadata": {
        "id": "61sdd5XgJ-iA"
      },
      "source": [
        "# 5-3"
      ],
      "execution_count": 81,
      "outputs": []
    },
    {
      "cell_type": "code",
      "metadata": {
        "id": "JNbky49CJ_fv"
      },
      "source": [
        ""
      ],
      "execution_count": 81,
      "outputs": []
    }
  ]
}