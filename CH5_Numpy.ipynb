{
  "nbformat": 4,
  "nbformat_minor": 0,
  "metadata": {
    "colab": {
      "name": "CH5_Numpy",
      "provenance": [],
      "collapsed_sections": [],
      "authorship_tag": "ABX9TyP1BliS/ZzAR7BE5b1gh/5C"
    },
    "kernelspec": {
      "name": "python3",
      "display_name": "Python 3"
    },
    "language_info": {
      "name": "python"
    }
  },
  "cells": [
    {
      "cell_type": "markdown",
      "metadata": {
        "id": "bh20C74JymFZ"
      },
      "source": [
        "# 5. 파이썬을 이용한 과학 계산"
      ]
    },
    {
      "cell_type": "markdown",
      "metadata": {
        "id": "qPiwNu9XyxjA"
      },
      "source": [
        "## 5.1 개요와 사전준비"
      ]
    },
    {
      "cell_type": "markdown",
      "metadata": {
        "id": "BdRC96gHzTJ1"
      },
      "source": [
        "### 5.1.1 개요"
      ]
    },
    {
      "cell_type": "markdown",
      "metadata": {
        "id": "UvouC5UyzVaK"
      },
      "source": [
        "### 5.1.2 라이브러리 임포트"
      ]
    },
    {
      "cell_type": "code",
      "metadata": {
        "colab": {
          "base_uri": "https://localhost:8080/",
          "height": 35
        },
        "id": "kD0Z6Vk6zcV4",
        "outputId": "31e1927b-fdc2-49b2-b68d-51bdfc11c9f6"
      },
      "source": [
        "import numpy as np\n",
        "import numpy.random as random\n",
        "import scipy as sp\n",
        "\n",
        "import matplotlib.pyplot as plt\n",
        "import matplotlib as mpl\n",
        "%matplotlib inline\n",
        "%precision 3"
      ],
      "execution_count": 1,
      "outputs": [
        {
          "output_type": "execute_result",
          "data": {
            "application/vnd.google.colaboratory.intrinsic+json": {
              "type": "string"
            },
            "text/plain": [
              "'%.3f'"
            ]
          },
          "metadata": {
            "tags": []
          },
          "execution_count": 1
        }
      ]
    },
    {
      "cell_type": "markdown",
      "metadata": {
        "id": "qgKmEoqWy2rB"
      },
      "source": [
        "## 5.2 넘파이를 이용한 계산 방법"
      ]
    },
    {
      "cell_type": "markdown",
      "metadata": {
        "id": "drGwqC7oz1I2"
      },
      "source": [
        "### 5.2.1 인덱스 참조"
      ]
    },
    {
      "cell_type": "markdown",
      "metadata": {
        "id": "AAZD3x2d0q6g"
      },
      "source": [
        "데이터 참조"
      ]
    },
    {
      "cell_type": "code",
      "metadata": {
        "colab": {
          "base_uri": "https://localhost:8080/"
        },
        "id": "7Vu0nn2lz4Ch",
        "outputId": "b24c9b8d-43cf-47e9-9247-311bfcd90063"
      },
      "source": [
        "sample_array = np.arange(10)\n",
        "print('sample_array', sample_array)"
      ],
      "execution_count": 2,
      "outputs": [
        {
          "output_type": "stream",
          "text": [
            "sample_array [0 1 2 3 4 5 6 7 8 9]\n"
          ],
          "name": "stdout"
        }
      ]
    },
    {
      "cell_type": "code",
      "metadata": {
        "colab": {
          "base_uri": "https://localhost:8080/"
        },
        "id": "aECw_jni0AEV",
        "outputId": "da60937f-99b4-4c0f-b196-e5b76cad00c4"
      },
      "source": [
        "print(sample_array)\n",
        "sample_array_slice = sample_array[0:5]\n",
        "print(sample_array_slice)"
      ],
      "execution_count": 3,
      "outputs": [
        {
          "output_type": "stream",
          "text": [
            "[0 1 2 3 4 5 6 7 8 9]\n",
            "[0 1 2 3 4]\n"
          ],
          "name": "stdout"
        }
      ]
    },
    {
      "cell_type": "code",
      "metadata": {
        "colab": {
          "base_uri": "https://localhost:8080/"
        },
        "id": "kl6baz540J7T",
        "outputId": "a44d497f-0fa0-4478-ef49-d75add003dc0"
      },
      "source": [
        "sample_array_slice[0:3] = 10\n",
        "print(sample_array_slice)\n",
        "print(sample_array)\n",
        "\n",
        "# 슬라이싱은 원본 리스트의 원소 값도 변경한다는 점에 주의\n",
        "# 원래 변수 값도 바뀌는 이유는 복사가 아니라 참조하기 때문"
      ],
      "execution_count": 4,
      "outputs": [
        {
          "output_type": "stream",
          "text": [
            "[10 10 10  3  4]\n",
            "[10 10 10  3  4  5  6  7  8  9]\n"
          ],
          "name": "stdout"
        }
      ]
    },
    {
      "cell_type": "markdown",
      "metadata": {
        "id": "ZoGxd6T70ff1"
      },
      "source": [
        "데이터 복사"
      ]
    },
    {
      "cell_type": "code",
      "metadata": {
        "colab": {
          "base_uri": "https://localhost:8080/"
        },
        "id": "VOhJwtoh0fE6",
        "outputId": "67fc61ff-bbf5-42db-88a5-239adcda4655"
      },
      "source": [
        "sample_array_copy = np.copy(sample_array)\n",
        "print(sample_array_copy)\n",
        "\n",
        "sample_array_copy[0:3] = 20\n",
        "print(sample_array_copy)\n",
        "\n",
        "print(sample_array)\n",
        "# copy해서 다른 object를 생성하면 원본 리스트의 원소는 변경되지 않음"
      ],
      "execution_count": 9,
      "outputs": [
        {
          "output_type": "stream",
          "text": [
            "[10 10 10  3  4  5  6  7  8  9]\n",
            "[20 20 20  3  4  5  6  7  8  9]\n",
            "[10 10 10  3  4  5  6  7  8  9]\n"
          ],
          "name": "stdout"
        }
      ]
    },
    {
      "cell_type": "markdown",
      "metadata": {
        "id": "-FinDHPJ1PAh"
      },
      "source": [
        "불(boolean) 인덱스 참조"
      ]
    },
    {
      "cell_type": "code",
      "metadata": {
        "colab": {
          "base_uri": "https://localhost:8080/"
        },
        "id": "3AR_pXfH1U3r",
        "outputId": "0db3cd75-3bb8-4c21-b0fe-abf3a87abd5d"
      },
      "source": [
        "sample_names = np.array(['a', 'b', 'c', 'd', 'a'])\n",
        "random.seed(0)\n",
        "data = random.randn(5, 5)\n",
        "\n",
        "print(sample_names)\n",
        "print(data)"
      ],
      "execution_count": 11,
      "outputs": [
        {
          "output_type": "stream",
          "text": [
            "['a' 'b' 'c' 'd' 'a']\n",
            "[[ 1.764  0.4    0.979  2.241  1.868]\n",
            " [-0.977  0.95  -0.151 -0.103  0.411]\n",
            " [ 0.144  1.454  0.761  0.122  0.444]\n",
            " [ 0.334  1.494 -0.205  0.313 -0.854]\n",
            " [-2.553  0.654  0.864 -0.742  2.27 ]]\n"
          ],
          "name": "stdout"
        }
      ]
    },
    {
      "cell_type": "code",
      "metadata": {
        "colab": {
          "base_uri": "https://localhost:8080/"
        },
        "id": "D_3BlJsL1ryH",
        "outputId": "76592589-180f-4059-883b-605b17e556a0"
      },
      "source": [
        "sample_names == 'a'"
      ],
      "execution_count": 12,
      "outputs": [
        {
          "output_type": "execute_result",
          "data": {
            "text/plain": [
              "array([ True, False, False, False,  True])"
            ]
          },
          "metadata": {
            "tags": []
          },
          "execution_count": 12
        }
      ]
    },
    {
      "cell_type": "code",
      "metadata": {
        "colab": {
          "base_uri": "https://localhost:8080/"
        },
        "id": "dwSSWSF_1vmk",
        "outputId": "258867b9-8c89-4bea-f8bc-2f27839d7a85"
      },
      "source": [
        "data[sample_names == 'a']\n",
        "# 2차원 배열이므로 0번째와 네 번째 열이 추출"
      ],
      "execution_count": 13,
      "outputs": [
        {
          "output_type": "execute_result",
          "data": {
            "text/plain": [
              "array([[ 1.764,  0.4  ,  0.979,  2.241,  1.868],\n",
              "       [-2.553,  0.654,  0.864, -0.742,  2.27 ]])"
            ]
          },
          "metadata": {
            "tags": []
          },
          "execution_count": 13
        }
      ]
    },
    {
      "cell_type": "markdown",
      "metadata": {
        "id": "2Kd2o9iv1-KR"
      },
      "source": [
        "조건 제어\n",
        "\n",
        "* numpy.where(조건 배열, X 데이터, Y 데이터)"
      ]
    },
    {
      "cell_type": "code",
      "metadata": {
        "colab": {
          "base_uri": "https://localhost:8080/"
        },
        "id": "6IqA6nPp1_Fd",
        "outputId": "1a111872-5221-40c6-8abe-62ab32449b92"
      },
      "source": [
        "cond_data = np.array([True, True, False, False, True])\n",
        "x_array = np.array([1, 2, 3, 4, 5])\n",
        "y_array = np.array([100, 200, 300, 400, 500])\n",
        "print(np.where(cond_data, x_array, y_array))"
      ],
      "execution_count": 14,
      "outputs": [
        {
          "output_type": "stream",
          "text": [
            "[  1   2 300 400   5]\n"
          ],
          "name": "stdout"
        }
      ]
    },
    {
      "cell_type": "markdown",
      "metadata": {
        "id": "KtdMaMV12lBn"
      },
      "source": [
        "연습문제"
      ]
    },
    {
      "cell_type": "code",
      "metadata": {
        "id": "oSMvTaLe2p1k"
      },
      "source": [
        "# 5-1"
      ],
      "execution_count": 15,
      "outputs": []
    },
    {
      "cell_type": "code",
      "metadata": {
        "id": "Ey2wIgEH2ps2"
      },
      "source": [
        "# 5-2"
      ],
      "execution_count": 16,
      "outputs": []
    },
    {
      "cell_type": "code",
      "metadata": {
        "id": "E-isaRyN2pJq"
      },
      "source": [
        "# 5-3"
      ],
      "execution_count": 17,
      "outputs": []
    },
    {
      "cell_type": "markdown",
      "metadata": {
        "id": "mkuaI93t2qg7"
      },
      "source": [
        "### 5.2.2 넘파이를 이용한 연산 작업"
      ]
    },
    {
      "cell_type": "markdown",
      "metadata": {
        "id": "vNprmQXU21KS"
      },
      "source": [
        "중복 삭제"
      ]
    },
    {
      "cell_type": "code",
      "metadata": {
        "colab": {
          "base_uri": "https://localhost:8080/"
        },
        "id": "d3C6gkSi22vU",
        "outputId": "17a00c54-2204-417c-c620-a35d255d88ba"
      },
      "source": [
        "cond_data = np.array([True, True, False, False, True])\n",
        "\n",
        "print(cond_data)\n",
        "print(np.unique(cond_data))\n",
        "print(cond_data) # inplace 안됨"
      ],
      "execution_count": 21,
      "outputs": [
        {
          "output_type": "stream",
          "text": [
            "[ True  True False False  True]\n",
            "[False  True]\n",
            "[ True  True False False  True]\n"
          ],
          "name": "stdout"
        }
      ]
    },
    {
      "cell_type": "markdown",
      "metadata": {
        "id": "Q-qUdmdI3JwK"
      },
      "source": [
        "범용 함수\n",
        "\n",
        ": 모든 원소에 함수를 적용할 수 있는 기능\n",
        "\n"
      ]
    },
    {
      "cell_type": "code",
      "metadata": {
        "colab": {
          "base_uri": "https://localhost:8080/"
        },
        "id": "WlaSd7vq3JVA",
        "outputId": "66b7fcc1-2f7e-4726-c2a5-a6f7237efea9"
      },
      "source": [
        "sample_data = np.arange(10)\n",
        "print('원본 데이터 \\t\\t:', sample_data)\n",
        "print('모든 원소의 제곱근 \\t\\t:', np.sqrt(sample_data))\n",
        "print('모든 원소의 자연상수 지수함수 \\t:', np.exp(sample_data))"
      ],
      "execution_count": 24,
      "outputs": [
        {
          "output_type": "stream",
          "text": [
            "원본 데이터 \t\t: [0 1 2 3 4 5 6 7 8 9]\n",
            "모든 원소의 제곱근 \t\t: [0.    1.    1.414 1.732 2.    2.236 2.449 2.646 2.828 3.   ]\n",
            "모든 원소의 자연상수 지수함수 \t: [1.000e+00 2.718e+00 7.389e+00 2.009e+01 5.460e+01 1.484e+02 4.034e+02\n",
            " 1.097e+03 2.981e+03 8.103e+03]\n"
          ],
          "name": "stdout"
        }
      ]
    },
    {
      "cell_type": "markdown",
      "metadata": {
        "id": "8WxBwGhm38ne"
      },
      "source": [
        "최소, 최대, 평균, 합계 계산"
      ]
    },
    {
      "cell_type": "code",
      "metadata": {
        "colab": {
          "base_uri": "https://localhost:8080/"
        },
        "id": "Df-Dncab33VU",
        "outputId": "a32d8b30-9090-4599-9b90-21831abee9c9"
      },
      "source": [
        "sample_multi_array_data1 = np.arange(9).reshape(3, 3)\n",
        "print(sample_multi_array_data1)"
      ],
      "execution_count": 26,
      "outputs": [
        {
          "output_type": "stream",
          "text": [
            "[[0 1 2]\n",
            " [3 4 5]\n",
            " [6 7 8]]\n"
          ],
          "name": "stdout"
        }
      ]
    },
    {
      "cell_type": "code",
      "metadata": {
        "colab": {
          "base_uri": "https://localhost:8080/"
        },
        "id": "UHnrcQtD3JJ1",
        "outputId": "b17ab6b1-ce19-4787-c3f3-966894ecf2d2"
      },
      "source": [
        "print('최소값\\t:', sample_multi_array_data1.min())\n",
        "print('최대값\\t:', sample_multi_array_data1.max())\n",
        "print('평균\\t:', sample_multi_array_data1.mean())\n",
        "print('합계\\t:', sample_multi_array_data1.sum())\n",
        "\n",
        "print('행 합계\\t:', sample_multi_array_data1.sum(axis = 1))\n",
        "print('열 합계\\t:', sample_multi_array_data1.sum(axis = 0))"
      ],
      "execution_count": 34,
      "outputs": [
        {
          "output_type": "stream",
          "text": [
            "최소값\t: 0\n",
            "최대값\t: 8\n",
            "평균\t: 4.0\n",
            "합계\t: 36\n",
            "행 합계\t: [ 3 12 21]\n",
            "열 합계\t: [ 9 12 15]\n"
          ],
          "name": "stdout"
        }
      ]
    },
    {
      "cell_type": "code",
      "metadata": {
        "id": "VH8J3Xu03JCp"
      },
      "source": [
        ""
      ],
      "execution_count": null,
      "outputs": []
    },
    {
      "cell_type": "markdown",
      "metadata": {
        "id": "E7pLg99Ny-sS"
      },
      "source": [
        "## 5.3 사이파이 응용"
      ]
    },
    {
      "cell_type": "code",
      "metadata": {
        "id": "i3EIS2_NybkC"
      },
      "source": [
        ""
      ],
      "execution_count": null,
      "outputs": []
    }
  ]
}